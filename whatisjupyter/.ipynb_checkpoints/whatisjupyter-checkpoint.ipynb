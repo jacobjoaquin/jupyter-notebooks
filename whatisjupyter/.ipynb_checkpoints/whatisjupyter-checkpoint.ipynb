{
 "cells": [
  {
   "cell_type": "markdown",
   "metadata": {
    "slideshow": {
     "slide_type": "notes"
    }
   },
   "source": [
    "# What is Jupyter?\n",
    "\n",
    "By Jacob Joaquin\n",
    "\n",
    "email [Jacob@LoomAcademics.com](mailto:Jacob@LoomAcademics.com)<br>\n",
    "web http://LoomAcademics.com<br>\n",
    "twitter [@jacobjoaquin](https://twitter.com/JacobJoaquin)<br>\n",
    "tumblr [http://jacobjoaquin.tumblr.com/](http://jacobjoaquin.tumblr.com/)\n",
    "\n",
    "## About\n",
    "\n",
    "This is the campanion document I use when I present Jupyter / IPython Notebook in front of a crowd. This is a living document and changes from time to time. If you see any errors, please email me at [Jacob@LoomAcademics.com](mailto:Jacob@LoomAcademics.com).\n",
    "\n",
    "## Resetting the Document\n",
    "\n",
    "Make sure you reset the document before reading or presenting to ensure the document runs correclty. To rest, follow these steps:\n",
    "\n",
    "- Reset the Kernel\n",
    "- Reload the Page\n",
    "- Select Cell -> Run All\n",
    "\n",
    "## Boilerplate Code\n",
    "\n",
    "The following two cells contain boilerplate code to ensure the document runs correctly."
   ]
  },
  {
   "cell_type": "code",
   "execution_count": 1,
   "metadata": {
    "collapsed": false,
    "slideshow": {
     "slide_type": "skip"
    }
   },
   "outputs": [],
   "source": [
    "import matplotlib.pyplot as plt\n",
    "import numpy as np\n",
    "from pylab import *\n",
    "from random import random\n",
    "from math import *\n",
    "from IPython.display import HTML\n",
    "from IPython.display import Audio\n",
    "%matplotlib inline\n",
    "%config InlineBackend.figure_formats=['svg']"
   ]
  },
  {
   "cell_type": "code",
   "execution_count": 2,
   "metadata": {
    "collapsed": false,
    "slideshow": {
     "slide_type": "notes"
    }
   },
   "outputs": [
    {
     "data": {
      "text/html": [
       "<style>\n",
       ".full-center {\n",
       "    text-align: center;\n",
       "    width: 100%;\n",
       "}\n",
       "#typewriter {\n",
       "    font-family: \"American Typewriter\", \"Times New Roman\", serif;\n",
       "}\n",
       "</style>"
      ],
      "text/plain": [
       "<IPython.core.display.HTML object>"
      ]
     },
     "metadata": {},
     "output_type": "display_data"
    }
   ],
   "source": [
    "%%html\n",
    "<style>\n",
    ".full-center {\n",
    "    text-align: center;\n",
    "    width: 100%;\n",
    "}\n",
    "#typewriter {\n",
    "    font-family: \"American Typewriter\", \"Times New Roman\", serif;\n",
    "}\n",
    "</style>"
   ]
  },
  {
   "cell_type": "markdown",
   "metadata": {
    "slideshow": {
     "slide_type": "notes"
    }
   },
   "source": [
    "# Begin Slideshow"
   ]
  },
  {
   "cell_type": "markdown",
   "metadata": {
    "slideshow": {
     "slide_type": "slide"
    }
   },
   "source": [
    "<img src=\"jupyter-sq-text.svg\" width=\"50%\" \\>"
   ]
  },
  {
   "cell_type": "markdown",
   "metadata": {
    "slideshow": {
     "slide_type": "slide"
    }
   },
   "source": [
    "# Hello World\n",
    "\n",
    "#### I'm Jacob and I'm a Jupyter Superfan."
   ]
  },
  {
   "cell_type": "markdown",
   "metadata": {
    "slideshow": {
     "slide_type": "fragment"
    }
   },
   "source": [
    "Web: [LoomAcademics.com](http://loomacademics.com/)\n",
    "\n",
    "Twitter: [@jacobjoaquin](https://twitter.com/JacobJoaquin)\n",
    "\n",
    "Tumblr: http://jacobjoaquin.tumblr.com/\n",
    "\n",
    "Facebook: https://www.facebook.com/jacob.joaquin"
   ]
  },
  {
   "cell_type": "markdown",
   "metadata": {
    "slideshow": {
     "slide_type": "slide"
    }
   },
   "source": [
    "#What is Jupyter?"
   ]
  },
  {
   "cell_type": "markdown",
   "metadata": {
    "slideshow": {
     "slide_type": "fragment"
    }
   },
   "source": [
    "\"(Jupyter) is an interactive computational environment, in which you can combine code execution, rich text, mathematics, plots and rich media.\"\n",
    "\n",
    "([source](http://ipython.org/notebook.html))"
   ]
  },
  {
   "cell_type": "markdown",
   "metadata": {
    "slideshow": {
     "slide_type": "slide"
    }
   },
   "source": [
    "# What is the Jupyter Notebook?"
   ]
  },
  {
   "cell_type": "markdown",
   "metadata": {
    "slideshow": {
     "slide_type": "fragment"
    }
   },
   "source": [
    "\"The Jupyter Notebook is an **interactive computing environment** that enables users to author notebook documents.\""
   ]
  },
  {
   "cell_type": "markdown",
   "metadata": {
    "slideshow": {
     "slide_type": "fragment"
    }
   },
   "source": [
    "- Live code\n",
    "- Interactive widgets\n",
    "- Plots\n",
    "- Narrative text\n",
    "- Equations\n",
    "- Images\n",
    "- Video\n",
    "\n",
    "([source](https://github.com/jupyter/notebook/blob/46d19cfc8f05bbb50508253317f9a2d4a3b9ea81/examples/Notebook/What%20is%20the%20Jupyter%20Notebook.ipynb))"
   ]
  },
  {
   "cell_type": "markdown",
   "metadata": {
    "slideshow": {
     "slide_type": "slide"
    }
   },
   "source": [
    "# Live Code"
   ]
  },
  {
   "cell_type": "markdown",
   "metadata": {
    "slideshow": {
     "slide_type": "fragment"
    }
   },
   "source": [
    "- \"complete and self-contained record of a computation\""
   ]
  },
  {
   "cell_type": "markdown",
   "metadata": {
    "slideshow": {
     "slide_type": "fragment"
    }
   },
   "source": [
    "- Streamlines the authoring process by incorporating the execution and the displaying of the results of code within the document."
   ]
  },
  {
   "cell_type": "code",
   "execution_count": 3,
   "metadata": {
    "collapsed": false,
    "scrolled": true,
    "slideshow": {
     "slide_type": "fragment"
    }
   },
   "outputs": [
    {
     "name": "stdout",
     "output_type": "stream",
     "text": [
      "Hello World\n"
     ]
    }
   ],
   "source": [
    "print(\"Hello World\")"
   ]
  },
  {
   "cell_type": "code",
   "execution_count": 4,
   "metadata": {
    "collapsed": false,
    "slideshow": {
     "slide_type": "fragment"
    }
   },
   "outputs": [
    {
     "name": "stdout",
     "output_type": "stream",
     "text": [
      "0, 1, 4, 9, 16, 25, 36, 49, 64, 81, 100\n"
     ]
    }
   ],
   "source": [
    "print ', '.join([str(i ** 2) for i in range(11)])"
   ]
  },
  {
   "cell_type": "markdown",
   "metadata": {
    "slideshow": {
     "slide_type": "slide"
    }
   },
   "source": [
    "# That's Python code. Why is that?"
   ]
  },
  {
   "cell_type": "markdown",
   "metadata": {
    "slideshow": {
     "slide_type": "fragment"
    }
   },
   "source": [
    "- The Jupyter Project is an evolution of IPython"
   ]
  },
  {
   "cell_type": "markdown",
   "metadata": {
    "slideshow": {
     "slide_type": "fragment"
    }
   },
   "source": [
    "- IPython == Interactive Python"
   ]
  },
  {
   "cell_type": "markdown",
   "metadata": {
    "slideshow": {
     "slide_type": "fragment"
    }
   },
   "source": [
    "- IPython created by [Fernando Perez](http://fperez.org/)\n",
    "    - Created while a grad student in 2001\n",
    "    - Staff scientist at the Data Science and Technology Division of Lawrence Berkeley National Laboratory\n",
    "    - Researcher at the Berkeley Institute for Data Science"
   ]
  },
  {
   "cell_type": "markdown",
   "metadata": {
    "slideshow": {
     "slide_type": "slide"
    }
   },
   "source": [
    "IPython supports more than Python, like **Ruby** and **Javascript**."
   ]
  },
  {
   "cell_type": "markdown",
   "metadata": {
    "slideshow": {
     "slide_type": "fragment"
    }
   },
   "source": [
    "Hence the need to rebrand."
   ]
  },
  {
   "cell_type": "markdown",
   "metadata": {
    "slideshow": {
     "slide_type": "fragment"
    }
   },
   "source": [
    "Jupyter includes the **agnostic parts** of IPython."
   ]
  },
  {
   "cell_type": "code",
   "execution_count": 5,
   "metadata": {
    "collapsed": false,
    "slideshow": {
     "slide_type": "slide"
    }
   },
   "outputs": [
    {
     "name": "stdout",
     "output_type": "stream",
     "text": [
      "Hello Ruby\n"
     ]
    }
   ],
   "source": [
    "%%ruby\n",
    "puts 'Hello Ruby'"
   ]
  },
  {
   "cell_type": "code",
   "execution_count": 6,
   "metadata": {
    "collapsed": false,
    "slideshow": {
     "slide_type": "fragment"
    }
   },
   "outputs": [
    {
     "data": {
      "application/javascript": [
       "$('#js-helloworld').text('Hello Javascript');"
      ],
      "text/plain": [
       "<IPython.core.display.Javascript object>"
      ]
     },
     "metadata": {},
     "output_type": "display_data"
    }
   ],
   "source": [
    "%%javascript\n",
    "$('#js-helloworld').text('Hello Javascript');"
   ]
  },
  {
   "cell_type": "markdown",
   "metadata": {
    "slideshow": {
     "slide_type": "-"
    }
   },
   "source": [
    "<p id=\"js-helloworld\"></p>"
   ]
  },
  {
   "cell_type": "code",
   "execution_count": 7,
   "metadata": {
    "collapsed": false,
    "slideshow": {
     "slide_type": "fragment"
    }
   },
   "outputs": [
    {
     "name": "stdout",
     "output_type": "stream",
     "text": [
      "Hello Bash\n"
     ]
    }
   ],
   "source": [
    "%%bash\n",
    "echo Hello Bash"
   ]
  },
  {
   "cell_type": "markdown",
   "metadata": {
    "slideshow": {
     "slide_type": "slide"
    }
   },
   "source": [
    "# Kernels\n",
    "\n",
    "1. IJulia\n",
    "- IHaskell\n",
    "- IFSharp\n",
    "- IRuby\n",
    "- IGo\n",
    "- IScala\n",
    "- IMathics\n",
    "- IAldor\n",
    "- Calico Project - kernels implemented in Mono, including Java, IronPython, Boo, Logo, BASIC, and many others\n",
    "- LuaJIT/Torch\n",
    "- Lua Kernel\n",
    "- Simple example kernel\n",
    "- IRKernel (for the R language)\n",
    "- IErlang\n",
    "- IOCaml\n",
    "- IForth\n",
    "- IPerl\n",
    "- IPerl6\n",
    "- IOctave\n",
    "- IScilab\n",
    "- IMatlab\n",
    "- ICSharp\n",
    "- Bash\n",
    "- Clojure Kernel\n",
    "- Hy Kernel\n",
    "- Redis Kernel\n",
    "- jove, a kernel for io.js\n",
    "- IJavascript\n",
    "- Calysto Scheme\n",
    "- Calysto Processing\n",
    "- idl_kernel\n",
    "- Mochi Kernel\n",
    "- Lua (used in Splash)\n",
    "- Spark Kernel\n",
    "- Skulpt Python Kernel\n",
    "- MetaKernel Bash\n",
    "- MetaKernel Python\n",
    "- Brython Kernel\n",
    "- IVisual VPython Kernel\n",
    "- Brainfuck Kernel (IBrainfuck)\n",
    "- KDB+/Q Kernel (IKdbQ)\n",
    "- ICryptol\n",
    "\n",
    "[source](https://github.com/ipython/ipython/wiki/IPython-kernels-for-other-languages)"
   ]
  },
  {
   "cell_type": "markdown",
   "metadata": {
    "slideshow": {
     "slide_type": "slide"
    }
   },
   "source": [
    "# Let's Try it Out\n",
    "\n",
    "## https://try.jupyter.org/"
   ]
  },
  {
   "cell_type": "markdown",
   "metadata": {
    "slideshow": {
     "slide_type": "slide"
    }
   },
   "source": [
    "# Under the Hood"
   ]
  },
  {
   "cell_type": "markdown",
   "metadata": {
    "slideshow": {
     "slide_type": "slide"
    }
   },
   "source": [
    "## .ipynb\n",
    "\n",
    "The `.ipynb` files are text documents with data stored as Javascript Object Notation Files (JSON)"
   ]
  },
  {
   "cell_type": "code",
   "execution_count": 8,
   "metadata": {
    "collapsed": false,
    "slideshow": {
     "slide_type": "slide"
    }
   },
   "outputs": [
    {
     "name": "stdout",
     "output_type": "stream",
     "text": [
      "{\r\n",
      " \"cells\": [\r\n",
      "  {\r\n",
      "   \"cell_type\": \"markdown\",\r\n",
      "   \"metadata\": {},\r\n",
      "   \"source\": [\r\n",
      "    \"# Hello World\"\r\n",
      "   ]\r\n",
      "  },\r\n",
      "  {\r\n",
      "   \"cell_type\": \"code\",\r\n",
      "   \"execution_count\": 1,\r\n",
      "   \"metadata\": {\r\n",
      "    \"collapsed\": false\r\n",
      "   },\r\n",
      "   \"outputs\": [\r\n",
      "    {\r\n",
      "     \"name\": \"stdout\",\r\n",
      "     \"output_type\": \"stream\",\r\n",
      "     \"text\": [\r\n",
      "      \"Hello World\\n\"\r\n",
      "     ]\r\n",
      "    }\r\n",
      "   ],\r\n",
      "   \"source\": [\r\n",
      "    \"print('Hello World')\"\r\n",
      "   ]\r\n",
      "  },\r\n",
      "  {\r\n",
      "   \"cell_type\": \"code\",\r\n",
      "   \"execution_count\": 2,\r\n",
      "   \"metadata\": {\r\n",
      "    \"collapsed\": false\r\n",
      "   },\r\n",
      "   \"outputs\": [\r\n",
      "    {\r\n",
      "     \"name\": \"stdout\",\r\n",
      "     \"output_type\": \"stream\",\r\n",
      "     \"text\": [\r\n",
      "      \"Hello World\\n\"\r\n",
      "     ]\r\n",
      "    }\r\n",
      "   ],\r\n",
      "   \"source\": [\r\n",
      "    \"%%ruby\\n\",\r\n",
      "    \"puts('Hello World')\"\r\n",
      "   ]\r\n",
      "  },\r\n",
      "  {\r\n",
      "   \"cell_type\": \"code\",\r\n",
      "   \"execution_count\": 3,\r\n",
      "   \"metadata\": {\r\n",
      "    \"collapsed\": false\r\n",
      "   },\r\n",
      "   \"outputs\": [\r\n",
      "    {\r\n",
      "     \"data\": {\r\n",
      "      \"text/html\": [\r\n",
      "       \"<p>Hello World</p>\"\r\n",
      "      ],\r\n",
      "      \"text/plain\": [\r\n",
      "       \"<IPython.core.display.HTML object>\"\r\n",
      "      ]\r\n",
      "     },\r\n",
      "     \"metadata\": {},\r\n",
      "     \"output_type\": \"display_data\"\r\n",
      "    }\r\n",
      "   ],\r\n",
      "   \"source\": [\r\n",
      "    \"%%html\\n\",\r\n",
      "    \"<p>Hello World</p>\"\r\n",
      "   ]\r\n",
      "  },\r\n",
      "  {\r\n",
      "   \"cell_type\": \"code\",\r\n",
      "   \"execution_count\": 4,\r\n",
      "   \"metadata\": {\r\n",
      "    \"collapsed\": false\r\n",
      "   },\r\n",
      "   \"outputs\": [\r\n",
      "    {\r\n",
      "     \"data\": {\r\n",
      "      \"application/javascript\": [\r\n",
      "       \"$('.hw').text('Hello World')\"\r\n",
      "      ],\r\n",
      "      \"text/plain\": [\r\n",
      "       \"<IPython.core.display.Javascript object>\"\r\n",
      "      ]\r\n",
      "     },\r\n",
      "     \"metadata\": {},\r\n",
      "     \"output_type\": \"display_data\"\r\n",
      "    }\r\n",
      "   ],\r\n",
      "   \"source\": [\r\n",
      "    \"%%javascript\\n\",\r\n",
      "    \"$('.hw').text('Hello World')\"\r\n",
      "   ]\r\n",
      "  },\r\n",
      "  {\r\n",
      "   \"cell_type\": \"markdown\",\r\n",
      "   \"metadata\": {},\r\n",
      "   \"source\": [\r\n",
      "    \"<p class=\\\"hw\\\"></p>\"\r\n",
      "   ]\r\n",
      "  },\r\n",
      "  {\r\n",
      "   \"cell_type\": \"code\",\r\n",
      "   \"execution_count\": 5,\r\n",
      "   \"metadata\": {\r\n",
      "    \"collapsed\": false\r\n",
      "   },\r\n",
      "   \"outputs\": [\r\n",
      "    {\r\n",
      "     \"name\": \"stdout\",\r\n",
      "     \"output_type\": \"stream\",\r\n",
      "     \"text\": [\r\n",
      "      \"Hello World\"\r\n",
      "     ]\r\n",
      "    }\r\n",
      "   ],\r\n",
      "   \"source\": [\r\n",
      "    \"%%perl\\n\",\r\n",
      "    \"print 'Hello World'\"\r\n",
      "   ]\r\n",
      "  },\r\n",
      "  {\r\n",
      "   \"cell_type\": \"code\",\r\n",
      "   \"execution_count\": 6,\r\n",
      "   \"metadata\": {\r\n",
      "    \"collapsed\": false\r\n",
      "   },\r\n",
      "   \"outputs\": [\r\n",
      "    {\r\n",
      "     \"data\": {\r\n",
      "      \"image/svg+xml\": [\r\n",
      "       \"<svg height=\\\"60\\\" width=\\\"300\\\">\\n\",\r\n",
      "       \"  <text font-size=\\\"50\\\" x=\\\"0\\\" y=\\\"50\\\">Hello World</text>\\n\",\r\n",
      "       \"</svg>\"\r\n",
      "      ],\r\n",
      "      \"text/plain\": [\r\n",
      "       \"<IPython.core.display.SVG object>\"\r\n",
      "      ]\r\n",
      "     },\r\n",
      "     \"metadata\": {},\r\n",
      "     \"output_type\": \"display_data\"\r\n",
      "    }\r\n",
      "   ],\r\n",
      "   \"source\": [\r\n",
      "    \"%%SVG\\n\",\r\n",
      "    \"<svg height=\\\"60\\\" width=\\\"300\\\">\\n\",\r\n",
      "    \"  <text x=\\\"0\\\" y=\\\"50\\\" font-size=\\\"50\\\">Hello World</text>\\n\",\r\n",
      "    \"</svg>\"\r\n",
      "   ]\r\n",
      "  },\r\n",
      "  {\r\n",
      "   \"cell_type\": \"code\",\r\n",
      "   \"execution_count\": 7,\r\n",
      "   \"metadata\": {\r\n",
      "    \"collapsed\": false\r\n",
      "   },\r\n",
      "   \"outputs\": [\r\n",
      "    {\r\n",
      "     \"name\": \"stdout\",\r\n",
      "     \"output_type\": \"stream\",\r\n",
      "     \"text\": [\r\n",
      "      \"Hello World\\n\"\r\n",
      "     ]\r\n",
      "    }\r\n",
      "   ],\r\n",
      "   \"source\": [\r\n",
      "    \"%%bash\\n\",\r\n",
      "    \"echo Hello World\"\r\n",
      "   ]\r\n",
      "  },\r\n",
      "  {\r\n",
      "   \"cell_type\": \"code\",\r\n",
      "   \"execution_count\": 8,\r\n",
      "   \"metadata\": {\r\n",
      "    \"collapsed\": false\r\n",
      "   },\r\n",
      "   \"outputs\": [\r\n",
      "    {\r\n",
      "     \"data\": {\r\n",
      "      \"text/latex\": [\r\n",
      "       \"Hello World\"\r\n",
      "      ],\r\n",
      "      \"text/plain\": [\r\n",
      "       \"<IPython.core.display.Latex object>\"\r\n",
      "      ]\r\n",
      "     },\r\n",
      "     \"metadata\": {},\r\n",
      "     \"output_type\": \"display_data\"\r\n",
      "    }\r\n",
      "   ],\r\n",
      "   \"source\": [\r\n",
      "    \"%%latex\\n\",\r\n",
      "    \"Hello World\"\r\n",
      "   ]\r\n",
      "  }\r\n",
      " ],\r\n",
      " \"metadata\": {\r\n",
      "  \"kernelspec\": {\r\n",
      "   \"display_name\": \"Python 3\",\r\n",
      "   \"language\": \"python\",\r\n",
      "   \"name\": \"python3\"\r\n",
      "  },\r\n",
      "  \"language_info\": {\r\n",
      "   \"codemirror_mode\": {\r\n",
      "    \"name\": \"ipython\",\r\n",
      "    \"version\": 3\r\n",
      "   },\r\n",
      "   \"file_extension\": \".py\",\r\n",
      "   \"mimetype\": \"text/x-python\",\r\n",
      "   \"name\": \"python\",\r\n",
      "   \"nbconvert_exporter\": \"python\",\r\n",
      "   \"pygments_lexer\": \"ipython3\",\r\n",
      "   \"version\": \"3.4.3\"\r\n",
      "  }\r\n",
      " },\r\n",
      " \"nbformat\": 4,\r\n",
      " \"nbformat_minor\": 0\r\n",
      "}\r\n"
     ]
    }
   ],
   "source": [
    "!cat HelloWorld.ipynb"
   ]
  },
  {
   "cell_type": "markdown",
   "metadata": {
    "slideshow": {
     "slide_type": "slide"
    }
   },
   "source": [
    "## Jupyter's Technology Stack"
   ]
  },
  {
   "cell_type": "markdown",
   "metadata": {
    "slideshow": {
     "slide_type": "fragment"
    }
   },
   "source": [
    "- IPython\n",
    "- ØMQ\n",
    "- Tornado (web server)\n",
    "- jQuery\n",
    "- Bootstrap (front-end framework)\n",
    "- MathJax"
   ]
  },
  {
   "cell_type": "markdown",
   "metadata": {
    "slideshow": {
     "slide_type": "fragment"
    }
   },
   "source": [
    "*(all open source)*"
   ]
  },
  {
   "cell_type": "markdown",
   "metadata": {
    "slideshow": {
     "slide_type": "slide"
    }
   },
   "source": [
    "# Jupyter is an Emerging Platform"
   ]
  },
  {
   "cell_type": "markdown",
   "metadata": {
    "slideshow": {
     "slide_type": "slide"
    }
   },
   "source": [
    "## The Jupyter Community\n",
    "\n",
    "- Data Science    \n",
    "- Publishing\n",
    "- Education"
   ]
  },
  {
   "cell_type": "markdown",
   "metadata": {
    "slideshow": {
     "slide_type": "slide"
    }
   },
   "source": [
    "## Open Source"
   ]
  },
  {
   "cell_type": "markdown",
   "metadata": {
    "slideshow": {
     "slide_type": "fragment"
    }
   },
   "source": [
    "- Technology Stack is built on Open Source"
   ]
  },
  {
   "cell_type": "markdown",
   "metadata": {
    "slideshow": {
     "slide_type": "fragment"
    }
   },
   "source": [
    "- Jupyter documents themselves are Open Source"
   ]
  },
  {
   "cell_type": "markdown",
   "metadata": {
    "slideshow": {
     "slide_type": "slide"
    }
   },
   "source": [
    "Jupyter is a tool that is perfectly designed to help enable and propagate the **Open Sourcing of Ideas**"
   ]
  },
  {
   "cell_type": "markdown",
   "metadata": {
    "slideshow": {
     "slide_type": "slide"
    }
   },
   "source": [
    "## O'Reilly Media's Atlas Platform"
   ]
  },
  {
   "cell_type": "markdown",
   "metadata": {
    "slideshow": {
     "slide_type": "fragment"
    }
   },
   "source": [
    "Jupyter Notebooks is a first class authoring environment for their publishing program. ([source](https://beta.oreilly.com/ideas/jupyter-at-oreilly))"
   ]
  },
  {
   "cell_type": "markdown",
   "metadata": {
    "slideshow": {
     "slide_type": "fragment"
    }
   },
   "source": [
    "\"IPython Notebooks have consistently been one of the most requested features for our publishing program\""
   ]
  },
  {
   "cell_type": "markdown",
   "metadata": {
    "slideshow": {
     "slide_type": "fragment"
    }
   },
   "source": [
    "\"Knowing that the learner will be actively engaged with the content, not just passively reading, changes the nature of what’s possible.\""
   ]
  },
  {
   "cell_type": "markdown",
   "metadata": {
    "slideshow": {
     "slide_type": "slide"
    }
   },
   "source": [
    "## GitHub"
   ]
  },
  {
   "cell_type": "markdown",
   "metadata": {
    "slideshow": {
     "slide_type": "fragment"
    }
   },
   "source": [
    "Jupyter notebooks solves problems by \"making it easy to capture data-driven workflows that combine code, equations, text and visualizations and share them with others.\" ([source](https://github.com/blog/1995-github-jupyter-notebooks-3))"
   ]
  },
  {
   "cell_type": "markdown",
   "metadata": {
    "slideshow": {
     "slide_type": "fragment"
    }
   },
   "source": [
    "Jupyter Notebooks render on GitHub"
   ]
  },
  {
   "cell_type": "markdown",
   "metadata": {
    "slideshow": {
     "slide_type": "fragment"
    }
   },
   "source": [
    "200,000+ Jupyter Notebooks on GitHub"
   ]
  },
  {
   "cell_type": "markdown",
   "metadata": {
    "slideshow": {
     "slide_type": "slide"
    }
   },
   "source": [
    "# Learning and Understanding Jupyter Notebook"
   ]
  },
  {
   "cell_type": "markdown",
   "metadata": {
    "slideshow": {
     "slide_type": "slide"
    }
   },
   "source": [
    "##Code Execution"
   ]
  },
  {
   "cell_type": "code",
   "execution_count": 9,
   "metadata": {
    "collapsed": true,
    "slideshow": {
     "slide_type": "fragment"
    }
   },
   "outputs": [],
   "source": [
    "def get_letter_count(string):\n",
    "    '''Create and return a dict containing the letter count of a string'''\n",
    "    \n",
    "    alphabet = 'ABCDEFGHIJKLMNOPQRSTUVWXYZ';\n",
    "    letter_count = {letter: 0 for letter in alphabet}\n",
    "\n",
    "    for char in string.upper():\n",
    "        if char in alphabet:\n",
    "            letter_count[char] += 1\n",
    "\n",
    "    return letter_count"
   ]
  },
  {
   "cell_type": "code",
   "execution_count": 10,
   "metadata": {
    "collapsed": false,
    "slideshow": {
     "slide_type": "slide"
    }
   },
   "outputs": [
    {
     "data": {
      "text/plain": [
       "{'A': 1,\n",
       " 'B': 1,\n",
       " 'C': 1,\n",
       " 'D': 1,\n",
       " 'E': 3,\n",
       " 'F': 1,\n",
       " 'G': 1,\n",
       " 'H': 2,\n",
       " 'I': 1,\n",
       " 'J': 1,\n",
       " 'K': 1,\n",
       " 'L': 1,\n",
       " 'M': 1,\n",
       " 'N': 1,\n",
       " 'O': 4,\n",
       " 'P': 1,\n",
       " 'Q': 1,\n",
       " 'R': 2,\n",
       " 'S': 1,\n",
       " 'T': 2,\n",
       " 'U': 2,\n",
       " 'V': 1,\n",
       " 'W': 1,\n",
       " 'X': 1,\n",
       " 'Y': 1,\n",
       " 'Z': 1}"
      ]
     },
     "execution_count": 10,
     "metadata": {},
     "output_type": "execute_result"
    }
   ],
   "source": [
    "qbf_text = 'The quick brown fox jumps over the lazy dog.'\n",
    "qbf_letter_counter = get_letter_count(qbf_text)\n",
    "qbf_letter_counter"
   ]
  },
  {
   "cell_type": "markdown",
   "metadata": {
    "slideshow": {
     "slide_type": "slide"
    }
   },
   "source": [
    "\n",
    "## Rich Text"
   ]
  },
  {
   "cell_type": "markdown",
   "metadata": {
    "slideshow": {
     "slide_type": "fragment"
    }
   },
   "source": [
    "- Markdown\n",
    "- HTML\n",
    "- LaTeX"
   ]
  },
  {
   "cell_type": "markdown",
   "metadata": {
    "slideshow": {
     "slide_type": "slide"
    }
   },
   "source": [
    "# Markdown Code"
   ]
  },
  {
   "cell_type": "markdown",
   "metadata": {
    "slideshow": {
     "slide_type": "fragment"
    }
   },
   "source": [
    "### code that is seen but not executed"
   ]
  },
  {
   "cell_type": "markdown",
   "metadata": {
    "slideshow": {
     "slide_type": "fragment"
    }
   },
   "source": [
    "`The *quick* **brown** fox *jumps* over the **lazy** ~~cat~~ dog.`"
   ]
  },
  {
   "cell_type": "markdown",
   "metadata": {
    "slideshow": {
     "slide_type": "fragment"
    }
   },
   "source": [
    "The *quick* **brown** fox *jumps* over the **lazy** ~~cat~~ dog."
   ]
  },
  {
   "cell_type": "markdown",
   "metadata": {
    "slideshow": {
     "slide_type": "slide"
    }
   },
   "source": [
    "### Outlines with Markdown\n",
    "\n",
    "```\n",
    "- History of HTML\n",
    "    - *\"As We May Think\"*, Vannevar Bush [Atlantic Journal]()\n",
    "        - Published in 1945\n",
    "        - Predicted devices with *mass storage* and *associative data*\n",
    "        - Ideas were precursory to the *Hyperlinks* and *World Wide Web*\n",
    "    - [Arpanet](http://en.wikipedia.org/wiki/ARPANET)\n",
    "        - Precursor to the Internet\n",
    "        - Originally conceived by the RAND corporation to de-centralize nations network systems in case of nuclear attack (disputed).\n",
    "        - Four original Interface Message Processors (IMPs)\n",
    "            - UC Santa Barabara, CA\n",
    "            - UCLA, CA\n",
    "            - Augmentation Research Center, Stanford, CA\n",
    "            - The University of Utah, UT\n",
    "    - Markup Language\n",
    "        - A way of typsetting for digital documents\n",
    "        - Separating **Content** from **Form**\n",
    "        - SGML, HTML, TeX, LaTeX, Markdown```"
   ]
  },
  {
   "cell_type": "markdown",
   "metadata": {
    "slideshow": {
     "slide_type": "slide"
    }
   },
   "source": [
    "- History of HTML\n",
    "    - *\"As We May Think\"*, Vannevar Bush [Atlantic Journal]()\n",
    "        - Published in 1945\n",
    "        - Predicted devices with *mass storage* and *associative data*\n",
    "        - Ideas were precursory to the *Hyperlinks* and *World Wide Web*\n",
    "    - [Arpanet](http://en.wikipedia.org/wiki/ARPANET)\n",
    "        - Precursor to the Internet\n",
    "        - Originally conceived by the RAND corporation to de-centralize nations network systems in case of nuclear attack (disputed).\n",
    "        - Four original Interface Message Processors (IMPs)\n",
    "            - UC Santa Barabara, CA\n",
    "            - UCLA, CA\n",
    "            - Augmentation Research Center, Stanford, CA\n",
    "            - The University of Utah, UT\n",
    "    - Markup Language\n",
    "        - A way of typsetting for digital documents\n",
    "        - Separating **Content** from **Form**\n",
    "        - SGML, HTML, TeX, LaTeX, Markdown"
   ]
  },
  {
   "cell_type": "markdown",
   "metadata": {
    "slideshow": {
     "slide_type": "fragment"
    }
   },
   "source": [
    "Content between single-backticks on a single line are displayed in `monospace`.\n",
    "\n",
    "- Great for talking about variable `foo` or function `bar()`."
   ]
  },
  {
   "cell_type": "markdown",
   "metadata": {
    "slideshow": {
     "slide_type": "fragment"
    }
   },
   "source": [
    "Block content is displayed in `monospace` when between triple-backticks:\n",
    "\n",
    "```\n",
    "var foo = function () {\n",
    "    console.log('bar');\n",
    "}\n",
    "```"
   ]
  },
  {
   "cell_type": "markdown",
   "metadata": {
    "slideshow": {
     "slide_type": "slide"
    }
   },
   "source": [
    "### Code Blocks w/ Syntax Highlighting"
   ]
  },
  {
   "cell_type": "markdown",
   "metadata": {
    "slideshow": {
     "slide_type": "fragment"
    }
   },
   "source": [
    "```python\n",
    "def get_letter_count(string):\n",
    "    '''Create and return a dict containing the letter count of a string'''\n",
    "    \n",
    "    alphabet = 'ABCDEFGHIJKLMNOPQRSTUVWXYZ';\n",
    "    letter_count = {letter: 0 for letter in alphabet}\n",
    "\n",
    "    for char in string.upper():\n",
    "        if char in alphabet:\n",
    "            letter_count[char] += 1\n",
    "\n",
    "    return letter_count\n",
    "```\n"
   ]
  },
  {
   "cell_type": "markdown",
   "metadata": {
    "slideshow": {
     "slide_type": "slide"
    }
   },
   "source": [
    "## HTML"
   ]
  },
  {
   "cell_type": "markdown",
   "metadata": {
    "slideshow": {
     "slide_type": "fragment"
    }
   },
   "source": [
    "HTML tags can be used directly in a **Markdown** cell."
   ]
  },
  {
   "cell_type": "markdown",
   "metadata": {
    "slideshow": {
     "slide_type": "slide"
    }
   },
   "source": [
    "```html\n",
    "<div>\n",
    "    <h1>Header 1</h1>\n",
    "    <p>paragraph<br>\n",
    "    with line break.</p>\n",
    "    <ul>\n",
    "        <li>List item 1</li>\n",
    "        <li>List item 2</li>\n",
    "        <li>List item 3</li>\n",
    "    </ul>\n",
    "    <p>Here is a <span>span</span>.</p>\n",
    "    <p>And you can <span style=\"color: red\">style</span>, too</p>\n",
    "</div>```"
   ]
  },
  {
   "cell_type": "markdown",
   "metadata": {
    "slideshow": {
     "slide_type": "slide"
    }
   },
   "source": [
    "<div>\n",
    "    <h1>Header 1</h1>\n",
    "    <p>paragraph<br>\n",
    "    with line break.</p>\n",
    "    <ul>\n",
    "        <li>List item 1</li>\n",
    "        <li>List item 2</li>\n",
    "        <li>List item 3</li>\n",
    "    </ul>\n",
    "    <p>Here is a <span>span</span>.</p>\n",
    "    <p>And you can <span style=\"color: red\">style</span>, too</p>\n",
    "</div>"
   ]
  },
  {
   "cell_type": "markdown",
   "metadata": {
    "slideshow": {
     "slide_type": "slide"
    }
   },
   "source": [
    "## CSS"
   ]
  },
  {
   "cell_type": "markdown",
   "metadata": {
    "slideshow": {
     "slide_type": "fragment"
    }
   },
   "source": [
    "- The `<style>` tag is non-functional in a markdown cell.\n",
    "- Users can write full HTML and CSS in a code cell with **`%%html`** magic."
   ]
  },
  {
   "cell_type": "code",
   "execution_count": 11,
   "metadata": {
    "collapsed": false,
    "slideshow": {
     "slide_type": "slide"
    }
   },
   "outputs": [
    {
     "data": {
      "text/html": [
       "<style>\n",
       "#brownfox {\n",
       "    color: #a05011;\n",
       "    font-size: 200%;\n",
       "    padding: 10px;\n",
       "    font-weight: bold;\n",
       "}\n",
       "#lazydog {\n",
       "    color: #0000ff;\n",
       "    font-style: italic;\n",
       "    letter-spacing: 5px;\n",
       "    font-size: 200%;\n",
       "    padding: 10px;\n",
       "}\n",
       "</style>\n",
       "<p>The <span id=\"brownfox\">quick brown fox</span>\n",
       "jumps over the <span id=\"lazydog\">lazy dog</span>.</p>"
      ],
      "text/plain": [
       "<IPython.core.display.HTML object>"
      ]
     },
     "metadata": {},
     "output_type": "display_data"
    }
   ],
   "source": [
    "%%html\n",
    "<style>\n",
    "#brownfox {\n",
    "    color: #a05011;\n",
    "    font-size: 200%;\n",
    "    padding: 10px;\n",
    "    font-weight: bold;\n",
    "}\n",
    "#lazydog {\n",
    "    color: #0000ff;\n",
    "    font-style: italic;\n",
    "    letter-spacing: 5px;\n",
    "    font-size: 200%;\n",
    "    padding: 10px;\n",
    "}\n",
    "</style>\n",
    "<p>The <span id=\"brownfox\">quick brown fox</span>\n",
    "jumps over the <span id=\"lazydog\">lazy dog</span>.</p>"
   ]
  },
  {
   "cell_type": "markdown",
   "metadata": {
    "slideshow": {
     "slide_type": "slide"
    }
   },
   "source": [
    "## Javascript\n",
    "\n",
    "- The `<script>` tag is non-functioning in the markdown cell.\n",
    "- Users can write HTML, CSS, and Javascript in a code cell with **`%%html`** magic"
   ]
  },
  {
   "cell_type": "code",
   "execution_count": 12,
   "metadata": {
    "collapsed": false,
    "slideshow": {
     "slide_type": "slide"
    }
   },
   "outputs": [
    {
     "data": {
      "text/html": [
       "<style>\n",
       ".blink {\n",
       "    font-size: 400%;\n",
       "    padding: 60px;    \n",
       "    font-family: \"DejaVu Serif\", serif;\n",
       "}\n",
       "</style>\n",
       "<script>\n",
       "(function () {\n",
       "    var isVisible = false;\n",
       "    setInterval(function () {\n",
       "        isVisible = !isVisible;\n",
       "        $('.blink').css('visibility', isVisible ? 'visible' : 'hidden');\n",
       "    }, 500);\n",
       "})();\n",
       "</script>\n",
       "<div class=\"blink\">Eat at Joe's</div>"
      ],
      "text/plain": [
       "<IPython.core.display.HTML object>"
      ]
     },
     "metadata": {},
     "output_type": "display_data"
    }
   ],
   "source": [
    "%%html\n",
    "<style>\n",
    ".blink {\n",
    "    font-size: 400%;\n",
    "    padding: 60px;    \n",
    "    font-family: \"DejaVu Serif\", serif;\n",
    "}\n",
    "</style>\n",
    "<script>\n",
    "(function () {\n",
    "    var isVisible = false;\n",
    "    setInterval(function () {\n",
    "        isVisible = !isVisible;\n",
    "        $('.blink').css('visibility', isVisible ? 'visible' : 'hidden');\n",
    "    }, 500);\n",
    "})();\n",
    "</script>\n",
    "<div class=\"blink\">Eat at Joe's</div>"
   ]
  },
  {
   "cell_type": "markdown",
   "metadata": {
    "slideshow": {
     "slide_type": "slide"
    }
   },
   "source": [
    "Use the **`%%javascript`** magic to write and execute javascript in a code cell."
   ]
  },
  {
   "cell_type": "code",
   "execution_count": 13,
   "metadata": {
    "collapsed": false,
    "slideshow": {
     "slide_type": "fragment"
    }
   },
   "outputs": [
    {
     "data": {
      "application/javascript": [
       "(function () {\n",
       "    var $tw = $('#typewriter'),\n",
       "        message = \"All work and no play makes Jack a dull boy. \",\n",
       "        index = 0,\n",
       "        typewriterNext = function () {\n",
       "            var letter = message[index++];\n",
       "\n",
       "            if (index >= message.length) {\n",
       "                index = 0;\n",
       "                letter += \"<br>\";\n",
       "            }            \n",
       "            $tw.append(letter);\n",
       "            \n",
       "            if ($tw.height() > 237) {\n",
       "                $tw.empty();\n",
       "                index = 0;\n",
       "            }\n",
       "        };\n",
       "\n",
       "    setInterval(typewriterNext, 80);\n",
       "})()"
      ],
      "text/plain": [
       "<IPython.core.display.Javascript object>"
      ]
     },
     "metadata": {},
     "output_type": "display_data"
    }
   ],
   "source": [
    "%%javascript\n",
    "(function () {\n",
    "    var $tw = $('#typewriter'),\n",
    "        message = \"All work and no play makes Jack a dull boy. \",\n",
    "        index = 0,\n",
    "        typewriterNext = function () {\n",
    "            var letter = message[index++];\n",
    "\n",
    "            if (index >= message.length) {\n",
    "                index = 0;\n",
    "                letter += \"<br>\";\n",
    "            }            \n",
    "            $tw.append(letter);\n",
    "            \n",
    "            if ($tw.height() > 237) {\n",
    "                $tw.empty();\n",
    "                index = 0;\n",
    "            }\n",
    "        };\n",
    "\n",
    "    setInterval(typewriterNext, 80);\n",
    "})()"
   ]
  },
  {
   "cell_type": "markdown",
   "metadata": {
    "slideshow": {
     "slide_type": "slide"
    }
   },
   "source": [
    "<div style=\"height:250px;\"><div id=\"typewriter\"></div></div>"
   ]
  },
  {
   "cell_type": "markdown",
   "metadata": {
    "slideshow": {
     "slide_type": "slide"
    }
   },
   "source": [
    "# Interactive Widgets"
   ]
  },
  {
   "cell_type": "markdown",
   "metadata": {
    "slideshow": {
     "slide_type": "fragment"
    }
   },
   "source": [
    "The following is the jQuery UI Datepicker example. ([source](https://jqueryui.com/datepicker/))"
   ]
  },
  {
   "cell_type": "code",
   "execution_count": 14,
   "metadata": {
    "collapsed": false,
    "slideshow": {
     "slide_type": "-"
    }
   },
   "outputs": [
    {
     "data": {
      "text/html": [
       "<script>\n",
       "    $(function() {\n",
       "        $( \"#datepicker\" ).datepicker();\n",
       "    });\n",
       "</script>\n",
       "<p>Date: <input type=\"text\" id=\"datepicker\"></p>"
      ],
      "text/plain": [
       "<IPython.core.display.HTML object>"
      ]
     },
     "metadata": {},
     "output_type": "display_data"
    }
   ],
   "source": [
    "%%html\n",
    "<script>\n",
    "    $(function() {\n",
    "        $( \"#datepicker\" ).datepicker();\n",
    "    });\n",
    "</script>\n",
    "<p>Date: <input type=\"text\" id=\"datepicker\"></p>"
   ]
  },
  {
   "cell_type": "markdown",
   "metadata": {
    "slideshow": {
     "slide_type": "slide"
    }
   },
   "source": [
    "# Math, Code & Rich Media"
   ]
  },
  {
   "cell_type": "markdown",
   "metadata": {
    "slideshow": {
     "slide_type": "slide"
    }
   },
   "source": [
    "## LaTeX"
   ]
  },
  {
   "cell_type": "markdown",
   "metadata": {
    "slideshow": {
     "slide_type": "fragment"
    }
   },
   "source": [
    "LaTeX is a **Domain-Specific Language** for typesetting mathematical equations."
   ]
  },
  {
   "cell_type": "markdown",
   "metadata": {
    "slideshow": {
     "slide_type": "fragment"
    }
   },
   "source": [
    "A LaTeX mathematical equation such as $f(x) = -2x^3 + x^2 + 5x$ can be inlined within narrative text.\n",
    "\n",
    "Or it can be expressed as a block element:\n",
    "\n",
    "$$f(x) = -2x^3 + x^2 + 5x$$"
   ]
  },
  {
   "cell_type": "markdown",
   "metadata": {
    "slideshow": {
     "slide_type": "slide"
    }
   },
   "source": [
    "## Matplotlib"
   ]
  },
  {
   "cell_type": "markdown",
   "metadata": {
    "slideshow": {
     "slide_type": "fragment"
    }
   },
   "source": [
    "$$f(x) = -2x^3 + x^2 + 5x$$"
   ]
  },
  {
   "cell_type": "code",
   "execution_count": 15,
   "metadata": {
    "collapsed": true,
    "slideshow": {
     "slide_type": "fragment"
    }
   },
   "outputs": [],
   "source": [
    "def f(x):\n",
    "    return (-2 * x) ** 3 + x ** 2 + 5 * x"
   ]
  },
  {
   "cell_type": "code",
   "execution_count": 16,
   "metadata": {
    "collapsed": false,
    "slideshow": {
     "slide_type": "fragment"
    }
   },
   "outputs": [
    {
     "data": {
      "text/plain": [
       "[<matplotlib.lines.Line2D at 0x1088f7590>]"
      ]
     },
     "execution_count": 16,
     "metadata": {},
     "output_type": "execute_result"
    },
    {
     "data": {
      "image/svg+xml": [
       "<?xml version=\"1.0\" encoding=\"utf-8\" standalone=\"no\"?>\n",
       "<!DOCTYPE svg PUBLIC \"-//W3C//DTD SVG 1.1//EN\"\n",
       "  \"http://www.w3.org/Graphics/SVG/1.1/DTD/svg11.dtd\">\n",
       "<!-- Created with matplotlib (http://matplotlib.org/) -->\n",
       "<svg height=\"256pt\" version=\"1.1\" viewBox=\"0 0 373 256\" width=\"373pt\" xmlns=\"http://www.w3.org/2000/svg\" xmlns:xlink=\"http://www.w3.org/1999/xlink\">\n",
       " <defs>\n",
       "  <style type=\"text/css\">\n",
       "*{stroke-linecap:butt;stroke-linejoin:round;}\n",
       "  </style>\n",
       " </defs>\n",
       " <g id=\"figure_1\">\n",
       "  <g id=\"patch_1\">\n",
       "   <path d=\"\n",
       "M0 256.117\n",
       "L373.03 256.117\n",
       "L373.03 0\n",
       "L0 0\n",
       "z\n",
       "\" style=\"fill:none;\"/>\n",
       "  </g>\n",
       "  <g id=\"axes_1\">\n",
       "   <g id=\"patch_2\">\n",
       "    <path d=\"\n",
       "M23.9594 235.239\n",
       "L358.759 235.239\n",
       "L358.759 12.0391\n",
       "L23.9594 12.0391\n",
       "z\n",
       "\" style=\"fill:none;\"/>\n",
       "   </g>\n",
       "   <g id=\"line2d_1\">\n",
       "    <path clip-path=\"url(#pbb3ea69b28)\" d=\"\n",
       "M23.9594 12.0391\n",
       "L27.3412 27.4438\n",
       "L30.723 42.1041\n",
       "L34.1048 56.0348\n",
       "L37.4866 69.2505\n",
       "L40.8685 81.766\n",
       "L44.2503 93.5961\n",
       "L47.6321 104.755\n",
       "L51.0139 115.258\n",
       "L54.3957 125.12\n",
       "L57.7776 134.356\n",
       "L61.1594 142.979\n",
       "L64.5412 151.005\n",
       "L67.923 158.449\n",
       "L71.3048 165.325\n",
       "L74.6866 171.648\n",
       "L78.0685 177.433\n",
       "L81.4503 182.694\n",
       "L84.8321 187.446\n",
       "L88.2139 191.705\n",
       "L91.5957 195.484\n",
       "L94.9776 198.798\n",
       "L98.3594 201.662\n",
       "L101.741 204.091\n",
       "L105.123 206.1\n",
       "L108.505 207.703\n",
       "L111.887 208.914\n",
       "L115.268 209.75\n",
       "L118.65 210.223\n",
       "L122.032 210.35\n",
       "L125.414 210.145\n",
       "L128.796 209.622\n",
       "L132.178 208.797\n",
       "L135.559 207.684\n",
       "L138.941 206.297\n",
       "L142.323 204.652\n",
       "L145.705 202.762\n",
       "L149.087 200.644\n",
       "L152.468 198.312\n",
       "L155.85 195.779\n",
       "L159.232 193.062\n",
       "L162.614 190.175\n",
       "L165.996 187.132\n",
       "L169.378 183.948\n",
       "L172.759 180.638\n",
       "L176.141 177.217\n",
       "L179.523 173.699\n",
       "L182.905 170.1\n",
       "L186.287 166.433\n",
       "L189.668 162.714\n",
       "L193.05 158.957\n",
       "L196.432 155.177\n",
       "L199.814 151.389\n",
       "L203.196 147.607\n",
       "L206.578 143.846\n",
       "L209.959 140.121\n",
       "L213.341 136.447\n",
       "L216.723 132.838\n",
       "L220.105 129.31\n",
       "L223.487 125.876\n",
       "L226.868 122.551\n",
       "L230.25 119.351\n",
       "L233.632 116.289\n",
       "L237.014 113.382\n",
       "L240.396 110.643\n",
       "L243.778 108.086\n",
       "L247.159 105.728\n",
       "L250.541 103.582\n",
       "L253.923 101.664\n",
       "L257.305 99.987\n",
       "L260.687 98.5672\n",
       "L264.068 97.4188\n",
       "L267.45 96.5566\n",
       "L270.832 95.9952\n",
       "L274.214 95.7495\n",
       "L277.596 95.834\n",
       "L280.978 96.2637\n",
       "L284.359 97.0531\n",
       "L287.741 98.2169\n",
       "L291.123 99.77\n",
       "L294.505 101.727\n",
       "L297.887 104.103\n",
       "L301.268 106.912\n",
       "L304.65 110.169\n",
       "L308.032 113.889\n",
       "L311.414 118.087\n",
       "L314.796 122.776\n",
       "L318.178 127.973\n",
       "L321.559 133.692\n",
       "L324.941 139.947\n",
       "L328.323 146.753\n",
       "L331.705 154.125\n",
       "L335.087 162.077\n",
       "L338.468 170.625\n",
       "L341.85 179.783\n",
       "L345.232 189.566\n",
       "L348.614 199.988\n",
       "L351.996 211.065\n",
       "L355.378 222.81\n",
       "L358.759 235.239\" style=\"fill:none;stroke:#0000ff;stroke-linecap:square;\"/>\n",
       "   </g>\n",
       "   <g id=\"matplotlib.axis_1\">\n",
       "    <g id=\"xtick_1\">\n",
       "     <g id=\"line2d_2\">\n",
       "      <defs>\n",
       "       <path d=\"\n",
       "M0 0\n",
       "L0 -4\" id=\"m93b0483c22\" style=\"stroke:#000000;stroke-width:0.5;\"/>\n",
       "      </defs>\n",
       "      <g>\n",
       "       <use style=\"stroke:#000000;stroke-width:0.5;\" x=\"23.959375\" xlink:href=\"#m93b0483c22\" y=\"235.2390625\"/>\n",
       "      </g>\n",
       "     </g>\n",
       "     <g id=\"line2d_3\">\n",
       "      <defs>\n",
       "       <path d=\"\n",
       "M0 0\n",
       "L0 4\" id=\"m741efc42ff\" style=\"stroke:#000000;stroke-width:0.5;\"/>\n",
       "      </defs>\n",
       "      <g>\n",
       "       <use style=\"stroke:#000000;stroke-width:0.5;\" x=\"23.959375\" xlink:href=\"#m741efc42ff\" y=\"12.0390625\"/>\n",
       "      </g>\n",
       "     </g>\n",
       "     <g id=\"text_1\">\n",
       "      <!-- −1.0 -->\n",
       "      <defs>\n",
       "       <path d=\"\n",
       "M10.5938 35.5\n",
       "L73.1875 35.5\n",
       "L73.1875 27.2031\n",
       "L10.5938 27.2031\n",
       "z\n",
       "\" id=\"BitstreamVeraSans-Roman-2212\"/>\n",
       "       <path d=\"\n",
       "M31.7812 66.4062\n",
       "Q24.1719 66.4062 20.3281 58.9062\n",
       "Q16.5 51.4219 16.5 36.375\n",
       "Q16.5 21.3906 20.3281 13.8906\n",
       "Q24.1719 6.39062 31.7812 6.39062\n",
       "Q39.4531 6.39062 43.2812 13.8906\n",
       "Q47.125 21.3906 47.125 36.375\n",
       "Q47.125 51.4219 43.2812 58.9062\n",
       "Q39.4531 66.4062 31.7812 66.4062\n",
       "M31.7812 74.2188\n",
       "Q44.0469 74.2188 50.5156 64.5156\n",
       "Q56.9844 54.8281 56.9844 36.375\n",
       "Q56.9844 17.9688 50.5156 8.26562\n",
       "Q44.0469 -1.42188 31.7812 -1.42188\n",
       "Q19.5312 -1.42188 13.0625 8.26562\n",
       "Q6.59375 17.9688 6.59375 36.375\n",
       "Q6.59375 54.8281 13.0625 64.5156\n",
       "Q19.5312 74.2188 31.7812 74.2188\" id=\"BitstreamVeraSans-Roman-30\"/>\n",
       "       <path d=\"\n",
       "M12.4062 8.29688\n",
       "L28.5156 8.29688\n",
       "L28.5156 63.9219\n",
       "L10.9844 60.4062\n",
       "L10.9844 69.3906\n",
       "L28.4219 72.9062\n",
       "L38.2812 72.9062\n",
       "L38.2812 8.29688\n",
       "L54.3906 8.29688\n",
       "L54.3906 0\n",
       "L12.4062 0\n",
       "z\n",
       "\" id=\"BitstreamVeraSans-Roman-31\"/>\n",
       "       <path d=\"\n",
       "M10.6875 12.4062\n",
       "L21 12.4062\n",
       "L21 0\n",
       "L10.6875 0\n",
       "z\n",
       "\" id=\"BitstreamVeraSans-Roman-2e\"/>\n",
       "      </defs>\n",
       "      <g transform=\"translate(12.6796875 246.8375)scale(0.1 -0.1)\">\n",
       "       <use xlink:href=\"#BitstreamVeraSans-Roman-2212\"/>\n",
       "       <use x=\"83.7890625\" xlink:href=\"#BitstreamVeraSans-Roman-31\"/>\n",
       "       <use x=\"147.412109375\" xlink:href=\"#BitstreamVeraSans-Roman-2e\"/>\n",
       "       <use x=\"179.19921875\" xlink:href=\"#BitstreamVeraSans-Roman-30\"/>\n",
       "      </g>\n",
       "     </g>\n",
       "    </g>\n",
       "    <g id=\"xtick_2\">\n",
       "     <g id=\"line2d_4\">\n",
       "      <g>\n",
       "       <use style=\"stroke:#000000;stroke-width:0.5;\" x=\"107.659375\" xlink:href=\"#m93b0483c22\" y=\"235.2390625\"/>\n",
       "      </g>\n",
       "     </g>\n",
       "     <g id=\"line2d_5\">\n",
       "      <g>\n",
       "       <use style=\"stroke:#000000;stroke-width:0.5;\" x=\"107.659375\" xlink:href=\"#m741efc42ff\" y=\"12.0390625\"/>\n",
       "      </g>\n",
       "     </g>\n",
       "     <g id=\"text_2\">\n",
       "      <!-- −0.5 -->\n",
       "      <defs>\n",
       "       <path d=\"\n",
       "M10.7969 72.9062\n",
       "L49.5156 72.9062\n",
       "L49.5156 64.5938\n",
       "L19.8281 64.5938\n",
       "L19.8281 46.7344\n",
       "Q21.9688 47.4688 24.1094 47.8281\n",
       "Q26.2656 48.1875 28.4219 48.1875\n",
       "Q40.625 48.1875 47.75 41.5\n",
       "Q54.8906 34.8125 54.8906 23.3906\n",
       "Q54.8906 11.625 47.5625 5.09375\n",
       "Q40.2344 -1.42188 26.9062 -1.42188\n",
       "Q22.3125 -1.42188 17.5469 -0.640625\n",
       "Q12.7969 0.140625 7.71875 1.70312\n",
       "L7.71875 11.625\n",
       "Q12.1094 9.23438 16.7969 8.0625\n",
       "Q21.4844 6.89062 26.7031 6.89062\n",
       "Q35.1562 6.89062 40.0781 11.3281\n",
       "Q45.0156 15.7656 45.0156 23.3906\n",
       "Q45.0156 31 40.0781 35.4375\n",
       "Q35.1562 39.8906 26.7031 39.8906\n",
       "Q22.75 39.8906 18.8125 39.0156\n",
       "Q14.8906 38.1406 10.7969 36.2812\n",
       "z\n",
       "\" id=\"BitstreamVeraSans-Roman-35\"/>\n",
       "      </defs>\n",
       "      <g transform=\"translate(96.484375 246.8375)scale(0.1 -0.1)\">\n",
       "       <use xlink:href=\"#BitstreamVeraSans-Roman-2212\"/>\n",
       "       <use x=\"83.7890625\" xlink:href=\"#BitstreamVeraSans-Roman-30\"/>\n",
       "       <use x=\"147.412109375\" xlink:href=\"#BitstreamVeraSans-Roman-2e\"/>\n",
       "       <use x=\"179.19921875\" xlink:href=\"#BitstreamVeraSans-Roman-35\"/>\n",
       "      </g>\n",
       "     </g>\n",
       "    </g>\n",
       "    <g id=\"xtick_3\">\n",
       "     <g id=\"line2d_6\">\n",
       "      <g>\n",
       "       <use style=\"stroke:#000000;stroke-width:0.5;\" x=\"191.359375\" xlink:href=\"#m93b0483c22\" y=\"235.2390625\"/>\n",
       "      </g>\n",
       "     </g>\n",
       "     <g id=\"line2d_7\">\n",
       "      <g>\n",
       "       <use style=\"stroke:#000000;stroke-width:0.5;\" x=\"191.359375\" xlink:href=\"#m741efc42ff\" y=\"12.0390625\"/>\n",
       "      </g>\n",
       "     </g>\n",
       "     <g id=\"text_3\">\n",
       "      <!-- 0.0 -->\n",
       "      <g transform=\"translate(184.06953125 246.8375)scale(0.1 -0.1)\">\n",
       "       <use xlink:href=\"#BitstreamVeraSans-Roman-30\"/>\n",
       "       <use x=\"63.623046875\" xlink:href=\"#BitstreamVeraSans-Roman-2e\"/>\n",
       "       <use x=\"95.41015625\" xlink:href=\"#BitstreamVeraSans-Roman-30\"/>\n",
       "      </g>\n",
       "     </g>\n",
       "    </g>\n",
       "    <g id=\"xtick_4\">\n",
       "     <g id=\"line2d_8\">\n",
       "      <g>\n",
       "       <use style=\"stroke:#000000;stroke-width:0.5;\" x=\"275.059375\" xlink:href=\"#m93b0483c22\" y=\"235.2390625\"/>\n",
       "      </g>\n",
       "     </g>\n",
       "     <g id=\"line2d_9\">\n",
       "      <g>\n",
       "       <use style=\"stroke:#000000;stroke-width:0.5;\" x=\"275.059375\" xlink:href=\"#m741efc42ff\" y=\"12.0390625\"/>\n",
       "      </g>\n",
       "     </g>\n",
       "     <g id=\"text_4\">\n",
       "      <!-- 0.5 -->\n",
       "      <g transform=\"translate(267.87421875 246.8375)scale(0.1 -0.1)\">\n",
       "       <use xlink:href=\"#BitstreamVeraSans-Roman-30\"/>\n",
       "       <use x=\"63.623046875\" xlink:href=\"#BitstreamVeraSans-Roman-2e\"/>\n",
       "       <use x=\"95.41015625\" xlink:href=\"#BitstreamVeraSans-Roman-35\"/>\n",
       "      </g>\n",
       "     </g>\n",
       "    </g>\n",
       "    <g id=\"xtick_5\">\n",
       "     <g id=\"line2d_10\">\n",
       "      <g>\n",
       "       <use style=\"stroke:#000000;stroke-width:0.5;\" x=\"358.759375\" xlink:href=\"#m93b0483c22\" y=\"235.2390625\"/>\n",
       "      </g>\n",
       "     </g>\n",
       "     <g id=\"line2d_11\">\n",
       "      <g>\n",
       "       <use style=\"stroke:#000000;stroke-width:0.5;\" x=\"358.759375\" xlink:href=\"#m741efc42ff\" y=\"12.0390625\"/>\n",
       "      </g>\n",
       "     </g>\n",
       "     <g id=\"text_5\">\n",
       "      <!-- 1.0 -->\n",
       "      <g transform=\"translate(351.6890625 246.8375)scale(0.1 -0.1)\">\n",
       "       <use xlink:href=\"#BitstreamVeraSans-Roman-31\"/>\n",
       "       <use x=\"63.623046875\" xlink:href=\"#BitstreamVeraSans-Roman-2e\"/>\n",
       "       <use x=\"95.41015625\" xlink:href=\"#BitstreamVeraSans-Roman-30\"/>\n",
       "      </g>\n",
       "     </g>\n",
       "    </g>\n",
       "   </g>\n",
       "   <g id=\"matplotlib.axis_2\">\n",
       "    <g id=\"ytick_1\">\n",
       "     <g id=\"line2d_12\">\n",
       "      <defs>\n",
       "       <path d=\"\n",
       "M0 0\n",
       "L4 0\" id=\"m728421d6d4\" style=\"stroke:#000000;stroke-width:0.5;\"/>\n",
       "      </defs>\n",
       "      <g>\n",
       "       <use style=\"stroke:#000000;stroke-width:0.5;\" x=\"23.959375\" xlink:href=\"#m728421d6d4\" y=\"235.2390625\"/>\n",
       "      </g>\n",
       "     </g>\n",
       "     <g id=\"line2d_13\">\n",
       "      <defs>\n",
       "       <path d=\"\n",
       "M0 0\n",
       "L-4 0\" id=\"mcb0005524f\" style=\"stroke:#000000;stroke-width:0.5;\"/>\n",
       "      </defs>\n",
       "      <g>\n",
       "       <use style=\"stroke:#000000;stroke-width:0.5;\" x=\"358.759375\" xlink:href=\"#mcb0005524f\" y=\"235.2390625\"/>\n",
       "      </g>\n",
       "     </g>\n",
       "     <g id=\"text_6\">\n",
       "      <!-- −2 -->\n",
       "      <defs>\n",
       "       <path d=\"\n",
       "M19.1875 8.29688\n",
       "L53.6094 8.29688\n",
       "L53.6094 0\n",
       "L7.32812 0\n",
       "L7.32812 8.29688\n",
       "Q12.9375 14.1094 22.625 23.8906\n",
       "Q32.3281 33.6875 34.8125 36.5312\n",
       "Q39.5469 41.8438 41.4219 45.5312\n",
       "Q43.3125 49.2188 43.3125 52.7812\n",
       "Q43.3125 58.5938 39.2344 62.25\n",
       "Q35.1562 65.9219 28.6094 65.9219\n",
       "Q23.9688 65.9219 18.8125 64.3125\n",
       "Q13.6719 62.7031 7.8125 59.4219\n",
       "L7.8125 69.3906\n",
       "Q13.7656 71.7812 18.9375 73\n",
       "Q24.125 74.2188 28.4219 74.2188\n",
       "Q39.75 74.2188 46.4844 68.5469\n",
       "Q53.2188 62.8906 53.2188 53.4219\n",
       "Q53.2188 48.9219 51.5312 44.8906\n",
       "Q49.8594 40.875 45.4062 35.4062\n",
       "Q44.1875 33.9844 37.6406 27.2188\n",
       "Q31.1094 20.4531 19.1875 8.29688\" id=\"BitstreamVeraSans-Roman-32\"/>\n",
       "      </defs>\n",
       "      <g transform=\"translate(7.278125 237.9984375)scale(0.1 -0.1)\">\n",
       "       <use xlink:href=\"#BitstreamVeraSans-Roman-2212\"/>\n",
       "       <use x=\"83.7890625\" xlink:href=\"#BitstreamVeraSans-Roman-32\"/>\n",
       "      </g>\n",
       "     </g>\n",
       "    </g>\n",
       "    <g id=\"ytick_2\">\n",
       "     <g id=\"line2d_14\">\n",
       "      <g>\n",
       "       <use style=\"stroke:#000000;stroke-width:0.5;\" x=\"23.959375\" xlink:href=\"#m728421d6d4\" y=\"198.0390625\"/>\n",
       "      </g>\n",
       "     </g>\n",
       "     <g id=\"line2d_15\">\n",
       "      <g>\n",
       "       <use style=\"stroke:#000000;stroke-width:0.5;\" x=\"358.759375\" xlink:href=\"#mcb0005524f\" y=\"198.0390625\"/>\n",
       "      </g>\n",
       "     </g>\n",
       "     <g id=\"text_7\">\n",
       "      <!-- −1 -->\n",
       "      <g transform=\"translate(7.2 200.7984375)scale(0.1 -0.1)\">\n",
       "       <use xlink:href=\"#BitstreamVeraSans-Roman-2212\"/>\n",
       "       <use x=\"83.7890625\" xlink:href=\"#BitstreamVeraSans-Roman-31\"/>\n",
       "      </g>\n",
       "     </g>\n",
       "    </g>\n",
       "    <g id=\"ytick_3\">\n",
       "     <g id=\"line2d_16\">\n",
       "      <g>\n",
       "       <use style=\"stroke:#000000;stroke-width:0.5;\" x=\"23.959375\" xlink:href=\"#m728421d6d4\" y=\"160.8390625\"/>\n",
       "      </g>\n",
       "     </g>\n",
       "     <g id=\"line2d_17\">\n",
       "      <g>\n",
       "       <use style=\"stroke:#000000;stroke-width:0.5;\" x=\"358.759375\" xlink:href=\"#mcb0005524f\" y=\"160.8390625\"/>\n",
       "      </g>\n",
       "     </g>\n",
       "     <g id=\"text_8\">\n",
       "      <!-- 0 -->\n",
       "      <g transform=\"translate(14.9203125 163.5984375)scale(0.1 -0.1)\">\n",
       "       <use xlink:href=\"#BitstreamVeraSans-Roman-30\"/>\n",
       "      </g>\n",
       "     </g>\n",
       "    </g>\n",
       "    <g id=\"ytick_4\">\n",
       "     <g id=\"line2d_18\">\n",
       "      <g>\n",
       "       <use style=\"stroke:#000000;stroke-width:0.5;\" x=\"23.959375\" xlink:href=\"#m728421d6d4\" y=\"123.6390625\"/>\n",
       "      </g>\n",
       "     </g>\n",
       "     <g id=\"line2d_19\">\n",
       "      <g>\n",
       "       <use style=\"stroke:#000000;stroke-width:0.5;\" x=\"358.759375\" xlink:href=\"#mcb0005524f\" y=\"123.6390625\"/>\n",
       "      </g>\n",
       "     </g>\n",
       "     <g id=\"text_9\">\n",
       "      <!-- 1 -->\n",
       "      <g transform=\"translate(15.61875 126.3984375)scale(0.1 -0.1)\">\n",
       "       <use xlink:href=\"#BitstreamVeraSans-Roman-31\"/>\n",
       "      </g>\n",
       "     </g>\n",
       "    </g>\n",
       "    <g id=\"ytick_5\">\n",
       "     <g id=\"line2d_20\">\n",
       "      <g>\n",
       "       <use style=\"stroke:#000000;stroke-width:0.5;\" x=\"23.959375\" xlink:href=\"#m728421d6d4\" y=\"86.4390625\"/>\n",
       "      </g>\n",
       "     </g>\n",
       "     <g id=\"line2d_21\">\n",
       "      <g>\n",
       "       <use style=\"stroke:#000000;stroke-width:0.5;\" x=\"358.759375\" xlink:href=\"#mcb0005524f\" y=\"86.4390625\"/>\n",
       "      </g>\n",
       "     </g>\n",
       "     <g id=\"text_10\">\n",
       "      <!-- 2 -->\n",
       "      <g transform=\"translate(15.33125 89.1984375)scale(0.1 -0.1)\">\n",
       "       <use xlink:href=\"#BitstreamVeraSans-Roman-32\"/>\n",
       "      </g>\n",
       "     </g>\n",
       "    </g>\n",
       "    <g id=\"ytick_6\">\n",
       "     <g id=\"line2d_22\">\n",
       "      <g>\n",
       "       <use style=\"stroke:#000000;stroke-width:0.5;\" x=\"23.959375\" xlink:href=\"#m728421d6d4\" y=\"49.2390625\"/>\n",
       "      </g>\n",
       "     </g>\n",
       "     <g id=\"line2d_23\">\n",
       "      <g>\n",
       "       <use style=\"stroke:#000000;stroke-width:0.5;\" x=\"358.759375\" xlink:href=\"#mcb0005524f\" y=\"49.2390625\"/>\n",
       "      </g>\n",
       "     </g>\n",
       "     <g id=\"text_11\">\n",
       "      <!-- 3 -->\n",
       "      <defs>\n",
       "       <path d=\"\n",
       "M40.5781 39.3125\n",
       "Q47.6562 37.7969 51.625 33\n",
       "Q55.6094 28.2188 55.6094 21.1875\n",
       "Q55.6094 10.4062 48.1875 4.48438\n",
       "Q40.7656 -1.42188 27.0938 -1.42188\n",
       "Q22.5156 -1.42188 17.6562 -0.515625\n",
       "Q12.7969 0.390625 7.625 2.20312\n",
       "L7.625 11.7188\n",
       "Q11.7188 9.32812 16.5938 8.10938\n",
       "Q21.4844 6.89062 26.8125 6.89062\n",
       "Q36.0781 6.89062 40.9375 10.5469\n",
       "Q45.7969 14.2031 45.7969 21.1875\n",
       "Q45.7969 27.6406 41.2812 31.2656\n",
       "Q36.7656 34.9062 28.7188 34.9062\n",
       "L20.2188 34.9062\n",
       "L20.2188 43.0156\n",
       "L29.1094 43.0156\n",
       "Q36.375 43.0156 40.2344 45.9219\n",
       "Q44.0938 48.8281 44.0938 54.2969\n",
       "Q44.0938 59.9062 40.1094 62.9062\n",
       "Q36.1406 65.9219 28.7188 65.9219\n",
       "Q24.6562 65.9219 20.0156 65.0312\n",
       "Q15.375 64.1562 9.8125 62.3125\n",
       "L9.8125 71.0938\n",
       "Q15.4375 72.6562 20.3438 73.4375\n",
       "Q25.25 74.2188 29.5938 74.2188\n",
       "Q40.8281 74.2188 47.3594 69.1094\n",
       "Q53.9062 64.0156 53.9062 55.3281\n",
       "Q53.9062 49.2656 50.4375 45.0938\n",
       "Q46.9688 40.9219 40.5781 39.3125\" id=\"BitstreamVeraSans-Roman-33\"/>\n",
       "      </defs>\n",
       "      <g transform=\"translate(15.1609375 51.9984375)scale(0.1 -0.1)\">\n",
       "       <use xlink:href=\"#BitstreamVeraSans-Roman-33\"/>\n",
       "      </g>\n",
       "     </g>\n",
       "    </g>\n",
       "    <g id=\"ytick_7\">\n",
       "     <g id=\"line2d_24\">\n",
       "      <g>\n",
       "       <use style=\"stroke:#000000;stroke-width:0.5;\" x=\"23.959375\" xlink:href=\"#m728421d6d4\" y=\"12.0390625\"/>\n",
       "      </g>\n",
       "     </g>\n",
       "     <g id=\"line2d_25\">\n",
       "      <g>\n",
       "       <use style=\"stroke:#000000;stroke-width:0.5;\" x=\"358.759375\" xlink:href=\"#mcb0005524f\" y=\"12.0390625\"/>\n",
       "      </g>\n",
       "     </g>\n",
       "     <g id=\"text_12\">\n",
       "      <!-- 4 -->\n",
       "      <defs>\n",
       "       <path d=\"\n",
       "M37.7969 64.3125\n",
       "L12.8906 25.3906\n",
       "L37.7969 25.3906\n",
       "z\n",
       "\n",
       "M35.2031 72.9062\n",
       "L47.6094 72.9062\n",
       "L47.6094 25.3906\n",
       "L58.0156 25.3906\n",
       "L58.0156 17.1875\n",
       "L47.6094 17.1875\n",
       "L47.6094 0\n",
       "L37.7969 0\n",
       "L37.7969 17.1875\n",
       "L4.89062 17.1875\n",
       "L4.89062 26.7031\n",
       "z\n",
       "\" id=\"BitstreamVeraSans-Roman-34\"/>\n",
       "      </defs>\n",
       "      <g transform=\"translate(14.646875 14.7984375)scale(0.1 -0.1)\">\n",
       "       <use xlink:href=\"#BitstreamVeraSans-Roman-34\"/>\n",
       "      </g>\n",
       "     </g>\n",
       "    </g>\n",
       "   </g>\n",
       "   <g id=\"patch_3\">\n",
       "    <path d=\"\n",
       "M23.9594 12.0391\n",
       "L358.759 12.0391\" style=\"fill:none;stroke:#000000;\"/>\n",
       "   </g>\n",
       "   <g id=\"patch_4\">\n",
       "    <path d=\"\n",
       "M358.759 235.239\n",
       "L358.759 12.0391\" style=\"fill:none;stroke:#000000;\"/>\n",
       "   </g>\n",
       "   <g id=\"patch_5\">\n",
       "    <path d=\"\n",
       "M23.9594 235.239\n",
       "L358.759 235.239\" style=\"fill:none;stroke:#000000;\"/>\n",
       "   </g>\n",
       "   <g id=\"patch_6\">\n",
       "    <path d=\"\n",
       "M23.9594 235.239\n",
       "L23.9594 12.0391\" style=\"fill:none;stroke:#000000;\"/>\n",
       "   </g>\n",
       "  </g>\n",
       " </g>\n",
       " <defs>\n",
       "  <clipPath id=\"pbb3ea69b28\">\n",
       "   <rect height=\"223.2\" width=\"334.8\" x=\"23.959375\" y=\"12.0390625\"/>\n",
       "  </clipPath>\n",
       " </defs>\n",
       "</svg>\n"
      ],
      "text/plain": [
       "<matplotlib.figure.Figure at 0x1088567d0>"
      ]
     },
     "metadata": {},
     "output_type": "display_data"
    }
   ],
   "source": [
    "x = np.linspace(-1, 1, 100)\n",
    "plt.plot(x, f(x))"
   ]
  },
  {
   "cell_type": "markdown",
   "metadata": {
    "slideshow": {
     "slide_type": "slide"
    }
   },
   "source": [
    "$$g(t) = \\frac{\\sin(350 \\cdot 2\\pi t) + \\sin(440 \\cdot 2\\pi t)}{2}$$"
   ]
  },
  {
   "cell_type": "code",
   "execution_count": 17,
   "metadata": {
    "collapsed": true,
    "slideshow": {
     "slide_type": "fragment"
    }
   },
   "outputs": [],
   "source": [
    "def g(t):\n",
    "    return (np.sin(350 * 2 * pi * t) + np.sin(440 * 2 * pi * t)) / 2.0"
   ]
  },
  {
   "cell_type": "code",
   "execution_count": 18,
   "metadata": {
    "collapsed": false,
    "slideshow": {
     "slide_type": "slide"
    }
   },
   "outputs": [
    {
     "data": {
      "text/plain": [
       "[<matplotlib.lines.Line2D at 0x108957650>]"
      ]
     },
     "execution_count": 18,
     "metadata": {},
     "output_type": "execute_result"
    },
    {
     "data": {
      "image/svg+xml": [
       "<?xml version=\"1.0\" encoding=\"utf-8\" standalone=\"no\"?>\n",
       "<!DOCTYPE svg PUBLIC \"-//W3C//DTD SVG 1.1//EN\"\n",
       "  \"http://www.w3.org/Graphics/SVG/1.1/DTD/svg11.dtd\">\n",
       "<!-- Created with matplotlib (http://matplotlib.org/) -->\n",
       "<svg height=\"256pt\" version=\"1.1\" viewBox=\"0 0 386 256\" width=\"386pt\" xmlns=\"http://www.w3.org/2000/svg\" xmlns:xlink=\"http://www.w3.org/1999/xlink\">\n",
       " <defs>\n",
       "  <style type=\"text/css\">\n",
       "*{stroke-linecap:butt;stroke-linejoin:round;}\n",
       "  </style>\n",
       " </defs>\n",
       " <g id=\"figure_1\">\n",
       "  <g id=\"patch_1\">\n",
       "   <path d=\"\n",
       "M0 256.117\n",
       "L386.248 256.117\n",
       "L386.248 0\n",
       "L0 0\n",
       "z\n",
       "\" style=\"fill:none;\"/>\n",
       "  </g>\n",
       "  <g id=\"axes_1\">\n",
       "   <g id=\"patch_2\">\n",
       "    <path d=\"\n",
       "M33.7594 235.239\n",
       "L368.559 235.239\n",
       "L368.559 12.0391\n",
       "L33.7594 12.0391\n",
       "z\n",
       "\" style=\"fill:none;\"/>\n",
       "   </g>\n",
       "   <g id=\"line2d_1\">\n",
       "    <path clip-path=\"url(#p77e3de05a9)\" d=\"\n",
       "M33.7594 123.639\n",
       "L35.1558 58.8595\n",
       "L35.9936 30.7091\n",
       "L36.5522 19.067\n",
       "L36.8314 15.6837\n",
       "L37.1107 13.9978\n",
       "L37.39 14.0285\n",
       "L37.6693 15.767\n",
       "L37.9486 19.1764\n",
       "L38.5071 30.7253\n",
       "L39.0657 47.8609\n",
       "L39.9035 81.4082\n",
       "L42.417 189.429\n",
       "L42.9756 205.133\n",
       "L43.5341 215.367\n",
       "L43.8134 218.262\n",
       "L44.0927 219.634\n",
       "L44.372 219.485\n",
       "L44.6513 217.842\n",
       "L44.9305 214.755\n",
       "L45.4891 204.571\n",
       "L46.0477 189.775\n",
       "L46.8855 161.437\n",
       "L49.1197 82.1856\n",
       "L49.6783 68.3959\n",
       "L50.2369 58.8246\n",
       "L50.7954 53.8606\n",
       "L51.0747 53.1361\n",
       "L51.354 53.5578\n",
       "L51.6332 55.082\n",
       "L52.1918 61.1737\n",
       "L52.7504 70.7279\n",
       "L53.5882 89.5799\n",
       "L55.5432 136.757\n",
       "L56.381 150.973\n",
       "L56.9396 156.98\n",
       "L57.4981 160.006\n",
       "L57.7774 160.425\n",
       "L58.0567 160.158\n",
       "L58.336 159.251\n",
       "L58.8945 155.767\n",
       "L59.7323 147.515\n",
       "L61.6873 126.133\n",
       "L62.2459 122.171\n",
       "L62.8044 119.832\n",
       "L63.0837 119.299\n",
       "L63.363 119.18\n",
       "L63.6423 119.453\n",
       "L63.9215 120.084\n",
       "L64.4801 122.233\n",
       "L65.5972 128.374\n",
       "L66.4351 132.37\n",
       "L66.9936 133.716\n",
       "L67.2729 133.827\n",
       "L67.5522 133.508\n",
       "L67.8314 132.734\n",
       "L68.39 129.77\n",
       "L68.9486 124.969\n",
       "L69.7864 114.899\n",
       "L72.0206 84.8574\n",
       "L72.5792 80.5705\n",
       "L72.8585 79.3917\n",
       "L73.1378 78.9435\n",
       "L73.417 79.2763\n",
       "L73.6963 80.4264\n",
       "L73.9756 82.4148\n",
       "L74.5341 88.9093\n",
       "L75.0927 98.5961\n",
       "L75.9305 118.095\n",
       "L78.7233 189.832\n",
       "L79.2819 197.431\n",
       "L79.5612 199.621\n",
       "L79.8405 200.64\n",
       "L80.1197 200.435\n",
       "L80.399 198.976\n",
       "L80.6783 196.254\n",
       "L81.2369 187.092\n",
       "L81.7954 173.316\n",
       "L82.6332 145.632\n",
       "L85.426 42.8905\n",
       "L85.9846 30.8552\n",
       "L86.5432 24.3475\n",
       "L86.8224 23.3651\n",
       "L87.1017 23.9545\n",
       "L87.381 26.1269\n",
       "L87.6603 29.8671\n",
       "L88.2188 41.8585\n",
       "L88.7774 59.2902\n",
       "L89.6152 93.3306\n",
       "L92.1287 204.502\n",
       "L92.6873 220.723\n",
       "L93.2459 231.022\n",
       "L93.5251 233.713\n",
       "L93.8044 234.691\n",
       "L94.0837 233.936\n",
       "L94.363 231.456\n",
       "L94.9215 221.488\n",
       "L95.4801 205.405\n",
       "L96.3179 172.131\n",
       "L99.1107 45.3127\n",
       "L99.6693 29.2272\n",
       "L100.228 19.1666\n",
       "L100.507 16.59\n",
       "L100.786 15.6989\n",
       "L101.066 16.4959\n",
       "L101.345 18.9558\n",
       "L101.904 28.6291\n",
       "L102.462 43.9971\n",
       "L103.3 75.2831\n",
       "L106.093 189.963\n",
       "L106.651 203.847\n",
       "L107.21 212.307\n",
       "L107.489 214.377\n",
       "L107.768 214.988\n",
       "L108.048 214.158\n",
       "L108.327 211.928\n",
       "L108.886 203.542\n",
       "L109.444 190.586\n",
       "L110.282 164.888\n",
       "L112.516 90.1348\n",
       "L113.354 71.229\n",
       "L113.913 63.5945\n",
       "L114.192 61.3878\n",
       "L114.471 60.2618\n",
       "L114.75 60.1974\n",
       "L115.03 61.157\n",
       "L115.309 63.0857\n",
       "L115.867 69.554\n",
       "L116.705 84.3453\n",
       "L119.498 140.575\n",
       "L120.057 147.131\n",
       "L120.615 151.092\n",
       "L120.895 152.093\n",
       "L121.174 152.465\n",
       "L121.453 152.245\n",
       "L121.732 151.479\n",
       "L122.291 148.549\n",
       "L123.129 141.751\n",
       "L124.525 129.35\n",
       "L125.084 125.72\n",
       "L125.642 123.47\n",
       "L125.922 122.927\n",
       "L126.201 122.781\n",
       "L126.48 123.025\n",
       "L126.759 123.639\n",
       "L127.318 125.842\n",
       "L128.156 130.823\n",
       "L129.273 137.779\n",
       "L129.831 140.067\n",
       "L130.111 140.676\n",
       "L130.39 140.853\n",
       "L130.669 140.554\n",
       "L130.949 139.747\n",
       "L131.507 136.534\n",
       "L132.066 131.199\n",
       "L132.904 119.724\n",
       "L135.696 75.9237\n",
       "L136.255 72.0221\n",
       "L136.534 71.2639\n",
       "L136.813 71.3777\n",
       "L137.093 72.4026\n",
       "L137.372 74.3615\n",
       "L137.931 81.0853\n",
       "L138.489 91.3769\n",
       "L139.327 112.424\n",
       "L142.12 192.459\n",
       "L142.678 201.704\n",
       "L142.958 204.649\n",
       "L143.237 206.362\n",
       "L143.516 206.785\n",
       "L143.795 205.878\n",
       "L144.075 203.625\n",
       "L144.633 195.132\n",
       "L145.192 181.637\n",
       "L146.03 153.618\n",
       "L149.102 36.7037\n",
       "L149.66 25.4674\n",
       "L149.94 22.0331\n",
       "L150.219 20.1604\n",
       "L150.498 19.8973\n",
       "L150.777 21.2657\n",
       "L151.057 24.2604\n",
       "L151.615 34.9728\n",
       "L152.174 51.4605\n",
       "L153.012 84.8129\n",
       "L155.804 208.935\n",
       "L156.363 224.044\n",
       "L156.922 232.957\n",
       "L157.201 234.89\n",
       "L157.48 235.087\n",
       "L157.759 233.544\n",
       "L158.039 230.285\n",
       "L158.597 218.859\n",
       "L159.156 201.546\n",
       "L159.994 167.078\n",
       "L162.507 52.5442\n",
       "L163.066 35.2644\n",
       "L163.624 23.7149\n",
       "L163.904 20.3062\n",
       "L164.183 18.5382\n",
       "L164.462 18.4245\n",
       "L164.741 19.9512\n",
       "L165.021 23.0776\n",
       "L165.579 33.8385\n",
       "L166.138 49.89\n",
       "L166.976 81.312\n",
       "L169.21 172.826\n",
       "L170.048 196.186\n",
       "L170.606 205.592\n",
       "L170.886 208.259\n",
       "L171.165 209.541\n",
       "L171.444 209.446\n",
       "L171.723 208.007\n",
       "L172.003 205.276\n",
       "L172.561 196.26\n",
       "L173.12 183.212\n",
       "L174.237 149.37\n",
       "L175.913 97.6377\n",
       "L176.75 79.352\n",
       "L177.309 71.6449\n",
       "L177.588 69.2567\n",
       "L177.867 67.8553\n",
       "L178.147 67.4252\n",
       "L178.426 67.9335\n",
       "L178.705 69.3309\n",
       "L179.264 74.5241\n",
       "L179.822 82.3453\n",
       "L180.94 102.574\n",
       "L182.336 127.559\n",
       "L183.174 138.106\n",
       "L183.732 142.416\n",
       "L184.012 143.709\n",
       "L184.291 144.44\n",
       "L184.57 144.633\n",
       "L184.849 144.327\n",
       "L185.129 143.569\n",
       "L185.687 140.933\n",
       "L186.525 135.239\n",
       "L187.642 127.567\n",
       "L188.201 124.935\n",
       "L188.48 124.104\n",
       "L188.759 123.639\n",
       "L189.039 123.56\n",
       "L189.318 123.872\n",
       "L189.597 124.571\n",
       "L190.156 127.046\n",
       "L190.994 132.85\n",
       "L192.669 145.604\n",
       "L193.228 147.961\n",
       "L193.507 148.464\n",
       "L193.786 148.443\n",
       "L194.066 147.857\n",
       "L194.345 146.675\n",
       "L194.904 142.469\n",
       "L195.462 135.859\n",
       "L196.3 122.069\n",
       "L199.093 70.1832\n",
       "L199.651 65.1791\n",
       "L199.931 63.9874\n",
       "L200.21 63.7538\n",
       "L200.489 64.5219\n",
       "L200.768 66.3178\n",
       "L201.327 73.0053\n",
       "L201.886 83.6483\n",
       "L202.723 105.913\n",
       "L204.12 152.281\n",
       "L205.237 186.925\n",
       "L205.795 199.959\n",
       "L206.354 208.688\n",
       "L206.633 211.18\n",
       "L206.913 212.325\n",
       "L207.192 212.075\n",
       "L207.471 210.405\n",
       "L207.75 207.314\n",
       "L208.309 196.99\n",
       "L208.867 181.579\n",
       "L209.705 150.847\n",
       "L212.498 38.387\n",
       "L213.057 25.279\n",
       "L213.615 18.103\n",
       "L213.895 16.9356\n",
       "L214.174 17.4348\n",
       "L214.453 19.6062\n",
       "L214.732 23.428\n",
       "L215.291 35.7982\n",
       "L215.849 53.8358\n",
       "L216.687 89.0426\n",
       "L219.201 203.568\n",
       "L219.759 220.287\n",
       "L220.318 230.998\n",
       "L220.597 233.871\n",
       "L220.876 235.021\n",
       "L221.156 234.431\n",
       "L221.435 232.115\n",
       "L221.714 228.114\n",
       "L222.273 215.352\n",
       "L222.831 196.998\n",
       "L223.669 161.708\n",
       "L225.904 60.3339\n",
       "L226.741 34.928\n",
       "L227.3 25.0647\n",
       "L227.579 22.4828\n",
       "L227.858 21.508\n",
       "L228.138 22.1371\n",
       "L228.417 24.3407\n",
       "L228.976 33.2259\n",
       "L229.534 47.439\n",
       "L230.372 76.3686\n",
       "L232.886 173.382\n",
       "L233.444 188.157\n",
       "L234.003 198.265\n",
       "L234.282 201.418\n",
       "L234.561 203.267\n",
       "L234.84 203.814\n",
       "L235.12 203.083\n",
       "L235.399 201.119\n",
       "L235.958 193.771\n",
       "L236.516 182.503\n",
       "L237.354 160.398\n",
       "L239.588 98.0465\n",
       "L240.147 87.2414\n",
       "L240.705 79.7279\n",
       "L241.264 75.7459\n",
       "L241.543 75.0778\n",
       "L241.822 75.2572\n",
       "L242.102 76.2393\n",
       "L242.66 80.3636\n",
       "L243.219 86.8438\n",
       "L244.336 103.842\n",
       "L245.732 124.567\n",
       "L246.291 130.598\n",
       "L246.849 134.741\n",
       "L247.408 136.881\n",
       "L247.687 137.22\n",
       "L247.967 137.107\n",
       "L248.246 136.583\n",
       "L248.804 134.514\n",
       "L249.642 129.825\n",
       "L250.759 123.639\n",
       "L251.318 121.793\n",
       "L251.597 121.368\n",
       "L251.876 121.322\n",
       "L252.156 121.675\n",
       "L252.435 122.437\n",
       "L252.994 125.162\n",
       "L253.552 129.324\n",
       "L254.669 140.377\n",
       "L255.786 151.156\n",
       "L256.345 154.779\n",
       "L256.624 155.874\n",
       "L256.904 156.404\n",
       "L257.183 156.317\n",
       "L257.462 155.57\n",
       "L257.741 154.136\n",
       "L258.3 149.164\n",
       "L258.858 141.467\n",
       "L259.696 125.558\n",
       "L262.489 65.3284\n",
       "L263.048 59.0185\n",
       "L263.327 57.2787\n",
       "L263.606 56.5763\n",
       "L263.886 56.9606\n",
       "L264.165 58.4628\n",
       "L264.444 61.0945\n",
       "L265.003 69.6917\n",
       "L265.561 82.438\n",
       "L266.399 107.875\n",
       "L269.192 201.132\n",
       "L269.75 211.644\n",
       "L270.03 214.983\n",
       "L270.309 216.93\n",
       "L270.588 217.427\n",
       "L270.867 216.441\n",
       "L271.147 213.963\n",
       "L271.705 204.616\n",
       "L272.264 189.813\n",
       "L273.102 159.237\n",
       "L276.174 33.1032\n",
       "L276.732 20.9891\n",
       "L277.012 17.2411\n",
       "L277.291 15.136\n",
       "L277.57 14.7186\n",
       "L277.849 16.006\n",
       "L278.129 18.9873\n",
       "L278.687 29.8485\n",
       "L279.246 46.668\n",
       "L280.084 80.7223\n",
       "L282.876 207.048\n",
       "L283.435 222.454\n",
       "L283.994 231.655\n",
       "L284.273 233.74\n",
       "L284.552 234.1\n",
       "L284.831 232.738\n",
       "L285.111 229.682\n",
       "L285.669 218.739\n",
       "L286.228 202.034\n",
       "L287.066 168.725\n",
       "L289.579 58.4593\n",
       "L290.138 41.8781\n",
       "L290.696 30.7612\n",
       "L290.976 27.4451\n",
       "L291.255 25.6766\n",
       "L291.534 25.4624\n",
       "L291.813 26.7835\n",
       "L292.093 29.5958\n",
       "L292.651 39.3977\n",
       "L293.21 54.0607\n",
       "L294.048 82.6981\n",
       "L296.282 165.113\n",
       "L297.12 185.782\n",
       "L297.678 194.004\n",
       "L297.958 196.307\n",
       "L298.237 197.39\n",
       "L298.516 197.271\n",
       "L298.795 195.988\n",
       "L299.075 193.597\n",
       "L299.633 185.806\n",
       "L300.471 168.154\n",
       "L303.264 99.3775\n",
       "L303.822 90.8076\n",
       "L304.381 85.3128\n",
       "L304.66 83.7567\n",
       "L304.94 82.9825\n",
       "L305.219 82.9622\n",
       "L305.498 83.6533\n",
       "L305.777 85.0006\n",
       "L306.336 89.3889\n",
       "L307.174 98.9659\n",
       "L308.849 119.961\n",
       "L309.408 125.15\n",
       "L309.967 128.719\n",
       "L310.525 130.517\n",
       "L310.804 130.76\n",
       "L311.084 130.594\n",
       "L311.363 130.055\n",
       "L311.922 128.05\n",
       "L312.759 123.639\n",
       "L312.759 123.639\" style=\"fill:none;stroke:#0000ff;stroke-linecap:square;\"/>\n",
       "   </g>\n",
       "   <g id=\"matplotlib.axis_1\">\n",
       "    <g id=\"xtick_1\">\n",
       "     <g id=\"line2d_2\">\n",
       "      <defs>\n",
       "       <path d=\"\n",
       "M0 0\n",
       "L0 -4\" id=\"m93b0483c22\" style=\"stroke:#000000;stroke-width:0.5;\"/>\n",
       "      </defs>\n",
       "      <g>\n",
       "       <use style=\"stroke:#000000;stroke-width:0.5;\" x=\"33.759375\" xlink:href=\"#m93b0483c22\" y=\"235.2390625\"/>\n",
       "      </g>\n",
       "     </g>\n",
       "     <g id=\"line2d_3\">\n",
       "      <defs>\n",
       "       <path d=\"\n",
       "M0 0\n",
       "L0 4\" id=\"m741efc42ff\" style=\"stroke:#000000;stroke-width:0.5;\"/>\n",
       "      </defs>\n",
       "      <g>\n",
       "       <use style=\"stroke:#000000;stroke-width:0.5;\" x=\"33.759375\" xlink:href=\"#m741efc42ff\" y=\"12.0390625\"/>\n",
       "      </g>\n",
       "     </g>\n",
       "     <g id=\"text_1\">\n",
       "      <!-- 0.00 -->\n",
       "      <defs>\n",
       "       <path d=\"\n",
       "M31.7812 66.4062\n",
       "Q24.1719 66.4062 20.3281 58.9062\n",
       "Q16.5 51.4219 16.5 36.375\n",
       "Q16.5 21.3906 20.3281 13.8906\n",
       "Q24.1719 6.39062 31.7812 6.39062\n",
       "Q39.4531 6.39062 43.2812 13.8906\n",
       "Q47.125 21.3906 47.125 36.375\n",
       "Q47.125 51.4219 43.2812 58.9062\n",
       "Q39.4531 66.4062 31.7812 66.4062\n",
       "M31.7812 74.2188\n",
       "Q44.0469 74.2188 50.5156 64.5156\n",
       "Q56.9844 54.8281 56.9844 36.375\n",
       "Q56.9844 17.9688 50.5156 8.26562\n",
       "Q44.0469 -1.42188 31.7812 -1.42188\n",
       "Q19.5312 -1.42188 13.0625 8.26562\n",
       "Q6.59375 17.9688 6.59375 36.375\n",
       "Q6.59375 54.8281 13.0625 64.5156\n",
       "Q19.5312 74.2188 31.7812 74.2188\" id=\"BitstreamVeraSans-Roman-30\"/>\n",
       "       <path d=\"\n",
       "M10.6875 12.4062\n",
       "L21 12.4062\n",
       "L21 0\n",
       "L10.6875 0\n",
       "z\n",
       "\" id=\"BitstreamVeraSans-Roman-2e\"/>\n",
       "      </defs>\n",
       "      <g transform=\"translate(23.28828125 246.8375)scale(0.1 -0.1)\">\n",
       "       <use xlink:href=\"#BitstreamVeraSans-Roman-30\"/>\n",
       "       <use x=\"63.623046875\" xlink:href=\"#BitstreamVeraSans-Roman-2e\"/>\n",
       "       <use x=\"95.41015625\" xlink:href=\"#BitstreamVeraSans-Roman-30\"/>\n",
       "       <use x=\"159.033203125\" xlink:href=\"#BitstreamVeraSans-Roman-30\"/>\n",
       "      </g>\n",
       "     </g>\n",
       "    </g>\n",
       "    <g id=\"xtick_2\">\n",
       "     <g id=\"line2d_4\">\n",
       "      <g>\n",
       "       <use style=\"stroke:#000000;stroke-width:0.5;\" x=\"89.559375\" xlink:href=\"#m93b0483c22\" y=\"235.2390625\"/>\n",
       "      </g>\n",
       "     </g>\n",
       "     <g id=\"line2d_5\">\n",
       "      <g>\n",
       "       <use style=\"stroke:#000000;stroke-width:0.5;\" x=\"89.559375\" xlink:href=\"#m741efc42ff\" y=\"12.0390625\"/>\n",
       "      </g>\n",
       "     </g>\n",
       "     <g id=\"text_2\">\n",
       "      <!-- 0.01 -->\n",
       "      <defs>\n",
       "       <path d=\"\n",
       "M12.4062 8.29688\n",
       "L28.5156 8.29688\n",
       "L28.5156 63.9219\n",
       "L10.9844 60.4062\n",
       "L10.9844 69.3906\n",
       "L28.4219 72.9062\n",
       "L38.2812 72.9062\n",
       "L38.2812 8.29688\n",
       "L54.3906 8.29688\n",
       "L54.3906 0\n",
       "L12.4062 0\n",
       "z\n",
       "\" id=\"BitstreamVeraSans-Roman-31\"/>\n",
       "      </defs>\n",
       "      <g transform=\"translate(79.21796875 246.8375)scale(0.1 -0.1)\">\n",
       "       <use xlink:href=\"#BitstreamVeraSans-Roman-30\"/>\n",
       "       <use x=\"63.623046875\" xlink:href=\"#BitstreamVeraSans-Roman-2e\"/>\n",
       "       <use x=\"95.41015625\" xlink:href=\"#BitstreamVeraSans-Roman-30\"/>\n",
       "       <use x=\"159.033203125\" xlink:href=\"#BitstreamVeraSans-Roman-31\"/>\n",
       "      </g>\n",
       "     </g>\n",
       "    </g>\n",
       "    <g id=\"xtick_3\">\n",
       "     <g id=\"line2d_6\">\n",
       "      <g>\n",
       "       <use style=\"stroke:#000000;stroke-width:0.5;\" x=\"145.359375\" xlink:href=\"#m93b0483c22\" y=\"235.2390625\"/>\n",
       "      </g>\n",
       "     </g>\n",
       "     <g id=\"line2d_7\">\n",
       "      <g>\n",
       "       <use style=\"stroke:#000000;stroke-width:0.5;\" x=\"145.359375\" xlink:href=\"#m741efc42ff\" y=\"12.0390625\"/>\n",
       "      </g>\n",
       "     </g>\n",
       "     <g id=\"text_3\">\n",
       "      <!-- 0.02 -->\n",
       "      <defs>\n",
       "       <path d=\"\n",
       "M19.1875 8.29688\n",
       "L53.6094 8.29688\n",
       "L53.6094 0\n",
       "L7.32812 0\n",
       "L7.32812 8.29688\n",
       "Q12.9375 14.1094 22.625 23.8906\n",
       "Q32.3281 33.6875 34.8125 36.5312\n",
       "Q39.5469 41.8438 41.4219 45.5312\n",
       "Q43.3125 49.2188 43.3125 52.7812\n",
       "Q43.3125 58.5938 39.2344 62.25\n",
       "Q35.1562 65.9219 28.6094 65.9219\n",
       "Q23.9688 65.9219 18.8125 64.3125\n",
       "Q13.6719 62.7031 7.8125 59.4219\n",
       "L7.8125 69.3906\n",
       "Q13.7656 71.7812 18.9375 73\n",
       "Q24.125 74.2188 28.4219 74.2188\n",
       "Q39.75 74.2188 46.4844 68.5469\n",
       "Q53.2188 62.8906 53.2188 53.4219\n",
       "Q53.2188 48.9219 51.5312 44.8906\n",
       "Q49.8594 40.875 45.4062 35.4062\n",
       "Q44.1875 33.9844 37.6406 27.2188\n",
       "Q31.1094 20.4531 19.1875 8.29688\" id=\"BitstreamVeraSans-Roman-32\"/>\n",
       "      </defs>\n",
       "      <g transform=\"translate(135.05703125 246.8375)scale(0.1 -0.1)\">\n",
       "       <use xlink:href=\"#BitstreamVeraSans-Roman-30\"/>\n",
       "       <use x=\"63.623046875\" xlink:href=\"#BitstreamVeraSans-Roman-2e\"/>\n",
       "       <use x=\"95.41015625\" xlink:href=\"#BitstreamVeraSans-Roman-30\"/>\n",
       "       <use x=\"159.033203125\" xlink:href=\"#BitstreamVeraSans-Roman-32\"/>\n",
       "      </g>\n",
       "     </g>\n",
       "    </g>\n",
       "    <g id=\"xtick_4\">\n",
       "     <g id=\"line2d_8\">\n",
       "      <g>\n",
       "       <use style=\"stroke:#000000;stroke-width:0.5;\" x=\"201.159375\" xlink:href=\"#m93b0483c22\" y=\"235.2390625\"/>\n",
       "      </g>\n",
       "     </g>\n",
       "     <g id=\"line2d_9\">\n",
       "      <g>\n",
       "       <use style=\"stroke:#000000;stroke-width:0.5;\" x=\"201.159375\" xlink:href=\"#m741efc42ff\" y=\"12.0390625\"/>\n",
       "      </g>\n",
       "     </g>\n",
       "     <g id=\"text_4\">\n",
       "      <!-- 0.03 -->\n",
       "      <defs>\n",
       "       <path d=\"\n",
       "M40.5781 39.3125\n",
       "Q47.6562 37.7969 51.625 33\n",
       "Q55.6094 28.2188 55.6094 21.1875\n",
       "Q55.6094 10.4062 48.1875 4.48438\n",
       "Q40.7656 -1.42188 27.0938 -1.42188\n",
       "Q22.5156 -1.42188 17.6562 -0.515625\n",
       "Q12.7969 0.390625 7.625 2.20312\n",
       "L7.625 11.7188\n",
       "Q11.7188 9.32812 16.5938 8.10938\n",
       "Q21.4844 6.89062 26.8125 6.89062\n",
       "Q36.0781 6.89062 40.9375 10.5469\n",
       "Q45.7969 14.2031 45.7969 21.1875\n",
       "Q45.7969 27.6406 41.2812 31.2656\n",
       "Q36.7656 34.9062 28.7188 34.9062\n",
       "L20.2188 34.9062\n",
       "L20.2188 43.0156\n",
       "L29.1094 43.0156\n",
       "Q36.375 43.0156 40.2344 45.9219\n",
       "Q44.0938 48.8281 44.0938 54.2969\n",
       "Q44.0938 59.9062 40.1094 62.9062\n",
       "Q36.1406 65.9219 28.7188 65.9219\n",
       "Q24.6562 65.9219 20.0156 65.0312\n",
       "Q15.375 64.1562 9.8125 62.3125\n",
       "L9.8125 71.0938\n",
       "Q15.4375 72.6562 20.3438 73.4375\n",
       "Q25.25 74.2188 29.5938 74.2188\n",
       "Q40.8281 74.2188 47.3594 69.1094\n",
       "Q53.9062 64.0156 53.9062 55.3281\n",
       "Q53.9062 49.2656 50.4375 45.0938\n",
       "Q46.9688 40.9219 40.5781 39.3125\" id=\"BitstreamVeraSans-Roman-33\"/>\n",
       "      </defs>\n",
       "      <g transform=\"translate(190.75703125 246.8375)scale(0.1 -0.1)\">\n",
       "       <use xlink:href=\"#BitstreamVeraSans-Roman-30\"/>\n",
       "       <use x=\"63.623046875\" xlink:href=\"#BitstreamVeraSans-Roman-2e\"/>\n",
       "       <use x=\"95.41015625\" xlink:href=\"#BitstreamVeraSans-Roman-30\"/>\n",
       "       <use x=\"159.033203125\" xlink:href=\"#BitstreamVeraSans-Roman-33\"/>\n",
       "      </g>\n",
       "     </g>\n",
       "    </g>\n",
       "    <g id=\"xtick_5\">\n",
       "     <g id=\"line2d_10\">\n",
       "      <g>\n",
       "       <use style=\"stroke:#000000;stroke-width:0.5;\" x=\"256.959375\" xlink:href=\"#m93b0483c22\" y=\"235.2390625\"/>\n",
       "      </g>\n",
       "     </g>\n",
       "     <g id=\"line2d_11\">\n",
       "      <g>\n",
       "       <use style=\"stroke:#000000;stroke-width:0.5;\" x=\"256.959375\" xlink:href=\"#m741efc42ff\" y=\"12.0390625\"/>\n",
       "      </g>\n",
       "     </g>\n",
       "     <g id=\"text_5\">\n",
       "      <!-- 0.04 -->\n",
       "      <defs>\n",
       "       <path d=\"\n",
       "M37.7969 64.3125\n",
       "L12.8906 25.3906\n",
       "L37.7969 25.3906\n",
       "z\n",
       "\n",
       "M35.2031 72.9062\n",
       "L47.6094 72.9062\n",
       "L47.6094 25.3906\n",
       "L58.0156 25.3906\n",
       "L58.0156 17.1875\n",
       "L47.6094 17.1875\n",
       "L47.6094 0\n",
       "L37.7969 0\n",
       "L37.7969 17.1875\n",
       "L4.89062 17.1875\n",
       "L4.89062 26.7031\n",
       "z\n",
       "\" id=\"BitstreamVeraSans-Roman-34\"/>\n",
       "      </defs>\n",
       "      <g transform=\"translate(246.43671875 246.8375)scale(0.1 -0.1)\">\n",
       "       <use xlink:href=\"#BitstreamVeraSans-Roman-30\"/>\n",
       "       <use x=\"63.623046875\" xlink:href=\"#BitstreamVeraSans-Roman-2e\"/>\n",
       "       <use x=\"95.41015625\" xlink:href=\"#BitstreamVeraSans-Roman-30\"/>\n",
       "       <use x=\"159.033203125\" xlink:href=\"#BitstreamVeraSans-Roman-34\"/>\n",
       "      </g>\n",
       "     </g>\n",
       "    </g>\n",
       "    <g id=\"xtick_6\">\n",
       "     <g id=\"line2d_12\">\n",
       "      <g>\n",
       "       <use style=\"stroke:#000000;stroke-width:0.5;\" x=\"312.759375\" xlink:href=\"#m93b0483c22\" y=\"235.2390625\"/>\n",
       "      </g>\n",
       "     </g>\n",
       "     <g id=\"line2d_13\">\n",
       "      <g>\n",
       "       <use style=\"stroke:#000000;stroke-width:0.5;\" x=\"312.759375\" xlink:href=\"#m741efc42ff\" y=\"12.0390625\"/>\n",
       "      </g>\n",
       "     </g>\n",
       "     <g id=\"text_6\">\n",
       "      <!-- 0.05 -->\n",
       "      <defs>\n",
       "       <path d=\"\n",
       "M10.7969 72.9062\n",
       "L49.5156 72.9062\n",
       "L49.5156 64.5938\n",
       "L19.8281 64.5938\n",
       "L19.8281 46.7344\n",
       "Q21.9688 47.4688 24.1094 47.8281\n",
       "Q26.2656 48.1875 28.4219 48.1875\n",
       "Q40.625 48.1875 47.75 41.5\n",
       "Q54.8906 34.8125 54.8906 23.3906\n",
       "Q54.8906 11.625 47.5625 5.09375\n",
       "Q40.2344 -1.42188 26.9062 -1.42188\n",
       "Q22.3125 -1.42188 17.5469 -0.640625\n",
       "Q12.7969 0.140625 7.71875 1.70312\n",
       "L7.71875 11.625\n",
       "Q12.1094 9.23438 16.7969 8.0625\n",
       "Q21.4844 6.89062 26.7031 6.89062\n",
       "Q35.1562 6.89062 40.0781 11.3281\n",
       "Q45.0156 15.7656 45.0156 23.3906\n",
       "Q45.0156 31 40.0781 35.4375\n",
       "Q35.1562 39.8906 26.7031 39.8906\n",
       "Q22.75 39.8906 18.8125 39.0156\n",
       "Q14.8906 38.1406 10.7969 36.2812\n",
       "z\n",
       "\" id=\"BitstreamVeraSans-Roman-35\"/>\n",
       "      </defs>\n",
       "      <g transform=\"translate(302.39296875 246.8375)scale(0.1 -0.1)\">\n",
       "       <use xlink:href=\"#BitstreamVeraSans-Roman-30\"/>\n",
       "       <use x=\"63.623046875\" xlink:href=\"#BitstreamVeraSans-Roman-2e\"/>\n",
       "       <use x=\"95.41015625\" xlink:href=\"#BitstreamVeraSans-Roman-30\"/>\n",
       "       <use x=\"159.033203125\" xlink:href=\"#BitstreamVeraSans-Roman-35\"/>\n",
       "      </g>\n",
       "     </g>\n",
       "    </g>\n",
       "    <g id=\"xtick_7\">\n",
       "     <g id=\"line2d_14\">\n",
       "      <g>\n",
       "       <use style=\"stroke:#000000;stroke-width:0.5;\" x=\"368.559375\" xlink:href=\"#m93b0483c22\" y=\"235.2390625\"/>\n",
       "      </g>\n",
       "     </g>\n",
       "     <g id=\"line2d_15\">\n",
       "      <g>\n",
       "       <use style=\"stroke:#000000;stroke-width:0.5;\" x=\"368.559375\" xlink:href=\"#m741efc42ff\" y=\"12.0390625\"/>\n",
       "      </g>\n",
       "     </g>\n",
       "     <g id=\"text_7\">\n",
       "      <!-- 0.06 -->\n",
       "      <defs>\n",
       "       <path d=\"\n",
       "M33.0156 40.375\n",
       "Q26.375 40.375 22.4844 35.8281\n",
       "Q18.6094 31.2969 18.6094 23.3906\n",
       "Q18.6094 15.5312 22.4844 10.9531\n",
       "Q26.375 6.39062 33.0156 6.39062\n",
       "Q39.6562 6.39062 43.5312 10.9531\n",
       "Q47.4062 15.5312 47.4062 23.3906\n",
       "Q47.4062 31.2969 43.5312 35.8281\n",
       "Q39.6562 40.375 33.0156 40.375\n",
       "M52.5938 71.2969\n",
       "L52.5938 62.3125\n",
       "Q48.875 64.0625 45.0938 64.9844\n",
       "Q41.3125 65.9219 37.5938 65.9219\n",
       "Q27.8281 65.9219 22.6719 59.3281\n",
       "Q17.5312 52.7344 16.7969 39.4062\n",
       "Q19.6719 43.6562 24.0156 45.9219\n",
       "Q28.375 48.1875 33.5938 48.1875\n",
       "Q44.5781 48.1875 50.9531 41.5156\n",
       "Q57.3281 34.8594 57.3281 23.3906\n",
       "Q57.3281 12.1562 50.6875 5.35938\n",
       "Q44.0469 -1.42188 33.0156 -1.42188\n",
       "Q20.3594 -1.42188 13.6719 8.26562\n",
       "Q6.98438 17.9688 6.98438 36.375\n",
       "Q6.98438 53.6562 15.1875 63.9375\n",
       "Q23.3906 74.2188 37.2031 74.2188\n",
       "Q40.9219 74.2188 44.7031 73.4844\n",
       "Q48.4844 72.75 52.5938 71.2969\" id=\"BitstreamVeraSans-Roman-36\"/>\n",
       "      </defs>\n",
       "      <g transform=\"translate(358.07109375 246.8375)scale(0.1 -0.1)\">\n",
       "       <use xlink:href=\"#BitstreamVeraSans-Roman-30\"/>\n",
       "       <use x=\"63.623046875\" xlink:href=\"#BitstreamVeraSans-Roman-2e\"/>\n",
       "       <use x=\"95.41015625\" xlink:href=\"#BitstreamVeraSans-Roman-30\"/>\n",
       "       <use x=\"159.033203125\" xlink:href=\"#BitstreamVeraSans-Roman-36\"/>\n",
       "      </g>\n",
       "     </g>\n",
       "    </g>\n",
       "   </g>\n",
       "   <g id=\"matplotlib.axis_2\">\n",
       "    <g id=\"ytick_1\">\n",
       "     <g id=\"line2d_16\">\n",
       "      <defs>\n",
       "       <path d=\"\n",
       "M0 0\n",
       "L4 0\" id=\"m728421d6d4\" style=\"stroke:#000000;stroke-width:0.5;\"/>\n",
       "      </defs>\n",
       "      <g>\n",
       "       <use style=\"stroke:#000000;stroke-width:0.5;\" x=\"33.759375\" xlink:href=\"#m728421d6d4\" y=\"235.2390625\"/>\n",
       "      </g>\n",
       "     </g>\n",
       "     <g id=\"line2d_17\">\n",
       "      <defs>\n",
       "       <path d=\"\n",
       "M0 0\n",
       "L-4 0\" id=\"mcb0005524f\" style=\"stroke:#000000;stroke-width:0.5;\"/>\n",
       "      </defs>\n",
       "      <g>\n",
       "       <use style=\"stroke:#000000;stroke-width:0.5;\" x=\"368.559375\" xlink:href=\"#mcb0005524f\" y=\"235.2390625\"/>\n",
       "      </g>\n",
       "     </g>\n",
       "     <g id=\"text_8\">\n",
       "      <!-- −1.0 -->\n",
       "      <defs>\n",
       "       <path d=\"\n",
       "M10.5938 35.5\n",
       "L73.1875 35.5\n",
       "L73.1875 27.2031\n",
       "L10.5938 27.2031\n",
       "z\n",
       "\" id=\"BitstreamVeraSans-Roman-2212\"/>\n",
       "      </defs>\n",
       "      <g transform=\"translate(7.2 237.9984375)scale(0.1 -0.1)\">\n",
       "       <use xlink:href=\"#BitstreamVeraSans-Roman-2212\"/>\n",
       "       <use x=\"83.7890625\" xlink:href=\"#BitstreamVeraSans-Roman-31\"/>\n",
       "       <use x=\"147.412109375\" xlink:href=\"#BitstreamVeraSans-Roman-2e\"/>\n",
       "       <use x=\"179.19921875\" xlink:href=\"#BitstreamVeraSans-Roman-30\"/>\n",
       "      </g>\n",
       "     </g>\n",
       "    </g>\n",
       "    <g id=\"ytick_2\">\n",
       "     <g id=\"line2d_18\">\n",
       "      <g>\n",
       "       <use style=\"stroke:#000000;stroke-width:0.5;\" x=\"33.759375\" xlink:href=\"#m728421d6d4\" y=\"179.4390625\"/>\n",
       "      </g>\n",
       "     </g>\n",
       "     <g id=\"line2d_19\">\n",
       "      <g>\n",
       "       <use style=\"stroke:#000000;stroke-width:0.5;\" x=\"368.559375\" xlink:href=\"#mcb0005524f\" y=\"179.4390625\"/>\n",
       "      </g>\n",
       "     </g>\n",
       "     <g id=\"text_9\">\n",
       "      <!-- −0.5 -->\n",
       "      <g transform=\"translate(7.409375 182.1984375)scale(0.1 -0.1)\">\n",
       "       <use xlink:href=\"#BitstreamVeraSans-Roman-2212\"/>\n",
       "       <use x=\"83.7890625\" xlink:href=\"#BitstreamVeraSans-Roman-30\"/>\n",
       "       <use x=\"147.412109375\" xlink:href=\"#BitstreamVeraSans-Roman-2e\"/>\n",
       "       <use x=\"179.19921875\" xlink:href=\"#BitstreamVeraSans-Roman-35\"/>\n",
       "      </g>\n",
       "     </g>\n",
       "    </g>\n",
       "    <g id=\"ytick_3\">\n",
       "     <g id=\"line2d_20\">\n",
       "      <g>\n",
       "       <use style=\"stroke:#000000;stroke-width:0.5;\" x=\"33.759375\" xlink:href=\"#m728421d6d4\" y=\"123.6390625\"/>\n",
       "      </g>\n",
       "     </g>\n",
       "     <g id=\"line2d_21\">\n",
       "      <g>\n",
       "       <use style=\"stroke:#000000;stroke-width:0.5;\" x=\"368.559375\" xlink:href=\"#mcb0005524f\" y=\"123.6390625\"/>\n",
       "      </g>\n",
       "     </g>\n",
       "     <g id=\"text_10\">\n",
       "      <!-- 0.0 -->\n",
       "      <g transform=\"translate(15.1796875 126.3984375)scale(0.1 -0.1)\">\n",
       "       <use xlink:href=\"#BitstreamVeraSans-Roman-30\"/>\n",
       "       <use x=\"63.623046875\" xlink:href=\"#BitstreamVeraSans-Roman-2e\"/>\n",
       "       <use x=\"95.41015625\" xlink:href=\"#BitstreamVeraSans-Roman-30\"/>\n",
       "      </g>\n",
       "     </g>\n",
       "    </g>\n",
       "    <g id=\"ytick_4\">\n",
       "     <g id=\"line2d_22\">\n",
       "      <g>\n",
       "       <use style=\"stroke:#000000;stroke-width:0.5;\" x=\"33.759375\" xlink:href=\"#m728421d6d4\" y=\"67.8390625\"/>\n",
       "      </g>\n",
       "     </g>\n",
       "     <g id=\"line2d_23\">\n",
       "      <g>\n",
       "       <use style=\"stroke:#000000;stroke-width:0.5;\" x=\"368.559375\" xlink:href=\"#mcb0005524f\" y=\"67.8390625\"/>\n",
       "      </g>\n",
       "     </g>\n",
       "     <g id=\"text_11\">\n",
       "      <!-- 0.5 -->\n",
       "      <g transform=\"translate(15.3890625 70.5984375)scale(0.1 -0.1)\">\n",
       "       <use xlink:href=\"#BitstreamVeraSans-Roman-30\"/>\n",
       "       <use x=\"63.623046875\" xlink:href=\"#BitstreamVeraSans-Roman-2e\"/>\n",
       "       <use x=\"95.41015625\" xlink:href=\"#BitstreamVeraSans-Roman-35\"/>\n",
       "      </g>\n",
       "     </g>\n",
       "    </g>\n",
       "    <g id=\"ytick_5\">\n",
       "     <g id=\"line2d_24\">\n",
       "      <g>\n",
       "       <use style=\"stroke:#000000;stroke-width:0.5;\" x=\"33.759375\" xlink:href=\"#m728421d6d4\" y=\"12.0390625\"/>\n",
       "      </g>\n",
       "     </g>\n",
       "     <g id=\"line2d_25\">\n",
       "      <g>\n",
       "       <use style=\"stroke:#000000;stroke-width:0.5;\" x=\"368.559375\" xlink:href=\"#mcb0005524f\" y=\"12.0390625\"/>\n",
       "      </g>\n",
       "     </g>\n",
       "     <g id=\"text_12\">\n",
       "      <!-- 1.0 -->\n",
       "      <g transform=\"translate(15.61875 14.7984375)scale(0.1 -0.1)\">\n",
       "       <use xlink:href=\"#BitstreamVeraSans-Roman-31\"/>\n",
       "       <use x=\"63.623046875\" xlink:href=\"#BitstreamVeraSans-Roman-2e\"/>\n",
       "       <use x=\"95.41015625\" xlink:href=\"#BitstreamVeraSans-Roman-30\"/>\n",
       "      </g>\n",
       "     </g>\n",
       "    </g>\n",
       "   </g>\n",
       "   <g id=\"patch_3\">\n",
       "    <path d=\"\n",
       "M33.7594 12.0391\n",
       "L368.559 12.0391\" style=\"fill:none;stroke:#000000;\"/>\n",
       "   </g>\n",
       "   <g id=\"patch_4\">\n",
       "    <path d=\"\n",
       "M368.559 235.239\n",
       "L368.559 12.0391\" style=\"fill:none;stroke:#000000;\"/>\n",
       "   </g>\n",
       "   <g id=\"patch_5\">\n",
       "    <path d=\"\n",
       "M33.7594 235.239\n",
       "L368.559 235.239\" style=\"fill:none;stroke:#000000;\"/>\n",
       "   </g>\n",
       "   <g id=\"patch_6\">\n",
       "    <path d=\"\n",
       "M33.7594 235.239\n",
       "L33.7594 12.0391\" style=\"fill:none;stroke:#000000;\"/>\n",
       "   </g>\n",
       "  </g>\n",
       " </g>\n",
       " <defs>\n",
       "  <clipPath id=\"p77e3de05a9\">\n",
       "   <rect height=\"223.2\" width=\"334.8\" x=\"33.759375\" y=\"12.0390625\"/>\n",
       "  </clipPath>\n",
       " </defs>\n",
       "</svg>\n"
      ],
      "text/plain": [
       "<matplotlib.figure.Figure at 0x10892af90>"
      ]
     },
     "metadata": {},
     "output_type": "display_data"
    }
   ],
   "source": [
    "t = np.linspace(0, 0.05, 1000)\n",
    "plt.plot(t, g(t))"
   ]
  },
  {
   "cell_type": "code",
   "execution_count": 19,
   "metadata": {
    "collapsed": false,
    "slideshow": {
     "slide_type": "slide"
    }
   },
   "outputs": [
    {
     "data": {
      "image/svg+xml": [
       "<?xml version=\"1.0\" encoding=\"utf-8\" standalone=\"no\"?>\n",
       "<!DOCTYPE svg PUBLIC \"-//W3C//DTD SVG 1.1//EN\"\n",
       "  \"http://www.w3.org/Graphics/SVG/1.1/DTD/svg11.dtd\">\n",
       "<!-- Created with matplotlib (http://matplotlib.org/) -->\n",
       "<svg height=\"303pt\" version=\"1.1\" viewBox=\"0 0 721 303\" width=\"721pt\" xmlns=\"http://www.w3.org/2000/svg\" xmlns:xlink=\"http://www.w3.org/1999/xlink\">\n",
       " <defs>\n",
       "  <style type=\"text/css\">\n",
       "*{stroke-linecap:butt;stroke-linejoin:round;}\n",
       "  </style>\n",
       " </defs>\n",
       " <g id=\"figure_1\">\n",
       "  <g id=\"patch_1\">\n",
       "   <path d=\"\n",
       "M0 303.078\n",
       "L721.048 303.078\n",
       "L721.048 0\n",
       "L0 0\n",
       "z\n",
       "\" style=\"fill:none;\"/>\n",
       "  </g>\n",
       "  <g id=\"axes_1\">\n",
       "   <g id=\"patch_2\">\n",
       "    <path d=\"\n",
       "M33.7594 291.039\n",
       "L703.359 291.039\n",
       "L703.359 12.0391\n",
       "L33.7594 12.0391\n",
       "z\n",
       "\" style=\"fill:none;\"/>\n",
       "   </g>\n",
       "   <g id=\"line2d_1\">\n",
       "    <path clip-path=\"url(#pc6b53aaff8)\" d=\"\n",
       "M33.7594 151.539\n",
       "L35.9936 85.1494\n",
       "L37.1107 57.2718\n",
       "L38.2278 35.3766\n",
       "L38.7864 27.1157\n",
       "L39.345 20.824\n",
       "L39.9035 16.5949\n",
       "L40.4621 14.4875\n",
       "L41.0206 14.5259\n",
       "L41.5792 16.699\n",
       "L42.1378 20.9607\n",
       "L42.6963 27.2308\n",
       "L43.2549 35.3968\n",
       "L44.372 56.8164\n",
       "L45.4891 83.7596\n",
       "L47.1648 130.534\n",
       "L49.399 194.03\n",
       "L50.5161 221.724\n",
       "L51.6332 244.388\n",
       "L52.7504 260.708\n",
       "L53.3089 266.199\n",
       "L53.8675 269.817\n",
       "L54.426 271.533\n",
       "L54.9846 271.347\n",
       "L55.5432 269.293\n",
       "L56.1017 265.435\n",
       "L56.6603 259.865\n",
       "L57.2188 252.704\n",
       "L58.336 234.209\n",
       "L59.4531 211.348\n",
       "L62.2459 146.108\n",
       "L63.9215 110.055\n",
       "L65.0387 90.4911\n",
       "L66.1558 75.8038\n",
       "L66.7143 70.521\n",
       "L67.2729 66.6846\n",
       "L67.8314 64.3159\n",
       "L68.39 63.4103\n",
       "L68.9486 63.9375\n",
       "L69.5071 65.8427\n",
       "L70.0657 69.0487\n",
       "L70.6242 73.4574\n",
       "L71.7414 85.4001\n",
       "L72.8585 100.565\n",
       "L77.8855 174.652\n",
       "L79.0026 185.707\n",
       "L79.5612 189.923\n",
       "L80.1197 193.215\n",
       "L80.6783 195.571\n",
       "L81.2369 196.998\n",
       "L81.7954 197.522\n",
       "L82.354 197.187\n",
       "L82.9125 196.053\n",
       "L83.4711 194.195\n",
       "L84.0296 191.699\n",
       "L85.1468 185.186\n",
       "L86.8224 173.244\n",
       "L88.4981 161.314\n",
       "L89.6152 154.657\n",
       "L90.7323 149.704\n",
       "L91.2909 147.977\n",
       "L91.8495 146.78\n",
       "L92.408 146.114\n",
       "L92.9666 145.965\n",
       "L93.5251 146.306\n",
       "L94.0837 147.095\n",
       "L94.6423 148.275\n",
       "L95.7594 151.539\n",
       "L98.5522 161.039\n",
       "L99.1107 162.453\n",
       "L99.6693 163.509\n",
       "L100.228 164.135\n",
       "L100.786 164.273\n",
       "L101.345 163.875\n",
       "L101.904 162.908\n",
       "L102.462 161.351\n",
       "L103.021 159.203\n",
       "L104.138 153.202\n",
       "L105.255 145.202\n",
       "L106.931 130.698\n",
       "L109.165 110.967\n",
       "L110.282 103.062\n",
       "L110.84 100.011\n",
       "L111.399 97.7034\n",
       "L111.958 96.2299\n",
       "L112.516 95.6696\n",
       "L113.075 96.0856\n",
       "L113.633 97.5232\n",
       "L114.192 100.009\n",
       "L114.75 103.548\n",
       "L115.309 108.127\n",
       "L116.426 120.235\n",
       "L117.543 135.793\n",
       "L119.219 163.65\n",
       "L122.012 211.887\n",
       "L123.129 227.757\n",
       "L124.246 239.663\n",
       "L124.804 243.779\n",
       "L125.363 246.517\n",
       "L125.922 247.79\n",
       "L126.48 247.534\n",
       "L127.039 245.71\n",
       "L127.597 242.308\n",
       "L128.156 237.342\n",
       "L128.714 230.856\n",
       "L129.831 213.636\n",
       "L130.949 191.532\n",
       "L132.624 152.068\n",
       "L135.417 83.4756\n",
       "L136.534 60.3665\n",
       "L137.651 42.2813\n",
       "L138.21 35.5592\n",
       "L138.768 30.5713\n",
       "L139.327 27.4246\n",
       "L139.886 26.1966\n",
       "L140.444 26.9333\n",
       "L141.003 29.6489\n",
       "L141.561 34.3241\n",
       "L142.12 40.9071\n",
       "L142.678 49.3134\n",
       "L143.795 71.103\n",
       "L144.913 98.4246\n",
       "L146.588 146.065\n",
       "L149.381 226.296\n",
       "L150.498 252.617\n",
       "L151.615 272.894\n",
       "L152.174 280.323\n",
       "L152.732 285.767\n",
       "L153.291 289.131\n",
       "L153.849 290.354\n",
       "L154.408 289.411\n",
       "L154.967 286.31\n",
       "L155.525 281.096\n",
       "L156.084 273.851\n",
       "L157.201 253.747\n",
       "L158.318 227.269\n",
       "L159.994 179.381\n",
       "L162.786 95.1396\n",
       "L163.904 66.1474\n",
       "L165.021 42.701\n",
       "L165.579 33.5242\n",
       "L166.138 26.2381\n",
       "L166.696 20.9485\n",
       "L167.255 17.7278\n",
       "L167.813 16.6139\n",
       "L168.372 17.6101\n",
       "L168.931 20.685\n",
       "L169.489 25.7731\n",
       "L170.048 32.7766\n",
       "L171.165 51.9867\n",
       "L172.282 76.9641\n",
       "L173.958 121.453\n",
       "L176.75 197.828\n",
       "L177.867 223.494\n",
       "L178.985 243.923\n",
       "L179.543 251.799\n",
       "L180.102 257.974\n",
       "L180.66 262.374\n",
       "L181.219 264.961\n",
       "L181.777 265.725\n",
       "L182.336 264.688\n",
       "L182.895 261.9\n",
       "L183.453 257.441\n",
       "L184.012 251.418\n",
       "L185.129 235.222\n",
       "L186.246 214.6\n",
       "L188.48 166.322\n",
       "L190.156 130.484\n",
       "L191.273 109.659\n",
       "L192.39 92.7361\n",
       "L193.507 80.5922\n",
       "L194.066 76.4833\n",
       "L194.624 73.725\n",
       "L195.183 72.3175\n",
       "L195.741 72.237\n",
       "L196.3 73.4365\n",
       "L196.858 75.8474\n",
       "L197.417 79.3815\n",
       "L198.534 89.3803\n",
       "L199.651 102.422\n",
       "L201.886 132.934\n",
       "L203.561 155.037\n",
       "L204.678 167.472\n",
       "L205.795 177.201\n",
       "L206.354 180.905\n",
       "L206.913 183.792\n",
       "L207.471 185.856\n",
       "L208.03 187.106\n",
       "L208.588 187.572\n",
       "L209.147 187.296\n",
       "L209.705 186.339\n",
       "L210.264 184.771\n",
       "L210.822 182.677\n",
       "L211.94 177.281\n",
       "L215.291 158.678\n",
       "L216.408 154.14\n",
       "L216.967 152.499\n",
       "L217.525 151.328\n",
       "L218.084 150.649\n",
       "L218.642 150.466\n",
       "L219.201 150.771\n",
       "L219.759 151.539\n",
       "L220.318 152.73\n",
       "L221.435 156.163\n",
       "L223.111 162.834\n",
       "L224.228 167.276\n",
       "L225.345 170.842\n",
       "L225.904 172.074\n",
       "L226.462 172.835\n",
       "L227.021 173.056\n",
       "L227.579 172.683\n",
       "L228.138 171.674\n",
       "L228.696 170.002\n",
       "L229.255 167.657\n",
       "L229.813 164.645\n",
       "L230.931 156.73\n",
       "L232.048 146.645\n",
       "L233.723 128.903\n",
       "L235.958 105.184\n",
       "L237.075 95.6395\n",
       "L237.633 91.8948\n",
       "L238.192 88.9877\n",
       "L238.75 87.0179\n",
       "L239.309 86.0701\n",
       "L239.867 86.2123\n",
       "L240.426 87.4935\n",
       "L240.985 89.9421\n",
       "L241.543 93.5651\n",
       "L242.102 98.3469\n",
       "L243.219 111.211\n",
       "L244.336 127.961\n",
       "L246.012 158.301\n",
       "L248.804 211.84\n",
       "L249.922 229.95\n",
       "L251.039 244.001\n",
       "L251.597 249.121\n",
       "L252.156 252.801\n",
       "L252.714 254.943\n",
       "L253.273 255.471\n",
       "L253.831 254.338\n",
       "L254.39 251.522\n",
       "L254.949 247.032\n",
       "L255.507 240.906\n",
       "L256.624 224.037\n",
       "L257.741 201.78\n",
       "L259.417 161.155\n",
       "L262.768 75.3745\n",
       "L263.886 52.3524\n",
       "L265.003 34.9777\n",
       "L265.561 28.8245\n",
       "L266.12 24.5316\n",
       "L266.678 22.1907\n",
       "L267.237 21.8619\n",
       "L267.795 23.5724\n",
       "L268.354 27.3158\n",
       "L268.913 33.0516\n",
       "L269.471 40.7063\n",
       "L270.588 61.3159\n",
       "L271.705 87.9362\n",
       "L273.381 135.495\n",
       "L276.174 218.133\n",
       "L277.291 246.18\n",
       "L278.408 268.503\n",
       "L278.967 277.045\n",
       "L279.525 283.643\n",
       "L280.084 288.187\n",
       "L280.642 290.603\n",
       "L281.201 290.849\n",
       "L281.759 288.92\n",
       "L282.318 284.847\n",
       "L282.876 278.695\n",
       "L283.435 270.564\n",
       "L284.552 248.923\n",
       "L285.669 221.325\n",
       "L287.345 172.736\n",
       "L290.138 90.1452\n",
       "L291.255 62.6705\n",
       "L292.372 41.0707\n",
       "L292.931 32.8946\n",
       "L293.489 26.6339\n",
       "L294.048 22.373\n",
       "L294.606 20.163\n",
       "L295.165 20.0208\n",
       "L295.723 21.9292\n",
       "L296.282 25.8372\n",
       "L296.84 31.6616\n",
       "L297.399 39.2884\n",
       "L298.516 59.3527\n",
       "L299.633 84.5986\n",
       "L301.867 143.502\n",
       "L303.543 187.393\n",
       "L304.66 213.023\n",
       "L305.777 233.925\n",
       "L306.895 248.934\n",
       "L307.453 253.981\n",
       "L308.012 257.315\n",
       "L308.57 258.917\n",
       "L309.129 258.798\n",
       "L309.687 256.998\n",
       "L310.246 253.585\n",
       "L310.804 248.651\n",
       "L311.922 234.714\n",
       "L313.039 216.362\n",
       "L314.714 183.703\n",
       "L317.507 128.538\n",
       "L318.624 110.403\n",
       "L319.741 96.1802\n",
       "L320.3 90.7616\n",
       "L320.858 86.5464\n",
       "L321.417 83.5611\n",
       "L321.976 81.8094\n",
       "L322.534 81.2717\n",
       "L323.093 81.9071\n",
       "L323.651 83.6539\n",
       "L324.21 86.4322\n",
       "L324.768 90.1453\n",
       "L325.886 99.9218\n",
       "L327.003 111.976\n",
       "L330.354 150.881\n",
       "L331.471 161.459\n",
       "L332.588 169.622\n",
       "L333.147 172.675\n",
       "L333.705 175.01\n",
       "L334.264 176.627\n",
       "L334.822 177.54\n",
       "L335.381 177.782\n",
       "L335.94 177.399\n",
       "L336.498 176.451\n",
       "L337.057 175.01\n",
       "L338.174 170.981\n",
       "L342.084 154.619\n",
       "L342.642 153.159\n",
       "L343.201 152.12\n",
       "L343.759 151.539\n",
       "L344.318 151.44\n",
       "L344.876 151.831\n",
       "L345.435 152.704\n",
       "L345.994 154.039\n",
       "L346.552 155.798\n",
       "L347.669 160.374\n",
       "L349.904 171.632\n",
       "L351.021 176.841\n",
       "L352.138 180.725\n",
       "L352.696 181.942\n",
       "L353.255 182.57\n",
       "L353.813 182.544\n",
       "L354.372 181.811\n",
       "L354.931 180.334\n",
       "L355.489 178.09\n",
       "L356.048 175.077\n",
       "L357.165 166.814\n",
       "L358.282 155.873\n",
       "L359.958 135.829\n",
       "L362.75 100.678\n",
       "L363.867 89.2834\n",
       "L364.426 84.7193\n",
       "L364.985 81.0766\n",
       "L365.543 78.4641\n",
       "L366.102 76.9745\n",
       "L366.66 76.6825\n",
       "L367.219 77.6426\n",
       "L367.777 79.8875\n",
       "L368.336 83.427\n",
       "L368.895 88.2469\n",
       "L370.012 101.551\n",
       "L371.129 119.206\n",
       "L372.804 151.686\n",
       "L376.156 220.879\n",
       "L377.273 239.391\n",
       "L378.39 253.137\n",
       "L378.949 257.85\n",
       "L379.507 260.965\n",
       "L380.066 262.396\n",
       "L380.624 262.083\n",
       "L381.183 259.996\n",
       "L381.741 256.133\n",
       "L382.3 250.524\n",
       "L382.858 243.228\n",
       "L383.976 223.964\n",
       "L385.093 199.39\n",
       "L386.768 155.816\n",
       "L389.561 80.7443\n",
       "L390.678 55.5915\n",
       "L391.795 35.9188\n",
       "L392.354 28.5889\n",
       "L392.913 23.1203\n",
       "L393.471 19.619\n",
       "L394.03 18.1597\n",
       "L394.588 18.7837\n",
       "L395.147 21.498\n",
       "L395.705 26.2752\n",
       "L396.264 33.0536\n",
       "L396.822 41.7379\n",
       "L397.94 64.2849\n",
       "L399.057 92.5516\n",
       "L400.732 141.757\n",
       "L403.525 224.376\n",
       "L404.642 251.45\n",
       "L405.759 272.35\n",
       "L406.318 280.048\n",
       "L406.876 285.737\n",
       "L407.435 289.329\n",
       "L407.994 290.766\n",
       "L408.552 290.029\n",
       "L409.111 287.134\n",
       "L409.669 282.132\n",
       "L410.228 275.108\n",
       "L411.345 255.497\n",
       "L412.462 229.603\n",
       "L414.138 182.779\n",
       "L416.931 100.619\n",
       "L418.048 72.4077\n",
       "L419.165 49.5938\n",
       "L419.723 40.6503\n",
       "L420.282 33.5276\n",
       "L420.84 28.3211\n",
       "L421.399 25.0938\n",
       "L421.958 23.8752\n",
       "L422.516 24.6616\n",
       "L423.075 27.4161\n",
       "L423.633 32.0696\n",
       "L424.192 38.5227\n",
       "L425.309 56.289\n",
       "L426.426 79.396\n",
       "L428.102 120.44\n",
       "L430.895 190.396\n",
       "L432.012 213.718\n",
       "L433.129 232.186\n",
       "L433.687 239.278\n",
       "L434.246 244.822\n",
       "L434.804 248.763\n",
       "L435.363 251.074\n",
       "L435.922 251.758\n",
       "L436.48 250.845\n",
       "L437.039 248.389\n",
       "L437.597 244.474\n",
       "L438.156 239.204\n",
       "L439.273 225.118\n",
       "L440.39 207.335\n",
       "L442.624 166.329\n",
       "L444.3 136.525\n",
       "L445.417 119.548\n",
       "L446.534 106.042\n",
       "L447.093 100.805\n",
       "L447.651 96.6501\n",
       "L448.21 93.6046\n",
       "L448.768 91.6726\n",
       "L449.327 90.8374\n",
       "L449.886 91.0618\n",
       "L450.444 92.2894\n",
       "L451.003 94.4467\n",
       "L451.561 97.4447\n",
       "L452.678 105.545\n",
       "L453.795 115.664\n",
       "L457.147 148.164\n",
       "L458.264 156.744\n",
       "L459.381 163.137\n",
       "L459.94 165.417\n",
       "L460.498 167.066\n",
       "L461.057 168.091\n",
       "L461.615 168.515\n",
       "L462.174 168.374\n",
       "L462.732 167.719\n",
       "L463.291 166.615\n",
       "L464.408 163.356\n",
       "L467.759 151.539\n",
       "L468.318 150.196\n",
       "L468.876 149.232\n",
       "L469.435 148.701\n",
       "L469.994 148.643\n",
       "L470.552 149.084\n",
       "L471.111 150.036\n",
       "L471.669 151.496\n",
       "L472.228 153.442\n",
       "L473.345 158.645\n",
       "L474.462 165.198\n",
       "L477.255 182.964\n",
       "L478.372 188.468\n",
       "L478.931 190.464\n",
       "L479.489 191.832\n",
       "L480.048 192.495\n",
       "L480.606 192.386\n",
       "L481.165 191.453\n",
       "L481.723 189.661\n",
       "L482.282 186.991\n",
       "L482.84 183.446\n",
       "L483.958 173.824\n",
       "L485.075 161.185\n",
       "L486.75 138.136\n",
       "L489.543 97.5557\n",
       "L490.66 84.1419\n",
       "L491.777 74.1515\n",
       "L492.336 70.7634\n",
       "L492.895 68.5887\n",
       "L493.453 67.7106\n",
       "L494.012 68.191\n",
       "L494.57 70.0687\n",
       "L495.129 73.3584\n",
       "L495.687 78.0492\n",
       "L496.246 84.1048\n",
       "L497.363 100.038\n",
       "L498.48 120.367\n",
       "L500.156 156.512\n",
       "L502.949 218.924\n",
       "L504.066 239.712\n",
       "L505.183 255.732\n",
       "L505.741 261.545\n",
       "L506.3 265.719\n",
       "L506.858 268.152\n",
       "L507.417 268.774\n",
       "L507.976 267.542\n",
       "L508.534 264.444\n",
       "L509.093 259.499\n",
       "L509.651 252.76\n",
       "L510.768 234.256\n",
       "L511.886 209.941\n",
       "L513.561 165.79\n",
       "L516.913 73.2775\n",
       "L518.03 48.5557\n",
       "L519.147 29.8761\n",
       "L519.705 23.2266\n",
       "L520.264 18.5416\n",
       "L520.822 15.9102\n",
       "L521.381 15.3885\n",
       "L521.94 16.9978\n",
       "L522.498 20.7244\n",
       "L523.057 26.5197\n",
       "L523.615 34.3008\n",
       "L524.732 55.3252\n",
       "L525.849 82.5094\n",
       "L527.525 131.028\n",
       "L530.318 215.118\n",
       "L531.435 243.62\n",
       "L532.552 266.335\n",
       "L533.111 275.058\n",
       "L533.669 281.834\n",
       "L534.228 286.559\n",
       "L534.786 289.165\n",
       "L535.345 289.616\n",
       "L535.904 287.913\n",
       "L536.462 284.092\n",
       "L537.021 278.225\n",
       "L537.579 270.414\n",
       "L538.696 249.533\n",
       "L539.813 222.861\n",
       "L541.489 175.939\n",
       "L544.282 96.4368\n",
       "L545.399 70.0643\n",
       "L546.516 49.3379\n",
       "L547.075 41.4799\n",
       "L547.633 35.4417\n",
       "L548.192 31.2967\n",
       "L548.75 29.086\n",
       "L549.309 28.8182\n",
       "L549.867 30.4696\n",
       "L550.426 33.985\n",
       "L550.985 39.2788\n",
       "L551.543 46.2373\n",
       "L552.66 64.5661\n",
       "L553.777 87.5935\n",
       "L556.012 141.027\n",
       "L557.687 180.504\n",
       "L558.804 203.382\n",
       "L559.922 221.909\n",
       "L561.039 235.1\n",
       "L561.597 239.496\n",
       "L562.156 242.374\n",
       "L562.714 243.728\n",
       "L563.273 243.579\n",
       "L563.831 241.975\n",
       "L564.39 238.986\n",
       "L564.949 234.706\n",
       "L566.066 222.742\n",
       "L567.183 207.182\n",
       "L568.858 179.941\n",
       "L571.093 143.442\n",
       "L572.21 127.885\n",
       "L573.327 115.395\n",
       "L574.444 106.57\n",
       "L575.003 103.631\n",
       "L575.561 101.686\n",
       "L576.12 100.718\n",
       "L576.678 100.693\n",
       "L577.237 101.557\n",
       "L577.795 103.241\n",
       "L578.354 105.662\n",
       "L579.471 112.328\n",
       "L580.588 120.698\n",
       "L583.381 143.066\n",
       "L584.498 150.416\n",
       "L585.615 155.929\n",
       "L586.174 157.889\n",
       "L586.732 159.292\n",
       "L587.291 160.137\n",
       "L587.849 160.44\n",
       "L588.408 160.233\n",
       "L588.967 159.56\n",
       "L589.525 158.477\n",
       "L590.642 155.366\n",
       "L591.759 151.539\n",
       "L591.759 151.539\" style=\"fill:none;stroke:#0000ff;stroke-linecap:square;\"/>\n",
       "   </g>\n",
       "   <g id=\"matplotlib.axis_1\">\n",
       "    <g id=\"xtick_1\">\n",
       "     <g id=\"line2d_2\">\n",
       "      <defs>\n",
       "       <path d=\"\n",
       "M0 0\n",
       "L0 -4\" id=\"m93b0483c22\" style=\"stroke:#000000;stroke-width:0.5;\"/>\n",
       "      </defs>\n",
       "      <g>\n",
       "       <use style=\"stroke:#000000;stroke-width:0.5;\" x=\"33.759375\" xlink:href=\"#m93b0483c22\" y=\"151.5390625\"/>\n",
       "      </g>\n",
       "     </g>\n",
       "     <g id=\"text_1\">\n",
       "      <!-- 0.00 -->\n",
       "      <defs>\n",
       "       <path d=\"\n",
       "M31.7812 66.4062\n",
       "Q24.1719 66.4062 20.3281 58.9062\n",
       "Q16.5 51.4219 16.5 36.375\n",
       "Q16.5 21.3906 20.3281 13.8906\n",
       "Q24.1719 6.39062 31.7812 6.39062\n",
       "Q39.4531 6.39062 43.2812 13.8906\n",
       "Q47.125 21.3906 47.125 36.375\n",
       "Q47.125 51.4219 43.2812 58.9062\n",
       "Q39.4531 66.4062 31.7812 66.4062\n",
       "M31.7812 74.2188\n",
       "Q44.0469 74.2188 50.5156 64.5156\n",
       "Q56.9844 54.8281 56.9844 36.375\n",
       "Q56.9844 17.9688 50.5156 8.26562\n",
       "Q44.0469 -1.42188 31.7812 -1.42188\n",
       "Q19.5312 -1.42188 13.0625 8.26562\n",
       "Q6.59375 17.9688 6.59375 36.375\n",
       "Q6.59375 54.8281 13.0625 64.5156\n",
       "Q19.5312 74.2188 31.7812 74.2188\" id=\"BitstreamVeraSans-Roman-30\"/>\n",
       "       <path d=\"\n",
       "M10.6875 12.4062\n",
       "L21 12.4062\n",
       "L21 0\n",
       "L10.6875 0\n",
       "z\n",
       "\" id=\"BitstreamVeraSans-Roman-2e\"/>\n",
       "      </defs>\n",
       "      <g transform=\"translate(23.28828125 163.1375)scale(0.1 -0.1)\">\n",
       "       <use xlink:href=\"#BitstreamVeraSans-Roman-30\"/>\n",
       "       <use x=\"63.623046875\" xlink:href=\"#BitstreamVeraSans-Roman-2e\"/>\n",
       "       <use x=\"95.41015625\" xlink:href=\"#BitstreamVeraSans-Roman-30\"/>\n",
       "       <use x=\"159.033203125\" xlink:href=\"#BitstreamVeraSans-Roman-30\"/>\n",
       "      </g>\n",
       "     </g>\n",
       "    </g>\n",
       "    <g id=\"xtick_2\">\n",
       "     <g id=\"line2d_3\">\n",
       "      <g>\n",
       "       <use style=\"stroke:#000000;stroke-width:0.5;\" x=\"145.359375\" xlink:href=\"#m93b0483c22\" y=\"151.5390625\"/>\n",
       "      </g>\n",
       "     </g>\n",
       "     <g id=\"text_2\">\n",
       "      <!-- 0.01 -->\n",
       "      <defs>\n",
       "       <path d=\"\n",
       "M12.4062 8.29688\n",
       "L28.5156 8.29688\n",
       "L28.5156 63.9219\n",
       "L10.9844 60.4062\n",
       "L10.9844 69.3906\n",
       "L28.4219 72.9062\n",
       "L38.2812 72.9062\n",
       "L38.2812 8.29688\n",
       "L54.3906 8.29688\n",
       "L54.3906 0\n",
       "L12.4062 0\n",
       "z\n",
       "\" id=\"BitstreamVeraSans-Roman-31\"/>\n",
       "      </defs>\n",
       "      <g transform=\"translate(135.01796875 163.1375)scale(0.1 -0.1)\">\n",
       "       <use xlink:href=\"#BitstreamVeraSans-Roman-30\"/>\n",
       "       <use x=\"63.623046875\" xlink:href=\"#BitstreamVeraSans-Roman-2e\"/>\n",
       "       <use x=\"95.41015625\" xlink:href=\"#BitstreamVeraSans-Roman-30\"/>\n",
       "       <use x=\"159.033203125\" xlink:href=\"#BitstreamVeraSans-Roman-31\"/>\n",
       "      </g>\n",
       "     </g>\n",
       "    </g>\n",
       "    <g id=\"xtick_3\">\n",
       "     <g id=\"line2d_4\">\n",
       "      <g>\n",
       "       <use style=\"stroke:#000000;stroke-width:0.5;\" x=\"256.959375\" xlink:href=\"#m93b0483c22\" y=\"151.5390625\"/>\n",
       "      </g>\n",
       "     </g>\n",
       "     <g id=\"text_3\">\n",
       "      <!-- 0.02 -->\n",
       "      <defs>\n",
       "       <path d=\"\n",
       "M19.1875 8.29688\n",
       "L53.6094 8.29688\n",
       "L53.6094 0\n",
       "L7.32812 0\n",
       "L7.32812 8.29688\n",
       "Q12.9375 14.1094 22.625 23.8906\n",
       "Q32.3281 33.6875 34.8125 36.5312\n",
       "Q39.5469 41.8438 41.4219 45.5312\n",
       "Q43.3125 49.2188 43.3125 52.7812\n",
       "Q43.3125 58.5938 39.2344 62.25\n",
       "Q35.1562 65.9219 28.6094 65.9219\n",
       "Q23.9688 65.9219 18.8125 64.3125\n",
       "Q13.6719 62.7031 7.8125 59.4219\n",
       "L7.8125 69.3906\n",
       "Q13.7656 71.7812 18.9375 73\n",
       "Q24.125 74.2188 28.4219 74.2188\n",
       "Q39.75 74.2188 46.4844 68.5469\n",
       "Q53.2188 62.8906 53.2188 53.4219\n",
       "Q53.2188 48.9219 51.5312 44.8906\n",
       "Q49.8594 40.875 45.4062 35.4062\n",
       "Q44.1875 33.9844 37.6406 27.2188\n",
       "Q31.1094 20.4531 19.1875 8.29688\" id=\"BitstreamVeraSans-Roman-32\"/>\n",
       "      </defs>\n",
       "      <g transform=\"translate(246.65703125 163.1375)scale(0.1 -0.1)\">\n",
       "       <use xlink:href=\"#BitstreamVeraSans-Roman-30\"/>\n",
       "       <use x=\"63.623046875\" xlink:href=\"#BitstreamVeraSans-Roman-2e\"/>\n",
       "       <use x=\"95.41015625\" xlink:href=\"#BitstreamVeraSans-Roman-30\"/>\n",
       "       <use x=\"159.033203125\" xlink:href=\"#BitstreamVeraSans-Roman-32\"/>\n",
       "      </g>\n",
       "     </g>\n",
       "    </g>\n",
       "    <g id=\"xtick_4\">\n",
       "     <g id=\"line2d_5\">\n",
       "      <g>\n",
       "       <use style=\"stroke:#000000;stroke-width:0.5;\" x=\"368.559375\" xlink:href=\"#m93b0483c22\" y=\"151.5390625\"/>\n",
       "      </g>\n",
       "     </g>\n",
       "     <g id=\"text_4\">\n",
       "      <!-- 0.03 -->\n",
       "      <defs>\n",
       "       <path d=\"\n",
       "M40.5781 39.3125\n",
       "Q47.6562 37.7969 51.625 33\n",
       "Q55.6094 28.2188 55.6094 21.1875\n",
       "Q55.6094 10.4062 48.1875 4.48438\n",
       "Q40.7656 -1.42188 27.0938 -1.42188\n",
       "Q22.5156 -1.42188 17.6562 -0.515625\n",
       "Q12.7969 0.390625 7.625 2.20312\n",
       "L7.625 11.7188\n",
       "Q11.7188 9.32812 16.5938 8.10938\n",
       "Q21.4844 6.89062 26.8125 6.89062\n",
       "Q36.0781 6.89062 40.9375 10.5469\n",
       "Q45.7969 14.2031 45.7969 21.1875\n",
       "Q45.7969 27.6406 41.2812 31.2656\n",
       "Q36.7656 34.9062 28.7188 34.9062\n",
       "L20.2188 34.9062\n",
       "L20.2188 43.0156\n",
       "L29.1094 43.0156\n",
       "Q36.375 43.0156 40.2344 45.9219\n",
       "Q44.0938 48.8281 44.0938 54.2969\n",
       "Q44.0938 59.9062 40.1094 62.9062\n",
       "Q36.1406 65.9219 28.7188 65.9219\n",
       "Q24.6562 65.9219 20.0156 65.0312\n",
       "Q15.375 64.1562 9.8125 62.3125\n",
       "L9.8125 71.0938\n",
       "Q15.4375 72.6562 20.3438 73.4375\n",
       "Q25.25 74.2188 29.5938 74.2188\n",
       "Q40.8281 74.2188 47.3594 69.1094\n",
       "Q53.9062 64.0156 53.9062 55.3281\n",
       "Q53.9062 49.2656 50.4375 45.0938\n",
       "Q46.9688 40.9219 40.5781 39.3125\" id=\"BitstreamVeraSans-Roman-33\"/>\n",
       "      </defs>\n",
       "      <g transform=\"translate(358.15703125 163.1375)scale(0.1 -0.1)\">\n",
       "       <use xlink:href=\"#BitstreamVeraSans-Roman-30\"/>\n",
       "       <use x=\"63.623046875\" xlink:href=\"#BitstreamVeraSans-Roman-2e\"/>\n",
       "       <use x=\"95.41015625\" xlink:href=\"#BitstreamVeraSans-Roman-30\"/>\n",
       "       <use x=\"159.033203125\" xlink:href=\"#BitstreamVeraSans-Roman-33\"/>\n",
       "      </g>\n",
       "     </g>\n",
       "    </g>\n",
       "    <g id=\"xtick_5\">\n",
       "     <g id=\"line2d_6\">\n",
       "      <g>\n",
       "       <use style=\"stroke:#000000;stroke-width:0.5;\" x=\"480.159375\" xlink:href=\"#m93b0483c22\" y=\"151.5390625\"/>\n",
       "      </g>\n",
       "     </g>\n",
       "     <g id=\"text_5\">\n",
       "      <!-- 0.04 -->\n",
       "      <defs>\n",
       "       <path d=\"\n",
       "M37.7969 64.3125\n",
       "L12.8906 25.3906\n",
       "L37.7969 25.3906\n",
       "z\n",
       "\n",
       "M35.2031 72.9062\n",
       "L47.6094 72.9062\n",
       "L47.6094 25.3906\n",
       "L58.0156 25.3906\n",
       "L58.0156 17.1875\n",
       "L47.6094 17.1875\n",
       "L47.6094 0\n",
       "L37.7969 0\n",
       "L37.7969 17.1875\n",
       "L4.89062 17.1875\n",
       "L4.89062 26.7031\n",
       "z\n",
       "\" id=\"BitstreamVeraSans-Roman-34\"/>\n",
       "      </defs>\n",
       "      <g transform=\"translate(469.63671875 163.1375)scale(0.1 -0.1)\">\n",
       "       <use xlink:href=\"#BitstreamVeraSans-Roman-30\"/>\n",
       "       <use x=\"63.623046875\" xlink:href=\"#BitstreamVeraSans-Roman-2e\"/>\n",
       "       <use x=\"95.41015625\" xlink:href=\"#BitstreamVeraSans-Roman-30\"/>\n",
       "       <use x=\"159.033203125\" xlink:href=\"#BitstreamVeraSans-Roman-34\"/>\n",
       "      </g>\n",
       "     </g>\n",
       "    </g>\n",
       "    <g id=\"xtick_6\">\n",
       "     <g id=\"line2d_7\">\n",
       "      <g>\n",
       "       <use style=\"stroke:#000000;stroke-width:0.5;\" x=\"591.759375\" xlink:href=\"#m93b0483c22\" y=\"151.5390625\"/>\n",
       "      </g>\n",
       "     </g>\n",
       "     <g id=\"text_6\">\n",
       "      <!-- 0.05 -->\n",
       "      <defs>\n",
       "       <path d=\"\n",
       "M10.7969 72.9062\n",
       "L49.5156 72.9062\n",
       "L49.5156 64.5938\n",
       "L19.8281 64.5938\n",
       "L19.8281 46.7344\n",
       "Q21.9688 47.4688 24.1094 47.8281\n",
       "Q26.2656 48.1875 28.4219 48.1875\n",
       "Q40.625 48.1875 47.75 41.5\n",
       "Q54.8906 34.8125 54.8906 23.3906\n",
       "Q54.8906 11.625 47.5625 5.09375\n",
       "Q40.2344 -1.42188 26.9062 -1.42188\n",
       "Q22.3125 -1.42188 17.5469 -0.640625\n",
       "Q12.7969 0.140625 7.71875 1.70312\n",
       "L7.71875 11.625\n",
       "Q12.1094 9.23438 16.7969 8.0625\n",
       "Q21.4844 6.89062 26.7031 6.89062\n",
       "Q35.1562 6.89062 40.0781 11.3281\n",
       "Q45.0156 15.7656 45.0156 23.3906\n",
       "Q45.0156 31 40.0781 35.4375\n",
       "Q35.1562 39.8906 26.7031 39.8906\n",
       "Q22.75 39.8906 18.8125 39.0156\n",
       "Q14.8906 38.1406 10.7969 36.2812\n",
       "z\n",
       "\" id=\"BitstreamVeraSans-Roman-35\"/>\n",
       "      </defs>\n",
       "      <g transform=\"translate(581.39296875 163.1375)scale(0.1 -0.1)\">\n",
       "       <use xlink:href=\"#BitstreamVeraSans-Roman-30\"/>\n",
       "       <use x=\"63.623046875\" xlink:href=\"#BitstreamVeraSans-Roman-2e\"/>\n",
       "       <use x=\"95.41015625\" xlink:href=\"#BitstreamVeraSans-Roman-30\"/>\n",
       "       <use x=\"159.033203125\" xlink:href=\"#BitstreamVeraSans-Roman-35\"/>\n",
       "      </g>\n",
       "     </g>\n",
       "    </g>\n",
       "    <g id=\"xtick_7\">\n",
       "     <g id=\"line2d_8\">\n",
       "      <g>\n",
       "       <use style=\"stroke:#000000;stroke-width:0.5;\" x=\"703.359375\" xlink:href=\"#m93b0483c22\" y=\"151.5390625\"/>\n",
       "      </g>\n",
       "     </g>\n",
       "     <g id=\"text_7\">\n",
       "      <!-- 0.06 -->\n",
       "      <defs>\n",
       "       <path d=\"\n",
       "M33.0156 40.375\n",
       "Q26.375 40.375 22.4844 35.8281\n",
       "Q18.6094 31.2969 18.6094 23.3906\n",
       "Q18.6094 15.5312 22.4844 10.9531\n",
       "Q26.375 6.39062 33.0156 6.39062\n",
       "Q39.6562 6.39062 43.5312 10.9531\n",
       "Q47.4062 15.5312 47.4062 23.3906\n",
       "Q47.4062 31.2969 43.5312 35.8281\n",
       "Q39.6562 40.375 33.0156 40.375\n",
       "M52.5938 71.2969\n",
       "L52.5938 62.3125\n",
       "Q48.875 64.0625 45.0938 64.9844\n",
       "Q41.3125 65.9219 37.5938 65.9219\n",
       "Q27.8281 65.9219 22.6719 59.3281\n",
       "Q17.5312 52.7344 16.7969 39.4062\n",
       "Q19.6719 43.6562 24.0156 45.9219\n",
       "Q28.375 48.1875 33.5938 48.1875\n",
       "Q44.5781 48.1875 50.9531 41.5156\n",
       "Q57.3281 34.8594 57.3281 23.3906\n",
       "Q57.3281 12.1562 50.6875 5.35938\n",
       "Q44.0469 -1.42188 33.0156 -1.42188\n",
       "Q20.3594 -1.42188 13.6719 8.26562\n",
       "Q6.98438 17.9688 6.98438 36.375\n",
       "Q6.98438 53.6562 15.1875 63.9375\n",
       "Q23.3906 74.2188 37.2031 74.2188\n",
       "Q40.9219 74.2188 44.7031 73.4844\n",
       "Q48.4844 72.75 52.5938 71.2969\" id=\"BitstreamVeraSans-Roman-36\"/>\n",
       "      </defs>\n",
       "      <g transform=\"translate(692.87109375 163.1375)scale(0.1 -0.1)\">\n",
       "       <use xlink:href=\"#BitstreamVeraSans-Roman-30\"/>\n",
       "       <use x=\"63.623046875\" xlink:href=\"#BitstreamVeraSans-Roman-2e\"/>\n",
       "       <use x=\"95.41015625\" xlink:href=\"#BitstreamVeraSans-Roman-30\"/>\n",
       "       <use x=\"159.033203125\" xlink:href=\"#BitstreamVeraSans-Roman-36\"/>\n",
       "      </g>\n",
       "     </g>\n",
       "    </g>\n",
       "   </g>\n",
       "   <g id=\"matplotlib.axis_2\">\n",
       "    <g id=\"ytick_1\">\n",
       "     <g id=\"line2d_9\">\n",
       "      <defs>\n",
       "       <path d=\"\n",
       "M0 0\n",
       "L4 0\" id=\"m728421d6d4\" style=\"stroke:#000000;stroke-width:0.5;\"/>\n",
       "      </defs>\n",
       "      <g>\n",
       "       <use style=\"stroke:#000000;stroke-width:0.5;\" x=\"33.759375\" xlink:href=\"#m728421d6d4\" y=\"291.0390625\"/>\n",
       "      </g>\n",
       "     </g>\n",
       "     <g id=\"text_8\">\n",
       "      <!-- −1.0 -->\n",
       "      <defs>\n",
       "       <path d=\"\n",
       "M10.5938 35.5\n",
       "L73.1875 35.5\n",
       "L73.1875 27.2031\n",
       "L10.5938 27.2031\n",
       "z\n",
       "\" id=\"BitstreamVeraSans-Roman-2212\"/>\n",
       "      </defs>\n",
       "      <g transform=\"translate(7.2 293.7984375)scale(0.1 -0.1)\">\n",
       "       <use xlink:href=\"#BitstreamVeraSans-Roman-2212\"/>\n",
       "       <use x=\"83.7890625\" xlink:href=\"#BitstreamVeraSans-Roman-31\"/>\n",
       "       <use x=\"147.412109375\" xlink:href=\"#BitstreamVeraSans-Roman-2e\"/>\n",
       "       <use x=\"179.19921875\" xlink:href=\"#BitstreamVeraSans-Roman-30\"/>\n",
       "      </g>\n",
       "     </g>\n",
       "    </g>\n",
       "    <g id=\"ytick_2\">\n",
       "     <g id=\"line2d_10\">\n",
       "      <g>\n",
       "       <use style=\"stroke:#000000;stroke-width:0.5;\" x=\"33.759375\" xlink:href=\"#m728421d6d4\" y=\"221.2890625\"/>\n",
       "      </g>\n",
       "     </g>\n",
       "     <g id=\"text_9\">\n",
       "      <!-- −0.5 -->\n",
       "      <g transform=\"translate(7.409375 224.0484375)scale(0.1 -0.1)\">\n",
       "       <use xlink:href=\"#BitstreamVeraSans-Roman-2212\"/>\n",
       "       <use x=\"83.7890625\" xlink:href=\"#BitstreamVeraSans-Roman-30\"/>\n",
       "       <use x=\"147.412109375\" xlink:href=\"#BitstreamVeraSans-Roman-2e\"/>\n",
       "       <use x=\"179.19921875\" xlink:href=\"#BitstreamVeraSans-Roman-35\"/>\n",
       "      </g>\n",
       "     </g>\n",
       "    </g>\n",
       "    <g id=\"ytick_3\">\n",
       "     <g id=\"line2d_11\">\n",
       "      <g>\n",
       "       <use style=\"stroke:#000000;stroke-width:0.5;\" x=\"33.759375\" xlink:href=\"#m728421d6d4\" y=\"151.5390625\"/>\n",
       "      </g>\n",
       "     </g>\n",
       "     <g id=\"text_10\">\n",
       "      <!-- 0.0 -->\n",
       "      <g transform=\"translate(15.1796875 154.2984375)scale(0.1 -0.1)\">\n",
       "       <use xlink:href=\"#BitstreamVeraSans-Roman-30\"/>\n",
       "       <use x=\"63.623046875\" xlink:href=\"#BitstreamVeraSans-Roman-2e\"/>\n",
       "       <use x=\"95.41015625\" xlink:href=\"#BitstreamVeraSans-Roman-30\"/>\n",
       "      </g>\n",
       "     </g>\n",
       "    </g>\n",
       "    <g id=\"ytick_4\">\n",
       "     <g id=\"line2d_12\">\n",
       "      <g>\n",
       "       <use style=\"stroke:#000000;stroke-width:0.5;\" x=\"33.759375\" xlink:href=\"#m728421d6d4\" y=\"81.7890625\"/>\n",
       "      </g>\n",
       "     </g>\n",
       "     <g id=\"text_11\">\n",
       "      <!-- 0.5 -->\n",
       "      <g transform=\"translate(15.3890625 84.5484375)scale(0.1 -0.1)\">\n",
       "       <use xlink:href=\"#BitstreamVeraSans-Roman-30\"/>\n",
       "       <use x=\"63.623046875\" xlink:href=\"#BitstreamVeraSans-Roman-2e\"/>\n",
       "       <use x=\"95.41015625\" xlink:href=\"#BitstreamVeraSans-Roman-35\"/>\n",
       "      </g>\n",
       "     </g>\n",
       "    </g>\n",
       "    <g id=\"ytick_5\">\n",
       "     <g id=\"line2d_13\">\n",
       "      <g>\n",
       "       <use style=\"stroke:#000000;stroke-width:0.5;\" x=\"33.759375\" xlink:href=\"#m728421d6d4\" y=\"12.0390625\"/>\n",
       "      </g>\n",
       "     </g>\n",
       "     <g id=\"text_12\">\n",
       "      <!-- 1.0 -->\n",
       "      <g transform=\"translate(15.61875 14.7984375)scale(0.1 -0.1)\">\n",
       "       <use xlink:href=\"#BitstreamVeraSans-Roman-31\"/>\n",
       "       <use x=\"63.623046875\" xlink:href=\"#BitstreamVeraSans-Roman-2e\"/>\n",
       "       <use x=\"95.41015625\" xlink:href=\"#BitstreamVeraSans-Roman-30\"/>\n",
       "      </g>\n",
       "     </g>\n",
       "    </g>\n",
       "   </g>\n",
       "   <g id=\"patch_3\">\n",
       "    <path d=\"\n",
       "M33.7594 151.539\n",
       "L703.359 151.539\" style=\"fill:none;stroke:#000000;\"/>\n",
       "   </g>\n",
       "   <g id=\"patch_4\">\n",
       "    <path d=\"\n",
       "M33.7594 291.039\n",
       "L33.7594 12.0391\" style=\"fill:none;stroke:#000000;\"/>\n",
       "   </g>\n",
       "  </g>\n",
       " </g>\n",
       " <defs>\n",
       "  <clipPath id=\"pc6b53aaff8\">\n",
       "   <rect height=\"279.0\" width=\"669.6\" x=\"33.759375\" y=\"12.0390625\"/>\n",
       "  </clipPath>\n",
       " </defs>\n",
       "</svg>\n"
      ],
      "text/plain": [
       "<matplotlib.figure.Figure at 0x108947e10>"
      ]
     },
     "metadata": {},
     "output_type": "display_data"
    }
   ],
   "source": [
    "fig, ax = subplots(figsize=(12, 5))\n",
    "[ax.spines[pos].set_visible(False) for pos in ['top', 'right']]\n",
    "[ax.spines[pos].set_position(('data', 0)) for pos in ['bottom', 'left']]\n",
    "ax.xaxis.set_ticks_position('bottom')\n",
    "ax.yaxis.set_ticks_position('left')\n",
    "ax.set_ylim([-1, 1])\n",
    "t = np.linspace(0, 0.05, 1000)\n",
    "\n",
    "ax.plot(t, g(t));"
   ]
  },
  {
   "cell_type": "code",
   "execution_count": 20,
   "metadata": {
    "collapsed": false,
    "slideshow": {
     "slide_type": "slide"
    }
   },
   "outputs": [
    {
     "data": {
      "text/html": [
       "\n",
       "                <audio controls=\"controls\" >\n",
       "                    <source src=\"data:audio/wav;base64,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\" type=\"audio/wav\" />\n",
       "                    Your browser does not support the audio element.\n",
       "                </audio>\n",
       "              "
      ],
      "text/plain": [
       "<IPython.lib.display.Audio object>"
      ]
     },
     "execution_count": 20,
     "metadata": {},
     "output_type": "execute_result"
    }
   ],
   "source": [
    "duration = 3\n",
    "sample_rate = 8000.0\n",
    "t = np.linspace(0, duration, sample_rate * duration)\n",
    "\n",
    "Audio(data=g(t), rate=sample_rate)"
   ]
  },
  {
   "cell_type": "markdown",
   "metadata": {
    "slideshow": {
     "slide_type": "slide"
    }
   },
   "source": [
    "# Magics"
   ]
  },
  {
   "cell_type": "markdown",
   "metadata": {
    "slideshow": {
     "slide_type": "fragment"
    }
   },
   "source": [
    "\"The magic function system provides a series of functions which allow you to\n",
    "control the behavior of IPython itself, plus a lot of system-type\n",
    "features. There are two kinds of magics, line-oriented and cell-oriented.\""
   ]
  },
  {
   "cell_type": "code",
   "execution_count": 21,
   "metadata": {
    "collapsed": false,
    "slideshow": {
     "slide_type": "slide"
    }
   },
   "outputs": [
    {
     "name": "stdout",
     "output_type": "stream",
     "text": [
      "HelloWorld.ipynb     jupyter-sq-text.svg  whatisjupyter.ipynb\r\n"
     ]
    }
   ],
   "source": [
    "%ls"
   ]
  },
  {
   "cell_type": "code",
   "execution_count": 22,
   "metadata": {
    "collapsed": false,
    "slideshow": {
     "slide_type": "slide"
    }
   },
   "outputs": [
    {
     "name": "stdout",
     "output_type": "stream",
     "text": [
      "10 loops, best of 3: 15.9 ms per loop\n"
     ]
    }
   ],
   "source": [
    "%%timeit\n",
    "concat = ''\n",
    "for i in range(100000):\n",
    "    concat += 'foo'"
   ]
  },
  {
   "cell_type": "code",
   "execution_count": 23,
   "metadata": {
    "collapsed": false,
    "slideshow": {
     "slide_type": "-"
    }
   },
   "outputs": [
    {
     "name": "stdout",
     "output_type": "stream",
     "text": [
      "100 loops, best of 3: 9.44 ms per loop\n"
     ]
    }
   ],
   "source": [
    "%%timeit\n",
    "concat = ''.join('foo' for i in xrange(100000))"
   ]
  },
  {
   "cell_type": "markdown",
   "metadata": {
    "slideshow": {
     "slide_type": "slide"
    }
   },
   "source": [
    "# System Commands"
   ]
  },
  {
   "cell_type": "markdown",
   "metadata": {
    "slideshow": {
     "slide_type": "fragment"
    }
   },
   "source": [
    "System commands can be executed using the \"**!**\""
   ]
  },
  {
   "cell_type": "code",
   "execution_count": 24,
   "metadata": {
    "collapsed": false,
    "slideshow": {
     "slide_type": "slide"
    }
   },
   "outputs": [
    {
     "name": "stdout",
     "output_type": "stream",
     "text": [
      "jacobjoaquin\r\n"
     ]
    }
   ],
   "source": [
    "!whoami"
   ]
  },
  {
   "cell_type": "code",
   "execution_count": 25,
   "metadata": {
    "collapsed": false,
    "slideshow": {
     "slide_type": "fragment"
    }
   },
   "outputs": [
    {
     "name": "stdout",
     "output_type": "stream",
     "text": [
      "/Users/jacobjoaquin/Documents/jupyter/jupyter-notebooks/whatisjupyter\r\n"
     ]
    }
   ],
   "source": [
    "!pwd"
   ]
  },
  {
   "cell_type": "code",
   "execution_count": 26,
   "metadata": {
    "collapsed": false,
    "slideshow": {
     "slide_type": "fragment"
    }
   },
   "outputs": [
    {
     "name": "stdout",
     "output_type": "stream",
     "text": [
      " __________________________________ \r\n",
      "< It's a Unix system. I know this. >\r\n",
      " ---------------------------------- \r\n",
      "        \\   ^__^\r\n",
      "         \\  (oo)\\_______\r\n",
      "            (__)\\       )\\/\\\r\n",
      "                ||----w |\r\n",
      "                ||     ||\r\n"
     ]
    }
   ],
   "source": [
    "!cowsay It\\'s a Unix system. I know this."
   ]
  },
  {
   "cell_type": "markdown",
   "metadata": {
    "slideshow": {
     "slide_type": "slide"
    }
   },
   "source": [
    "**System Commands** can be **integrated** into Python Code"
   ]
  },
  {
   "cell_type": "code",
   "execution_count": 27,
   "metadata": {
    "collapsed": false,
    "slideshow": {
     "slide_type": "fragment"
    }
   },
   "outputs": [
    {
     "name": "stdout",
     "output_type": "stream",
     "text": [
      "['HelloWorld.ipynb', 'jupyter-sq-text.svg', 'whatisjupyter.ipynb']\n"
     ]
    }
   ],
   "source": [
    "filenames = !ls\n",
    "print(filenames)"
   ]
  },
  {
   "cell_type": "markdown",
   "metadata": {
    "slideshow": {
     "slide_type": "slide"
    }
   },
   "source": [
    "# Education Tool for Tech Literacy"
   ]
  },
  {
   "cell_type": "markdown",
   "metadata": {
    "slideshow": {
     "slide_type": "fragment"
    }
   },
   "source": [
    "- Students can take detailed notes, including narrative text and functioning code.\n",
    "- Code used as supporting evidence in a thesis.\n",
    "- Jupyter can be used in other disciplines such mathematics, science, other disciplines."
   ]
  }
 ],
 "metadata": {
  "celltoolbar": "Slideshow",
  "kernelspec": {
   "display_name": "Python 2",
   "language": "python",
   "name": "python2"
  },
  "language_info": {
   "codemirror_mode": {
    "name": "ipython",
    "version": 2
   },
   "file_extension": ".py",
   "mimetype": "text/x-python",
   "name": "python",
   "nbconvert_exporter": "python",
   "pygments_lexer": "ipython2",
   "version": "2.7.6"
  }
 },
 "nbformat": 4,
 "nbformat_minor": 0
}
