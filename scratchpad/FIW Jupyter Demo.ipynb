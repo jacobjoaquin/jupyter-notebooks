{
 "cells": [
  {
   "cell_type": "markdown",
   "metadata": {},
   "source": [
    "# Fresno Ideaworks Juypter Demo\n",
    "\n",
    "## Sub title\n",
    "\n",
    "### Sub-sub title\n",
    "\n",
    "###### Test"
   ]
  },
  {
   "cell_type": "markdown",
   "metadata": {},
   "source": [
    "`The *quick brown* fox jumps over the ~~crazy cat~~ **lazy dog**.`\n",
    "\n",
    "The *quick brown* fox jumps over the ~~crazy cat~~ **lazy dog**."
   ]
  },
  {
   "cell_type": "markdown",
   "metadata": {},
   "source": [
    "```\n",
    "- Start my outline\n",
    "    - item 1\n",
    "    - item 2\n",
    "        - three columns over\n",
    "```\n",
    "\n",
    "- Start my outline\n",
    "    - item 1\n",
    "    - item 2\n",
    "        - three columns over"
   ]
  },
  {
   "cell_type": "markdown",
   "metadata": {},
   "source": [
    "```\n",
    "1. Start my outline\n",
    "    - item 1\n",
    "    - item 2\n",
    "        1. three columns over\n",
    "        - three columns over\n",
    "        - three columns over\n",
    "- Item 2\n",
    "- Item 3\n",
    "```\n",
    "\n",
    "1. Start my outline\n",
    "    - item 1\n",
    "    - item 2\n",
    "        1. three columns over\n",
    "        - three columns over\n",
    "        - three columns over\n",
    "- Item 2\n",
    "- Item 3"
   ]
  },
  {
   "cell_type": "markdown",
   "metadata": {},
   "source": [
    "Let's say I wanted something in `monospace`, I could use the backticks to describe `function foo()` for variable `bar` within a sentence."
   ]
  },
  {
   "cell_type": "markdown",
   "metadata": {},
   "source": [
    "```python\n",
    "def get_letter_count(string):\n",
    "    '''Create and return a dict containing the letter count of a string'''\n",
    "    \n",
    "    alphabet = 'ABCDEFGHIJKLMNOPQRSTUVWXYZ';\n",
    "    letter_count = {letter: 0 for letter in alphabet}\n",
    "\n",
    "    for char in string.upper():\n",
    "        if char in alphabet:\n",
    "            letter_count[char] += 1\n",
    "\n",
    "    return letter_count\n",
    "```"
   ]
  },
  {
   "cell_type": "markdown",
   "metadata": {},
   "source": [
    "## Beautiful Math with LaTeX\n",
    "\n",
    "$$f(x) = \\frac{3 + x}{5}$$"
   ]
  },
  {
   "cell_type": "markdown",
   "metadata": {},
   "source": [
    "### Tutorials / Online Help?"
   ]
  },
  {
   "cell_type": "markdown",
   "metadata": {},
   "source": [
    "Google: [IPython Notebook Tutorial](https://www.google.com/webhp?sourceid=chrome-instant&ion=1&espv=2&ie=UTF-8#q=ipython%20notebook%20tutorial)"
   ]
  },
  {
   "cell_type": "markdown",
   "metadata": {},
   "source": [
    "## Other languages with Magic\n",
    "\n",
    "Magics are denoted with `%%`. For example:"
   ]
  },
  {
   "cell_type": "code",
   "execution_count": 1,
   "metadata": {
    "collapsed": false
   },
   "outputs": [
    {
     "name": "stdout",
     "output_type": "stream",
     "text": [
      "Hello, Ruby!\n"
     ]
    }
   ],
   "source": [
    "%%ruby\n",
    "puts 'Hello, Ruby!'"
   ]
  },
  {
   "cell_type": "code",
   "execution_count": 2,
   "metadata": {
    "collapsed": false
   },
   "outputs": [
    {
     "name": "stdout",
     "output_type": "stream",
     "text": [
      " ____________ \n",
      "< Hello Bash >\n",
      " ------------ \n",
      "        \\   ^__^\n",
      "         \\  (oo)\\_______\n",
      "            (__)\\       )\\/\\\n",
      "                ||----w |\n",
      "                ||     ||\n"
     ]
    }
   ],
   "source": [
    "%%bash\n",
    "cowsay 'Hello Bash'"
   ]
  },
  {
   "cell_type": "markdown",
   "metadata": {},
   "source": [
    "<div id=\"myjsexample\"></div>"
   ]
  },
  {
   "cell_type": "code",
   "execution_count": 3,
   "metadata": {
    "collapsed": false
   },
   "outputs": [
    {
     "data": {
      "application/javascript": [
       "$('#myjsexample').text('Hello, JavaScript!');"
      ],
      "text/plain": [
       "<IPython.core.display.Javascript object>"
      ]
     },
     "metadata": {},
     "output_type": "display_data"
    }
   ],
   "source": [
    "%%javascript\n",
    "$('#myjsexample').text('Hello, JavaScript!');"
   ]
  },
  {
   "cell_type": "markdown",
   "metadata": {},
   "source": [
    "## Some Help / Ideas"
   ]
  },
  {
   "cell_type": "code",
   "execution_count": 4,
   "metadata": {
    "collapsed": true
   },
   "outputs": [],
   "source": [
    "sum?"
   ]
  },
  {
   "cell_type": "markdown",
   "metadata": {},
   "source": [
    "```\n",
    "Docstring:\n",
    "sum(iterable[, start]) -> value\n",
    "\n",
    "Return the sum of an iterable of numbers (NOT strings) plus the value\n",
    "of parameter 'start' (which defaults to 0).  When the iterable is\n",
    "empty, return start.\n",
    "Type:      builtin_function_or_method\n",
    "````"
   ]
  },
  {
   "cell_type": "code",
   "execution_count": 5,
   "metadata": {
    "collapsed": false
   },
   "outputs": [
    {
     "name": "stdout",
     "output_type": "stream",
     "text": [
      "Help on built-in function sum in module builtins:\n",
      "\n",
      "sum(...)\n",
      "    sum(iterable[, start]) -> value\n",
      "    \n",
      "    Return the sum of an iterable of numbers (NOT strings) plus the value\n",
      "    of parameter 'start' (which defaults to 0).  When the iterable is\n",
      "    empty, return start.\n",
      "\n"
     ]
    }
   ],
   "source": [
    "help(sum)"
   ]
  },
  {
   "cell_type": "code",
   "execution_count": 6,
   "metadata": {
    "collapsed": true
   },
   "outputs": [],
   "source": [
    "def get_letter_count(string):\n",
    "    '''Create and return a dict containing the letter count of a string'''\n",
    "    \n",
    "    alphabet = 'ABCDEFGHIJKLMNOPQRSTUVWXYZ';\n",
    "    letter_count = {letter: 0 for letter in alphabet}\n",
    "\n",
    "    for char in string.upper():\n",
    "        if char in alphabet:\n",
    "            letter_count[char] += 1\n",
    "\n",
    "    return letter_count"
   ]
  },
  {
   "cell_type": "code",
   "execution_count": 7,
   "metadata": {
    "collapsed": false
   },
   "outputs": [
    {
     "data": {
      "text/plain": [
       "{'A': 0,\n",
       " 'B': 1,\n",
       " 'C': 1,\n",
       " 'D': 0,\n",
       " 'E': 1,\n",
       " 'F': 1,\n",
       " 'G': 0,\n",
       " 'H': 1,\n",
       " 'I': 1,\n",
       " 'J': 0,\n",
       " 'K': 1,\n",
       " 'L': 0,\n",
       " 'M': 0,\n",
       " 'N': 1,\n",
       " 'O': 2,\n",
       " 'P': 0,\n",
       " 'Q': 1,\n",
       " 'R': 1,\n",
       " 'S': 0,\n",
       " 'T': 1,\n",
       " 'U': 1,\n",
       " 'V': 0,\n",
       " 'W': 1,\n",
       " 'X': 1,\n",
       " 'Y': 0,\n",
       " 'Z': 0}"
      ]
     },
     "execution_count": 7,
     "metadata": {},
     "output_type": "execute_result"
    }
   ],
   "source": [
    "get_letter_count('the quick brown fox')"
   ]
  },
  {
   "cell_type": "markdown",
   "metadata": {},
   "source": [
    "### str.upper()"
   ]
  },
  {
   "cell_type": "code",
   "execution_count": 8,
   "metadata": {
    "collapsed": false
   },
   "outputs": [
    {
     "name": "stdout",
     "output_type": "stream",
     "text": [
      "Help on method_descriptor:\n",
      "\n",
      "upper(...)\n",
      "    S.upper() -> str\n",
      "    \n",
      "    Return a copy of S converted to uppercase.\n",
      "\n"
     ]
    }
   ],
   "source": [
    "help(str.upper)"
   ]
  },
  {
   "cell_type": "markdown",
   "metadata": {},
   "source": [
    "Takes a text, and returns the same text but with all the characters uppercase."
   ]
  },
  {
   "cell_type": "code",
   "execution_count": 9,
   "metadata": {
    "collapsed": false
   },
   "outputs": [
    {
     "data": {
      "text/plain": [
       "'THE QUICK BROWN FOX JUMPS OVER THE LAZY DOG.'"
      ]
     },
     "execution_count": 9,
     "metadata": {},
     "output_type": "execute_result"
    }
   ],
   "source": [
    "'the quick brown fox jumps over the lazy dog.'.upper()"
   ]
  }
 ],
 "metadata": {
  "kernelspec": {
   "display_name": "Python 3",
   "language": "python",
   "name": "python3"
  },
  "language_info": {
   "codemirror_mode": {
    "name": "ipython",
    "version": 3
   },
   "file_extension": ".py",
   "mimetype": "text/x-python",
   "name": "python",
   "nbconvert_exporter": "python",
   "pygments_lexer": "ipython3",
   "version": "3.4.3"
  }
 },
 "nbformat": 4,
 "nbformat_minor": 0
}
