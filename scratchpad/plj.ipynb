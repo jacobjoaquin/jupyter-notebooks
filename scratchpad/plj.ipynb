{
 "metadata": {
  "name": "",
  "signature": "sha256:1d346006a3cf8110b352cf25d64ebea91993d4f5190b619eed87030c702cab5c"
 },
 "nbformat": 3,
 "nbformat_minor": 0,
 "worksheets": [
  {
   "cells": [
    {
     "cell_type": "markdown",
     "metadata": {},
     "source": [
      "# Professional Learning - Jupyter\n",
      "\n",
      "June 22nd, 2015\n",
      "\n",
      "Loom Academics, LLC and Edison High School"
     ]
    },
    {
     "cell_type": "markdown",
     "metadata": {},
     "source": [
      "## Code Cells\n",
      "\n",
      "Code cells run code and place the output directly beneath."
     ]
    },
    {
     "cell_type": "code",
     "collapsed": false,
     "input": [
      "# This is a code cell\n",
      "print('Hello, world!')"
     ],
     "language": "python",
     "metadata": {},
     "outputs": [
      {
       "output_type": "stream",
       "stream": "stdout",
       "text": [
        "Hello, world!\n"
       ]
      }
     ],
     "prompt_number": 10
    },
    {
     "cell_type": "markdown",
     "metadata": {},
     "source": [
      "## Markdown"
     ]
    },
    {
     "cell_type": "markdown",
     "metadata": {},
     "source": [
      "### Basic Markdown\n",
      "\n",
      "`The *quick brown* fox jumps over **the lazy** dog.`\n",
      "\n",
      "The *quick brown* fox jumps over **the lazy** dog.\n",
      "\n",
      "`This is ~~strike~~ through.`\n",
      "\n",
      "This is ~~strike~~ through."
     ]
    },
    {
     "cell_type": "markdown",
     "metadata": {},
     "source": [
      "### Headings"
     ]
    },
    {
     "cell_type": "markdown",
     "metadata": {
      "slideshow": {
       "slide_type": "slide"
      }
     },
     "source": [
      "```\n",
      "# Heading 1\n",
      "\n",
      "## Heading 2\n",
      "\n",
      "### Heading 3\n",
      "\n",
      "#### Heading 4\n",
      "\n",
      "##### Heading 5\n",
      "\n",
      "###### Heading 6\n",
      "```\n",
      "\n",
      "# Heading 1\n",
      "\n",
      "## Heading 2\n",
      "\n",
      "### Heading 3\n",
      "\n",
      "#### Heading 4\n",
      "\n",
      "##### Heading 5\n",
      "\n",
      "###### Heading 6"
     ]
    },
    {
     "cell_type": "markdown",
     "metadata": {},
     "source": [
      "### Outlines\n",
      "\n",
      "#### Unordered list\n",
      "\n",
      "```\n",
      "- Beginning of my list\n",
      "- Second item\n",
      "- Third item\n",
      "    - Sub-list\n",
      "    - Item 2\n",
      "```\n",
      "\n",
      "- Beginning of my list\n",
      "- Second item\n",
      "- Third item\n",
      "    - Sub-list\n",
      "    - Item 2"
     ]
    },
    {
     "cell_type": "markdown",
     "metadata": {},
     "source": [
      "#### Ordered lists\n",
      "\n",
      "```\n",
      "1. Beginning of my ordered list\n",
      "- Item 2\n",
      "- Item 3\n",
      "    - Sub list\n",
      "- Item 4\n",
      "    1. Ordered sublist\n",
      "    - item 2\n",
      "        1. Third\n",
      "            1. 4th over\n",
      "            - item 2\n",
      "            - item 3\n",
      "            - item 4\n",
      "            - item 5\n",
      "```\n",
      "\n",
      "1. Beginning of my ordered list\n",
      "- Item 2\n",
      "- Item 3\n",
      "    - Sub list\n",
      "- Item 4\n",
      "    1. Ordered sublist\n",
      "    - item 2\n",
      "        1. Third\n",
      "            1. 4th over\n",
      "            - item 2\n",
      "            - item 3\n",
      "            - item 4\n",
      "            - item 5"
     ]
    },
    {
     "cell_type": "markdown",
     "metadata": {},
     "source": [
      "### Links"
     ]
    },
    {
     "cell_type": "markdown",
     "metadata": {},
     "source": [
      "`[link goes here](hyperlink)`\n",
      "\n",
      "[Example.com](http://example.com)\n",
      "\n",
      "The [Example.com](http://example.com) pages is an excellent temporary link to use while developing.\n",
      "\n",
      "`<example@example.com>`\n",
      "\n",
      "<example@example.com>\n",
      "\n",
      "`<http://example.com>`\n",
      "\n",
      "<http://example.com>"
     ]
    },
    {
     "cell_type": "markdown",
     "metadata": {},
     "source": [
      "### Paragraphs\n",
      "\n",
      "```\n",
      "Two line breaks are required\n",
      "to separate two paragraphcs.\n",
      "\n",
      "For example, this.\n",
      "```\n",
      "\n",
      "Two line breaks are required\n",
      "to separate two paragraphcs.\n",
      "\n",
      "For example, this."
     ]
    },
    {
     "cell_type": "markdown",
     "metadata": {},
     "source": [
      "### Displaying Code that is not meant to run"
     ]
    },
    {
     "cell_type": "markdown",
     "metadata": {},
     "source": [
      "```\n",
      "Single backticks will display words as `monospace`.  Great for talking about variable `foo` or function `bar()` within the context of a sentence.\n",
      "```\n",
      "\n",
      "Single backticks will display words as `monospace`.  Great for talking about variable `foo` or function `bar()` within the context of a sentence."
     ]
    },
    {
     "cell_type": "markdown",
     "metadata": {},
     "source": [
      "For a block of code use triple backticks.\n",
      "\n",
      "```\n",
      "# This is a block of code\n",
      "def print_helloworld():\n",
      "    print 'Hello, world'\n",
      "```"
     ]
    },
    {
     "cell_type": "markdown",
     "metadata": {},
     "source": [
      "You can specify a language after the first set of triple backticks for syntax highlighting:\n",
      "\n",
      "```python\n",
      "# This is a block of code\n",
      "def print_helloworld():\n",
      "    print 'Hello, world'\n",
      "```"
     ]
    },
    {
     "cell_type": "markdown",
     "metadata": {},
     "source": [
      "5 or more blanks spaces will create a code block.\n",
      "\n",
      "        # Two tabs will show code\n",
      "        print 'Hello, world!'"
     ]
    },
    {
     "cell_type": "markdown",
     "metadata": {},
     "source": [
      "**Important** This is a good example showcasing the difference *inline* vs. *block*"
     ]
    },
    {
     "cell_type": "markdown",
     "metadata": {},
     "source": [
      "You can *\"escape\"* some markdown with the backslash. For example \\*\\*This is not bold\\*\\*."
     ]
    },
    {
     "cell_type": "markdown",
     "metadata": {},
     "source": [
      "### Block Quotes\n",
      "\n",
      "To show a blockquotes, use the \"\\>\" symbol\n",
      "\n",
      "`> To be or not to be`\n",
      "\n",
      "> To be or not to be"
     ]
    },
    {
     "cell_type": "markdown",
     "metadata": {},
     "source": [
      "### Images\n",
      "\n",
      "`![alt text](http://simplpost.com/images/sample1.jpg)`\n",
      "\n",
      "![alt text](http://simplpost.com/images/sample1.jpg)"
     ]
    },
    {
     "cell_type": "markdown",
     "metadata": {},
     "source": [
      "### HTML is Supported\n",
      "\n",
      "```html\n",
      "<span style=\"color: red;\">This is red</span>\n",
      "```\n",
      "\n",
      "<span style=\"color: red;\">This is red</span>\n",
      "\n",
      "If you needed to<br>\n",
      "add line breaks without<br>\n",
      "creating a new paragraph<br>\n",
      "yada yada yada...."
     ]
    },
    {
     "cell_type": "markdown",
     "metadata": {},
     "source": [
      "#### CSS\n",
      "\n",
      "The &lt;style&gt; tag is not supported in markdown. Use %%html to change the behavior of the code cell to html."
     ]
    },
    {
     "cell_type": "code",
     "collapsed": false,
     "input": [
      "%%html\n",
      "<style>\n",
      ".red {\n",
      "    color: red;\n",
      "}\n",
      "</style>\n",
      "<p class=\"red\">This is red</p>"
     ],
     "language": "python",
     "metadata": {},
     "outputs": [
      {
       "html": [
        "<style>\n",
        ".red {\n",
        "    color: red;\n",
        "}\n",
        "</style>\n",
        "<p class=\"red\">This is red</p>"
       ],
       "metadata": {},
       "output_type": "display_data",
       "text": [
        "<IPython.core.display.HTML at 0x10b695690>"
       ]
      }
     ],
     "prompt_number": 2
    },
    {
     "cell_type": "markdown",
     "metadata": {},
     "source": [
      "### &lt;img&gt; tag\n",
      "\n",
      "For images, use the HTML &lt;img&gt; tag."
     ]
    },
    {
     "cell_type": "markdown",
     "metadata": {},
     "source": [
      "#### Extra space\n",
      "\n",
      "Use `&nbsp;`. For example:\n",
      "\n",
      "`This is a wide &nbsp;&nbsp;&nbsp;&nbsp;&nbsp;&nbsp;&nbsp;gap.`\n",
      "\n",
      "This is a wide &nbsp;&nbsp;&nbsp;&nbsp;&nbsp;&nbsp;&nbsp;gap."
     ]
    },
    {
     "cell_type": "markdown",
     "metadata": {},
     "source": [
      "### Tables\n",
      "\n",
      "```\n",
      "| 1 | 2 | 3 | 4 | 5 |\n",
      "|---|---|---|---|---|\n",
      "| a | d | g | j | m |\n",
      "| b | e | h | k | n |\n",
      "| c | f | i | l | o |\n",
      "```\n",
      "\n",
      "| 1 | 2 | 3 | 4 | 5 |\n",
      "|---|---|---|---|---|\n",
      "| a | d | g | j | m |\n",
      "| b | e | h | k | n |\n",
      "| c | f | i | l | o |"
     ]
    },
    {
     "cell_type": "markdown",
     "metadata": {},
     "source": [
      "# Consider Instructional Sequence"
     ]
    },
    {
     "cell_type": "markdown",
     "metadata": {},
     "source": [
      "How long?\n",
      "\n",
      "- Kyle: Safe side, two days\n",
      "- Sam: 4 days\n",
      "\n",
      "- How to approach this in class?\n",
      "    - Take existing essay, turn into Jupyter file.\n",
      "    - Poem, creative writing.\n",
      "    - Outlines in Word / Google Docs vs Jupyter\n",
      "    - Convert handout to Jupyter Markdown.\n",
      "        - Perhaps the shortcuts\n",
      "        - Historical writing or something similar.\n",
      "- Projects\n",
      "    - Requirements\n",
      "        - bold, italics, strikethroughs\n",
      "        - Headings\n",
      "        - Outlines\n",
      "        - Links (source) citing your work\n",
      "        - Paragraphs\n",
      "    - Flyers\n",
      "    - How do you make MS Word interesting?\n",
      "    - Design a class and create syllabus.\n",
      "        - Policies\n",
      "        - What's taught\n",
      "        - Expected\n",
      "        - Behavior\n",
      "        - Needs to look like syllabus.\n",
      "- Projector vs Whiteboard\n",
      "    - Whiteboard would be effective\n",
      "- Difficulties\n",
      "    - Triple backticks\n",
      "    - Code cell vs Markdown cell\n",
      "    - Escape (command vs edit mode)\n",
      "    - They want a WSYWYG\n",
      "    - Syntax Highlighting"
     ]
    }
   ],
   "metadata": {}
  }
 ]
}