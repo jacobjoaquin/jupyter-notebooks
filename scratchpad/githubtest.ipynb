{
 "cells": [
  {
   "cell_type": "markdown",
   "metadata": {},
   "source": [
    "# Jupyter Notebook on Github Test\n",
    "\n",
    "Plot:\n",
    "\n",
    "$$f(x) = -2x^3 + x^2 + 5x$$"
   ]
  },
  {
   "cell_type": "code",
   "execution_count": 1,
   "metadata": {
    "collapsed": false
   },
   "outputs": [
    {
     "data": {
      "text/plain": [
       "[<matplotlib.lines.Line2D at 0x112871a90>]"
      ]
     },
     "execution_count": 1,
     "metadata": {},
     "output_type": "execute_result"
    },
    {
     "data": {
      "image/png": "[encoded data removed]",
      "text/plain": [
       "<matplotlib.figure.Figure at 0x110371050>"
      ]
     },
     "metadata": {},
     "output_type": "display_data"
    }
   ],
   "source": [
    "import matplotlib.pyplot as plt\n",
    "import numpy as np\n",
    "%matplotlib inline\n",
    "\n",
    "def f(x):\n",
    "    return (-2 * x) ** 3 + x ** 2 + 5 * x\n",
    "\n",
    "x = np.linspace(-1, 1, 100)\n",
    "plt.plot(x, f(x))"
   ]
  },
  {
   "cell_type": "code",
   "execution_count": 2,
   "metadata": {
    "collapsed": false
   },
   "outputs": [
    {
     "data": {
      "text/html": [
       "<style>\n",
       "#brownfox {\n",
       "    color: #a05011;\n",
       "    font-size: 200%;\n",
       "    padding: 10px;\n",
       "}\n",
       "#lazydog {\n",
       "    color: #0000ff;\n",
       "    font-style: italic;\n",
       "    letter-spacing: 5px;\n",
       "    font-size: 200%;\n",
       "    padding: 10px;\n",
       "}\n",
       "</style>\n",
       "<p>The quick <span id=\"brownfox\">brown fox</span>\n",
       "jumped over the <span id=\"lazydog\">lazy dog</span>.</p>"
      ],
      "text/plain": [
       "<IPython.core.display.HTML object>"
      ]
     },
     "metadata": {},
     "output_type": "display_data"
    }
   ],
   "source": [
    "%%html\n",
    "<style>\n",
    "#brownfox {\n",
    "    color: #a05011;\n",
    "    font-size: 200%;\n",
    "    padding: 10px;\n",
    "}\n",
    "#lazydog {\n",
    "    color: #0000ff;\n",
    "    font-style: italic;\n",
    "    letter-spacing: 5px;\n",
    "    font-size: 200%;\n",
    "    padding: 10px;\n",
    "}\n",
    "</style>\n",
    "<p>The quick <span id=\"brownfox\">brown fox</span>\n",
    "jumped over the <span id=\"lazydog\">lazy dog</span>.</p>"
   ]
  },
  {
   "cell_type": "markdown",
   "metadata": {},
   "source": [
    "*sweet!*"
   ]
  }
 ],
 "metadata": {
  "kernelspec": {
   "display_name": "Python 2",
   "language": "python",
   "name": "python2"
  },
  "language_info": {
   "codemirror_mode": {
    "name": "ipython",
    "version": 2
   },
   "file_extension": ".py",
   "mimetype": "text/x-python",
   "name": "python",
   "nbconvert_exporter": "python",
   "pygments_lexer": "ipython2",
   "version": "2.7.6"
  }
 },
 "nbformat": 4,
 "nbformat_minor": 0
}
