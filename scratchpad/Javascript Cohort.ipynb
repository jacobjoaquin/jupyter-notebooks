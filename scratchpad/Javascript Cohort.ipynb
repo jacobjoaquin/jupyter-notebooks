{
 "cells": [
  {
   "cell_type": "markdown",
   "metadata": {},
   "source": [
    "# Intro to Javascript Online Cohort\n",
    "\n",
    "Incomplete. Being prepared by Jacob Joaquin for [Fresno Ideaworks](http://fresnoideaworks.org/)."
   ]
  },
  {
   "cell_type": "markdown",
   "metadata": {},
   "source": [
    "## Proposed Timeline\n",
    "\n",
    "The course will run between June 9th and July 7th. Participants will meet June 9th @ 6pm during the Tech Tuesdays Focus Group Night for orientation."
   ]
  },
  {
   "cell_type": "markdown",
   "metadata": {},
   "source": [
    "## Course Description\n",
    "\n",
    "The *Intro to Javascript Online Cohort* is a DIY approach workshop that combines the flexibility of independent study (by utilizing a well-established online programming course provided by [Khan Academy](https://www.khanacademy.org/computing/computer-programming/programming)) with in-person instructional coaching.\n",
    "\n",
    "During the week, participants will progress through Khan Academy's *Intro to JS: Drawing & Animation* on-line programming course, learning at their own pace through watching videos and completing assignments. Participants will then congregate during the Tech Tuesdays Focus Group where they will discuss and share what they've learned with others in the cohort. An instructional coach will be available in-person to address questions and provide feedback.\n",
    "\n",
    "Students will learn the following programming skills:\n",
    "\n",
    "- Drawing Basics\n",
    "- Coloring\n",
    "- Variables\n",
    "- Animation Basics\n",
    "- Text and Strings\n",
    "- Functions\n",
    "- Logic and `if` Statements\n",
    "- Looping\n",
    "- Arrays\n",
    "- Objects\n",
    "- Object-Oriented Design\n",
    "\n",
    "The workshop is lead by Jacob Joaquin, Co-Founder of [Loom Academics](http://loomacademics.com/) and founding member of [Fresno Ideaworks](http://fresnoideaworks.org/)."
   ]
  },
  {
   "cell_type": "markdown",
   "metadata": {},
   "source": [
    "### Requirements\n",
    "\n",
    "Participants require a computer with internet acccess with YouTube viewing capabilities, an email address, and an account at Khan Academy."
   ]
  },
  {
   "cell_type": "markdown",
   "metadata": {},
   "source": [
    "### About the Instructional Coach\n",
    "\n",
    "Jacob Joaquin started learning computer programming in the early 1980s on a BASIC cartridge for the Atari 400. During the pre-World Wide Web era, he hosted his own electronic Bulletin Board System specializing in file-trading original music. He received a Music Synthesis Degree from Berklee College of music, and a Master's Degree in Composition: New Media from the California Institute of the Arts. As a computer programmer he has worked for Blip and as an independent contractor for MakerBot Industries. Jacob is an active participant in the Maker Movement being a founding member of two Hackerspaces: Hack Rock City, an international collaborative of artists and makers, and Fresno Ideaworks, a local community makerspace. He is a contributing author to the upcoming MITPress book Csound Applied. Jacob is CEO and Co-founder of [Loom Academics](http://loomacademics.com/), a company that specializes is designing cohesive interdisciplinary curriculum for tech literacy."
   ]
  },
  {
   "cell_type": "markdown",
   "metadata": {},
   "source": [
    "## Logistics\n",
    "\n",
    "A Fresno Ideaworks instructional coach will setup a private online class at Khan Academy in which participants join. During the week, participants will utilize their personal computers to watch videos and complete assignments at their own pace. Participants are then encourages to meet with instructional coaches; Fresno Ideaworks will provide a forum during Tech Tuesdays in which participants can ask questions in person, demonstrate their projects, and share what they've learned with others in the cohort. By the end of the first Khan Academy course, they will have knowledge of early Computer Science fundamentals as well as have completed a handful of basic projects."
   ]
  },
  {
   "cell_type": "markdown",
   "metadata": {},
   "source": [
    "###  Why an Online Cohort?\n",
    "\n",
    "There has been an influx in requests for programming workshops at Fresno Ideaworks. However, the shop currently doesn't have the capacity or equipment. The lack of a computer lab is the obvious reason, and there may not be a computer lab for the forseeable future. In addition to logistical concerns, the primary focus of Fresno Ideaworks is hardware, and purely focused programming classes are better suited for Bitwise."
   ]
  },
  {
   "cell_type": "markdown",
   "metadata": {},
   "source": [
    "# Proposal Requirements for the Board\n",
    "\n",
    "- Number of Students - 1 or more.\n",
    "- Age of Students - Potentially any age. Check with board about students under 18.\n",
    "- Skill Level - No prior experience required.\n",
    "- Mix of Skill Level - Any skill level, but most likely beginnier.\n",
    "- Cost to run - \\$0.00\n",
    "- Desired Instructor Pay Per Student - \\$0.00\n",
    "- Special Space Requirements - None. Instructional coaches will meet with students as part of Tech Tuesdays.\n",
    "- Time Per Session - N/A. Instuctional coaching will be done on an \"as needed\" basis.\n",
    "- Number of Sessions - An instructional coach will be present for four concesutive Tech Tuesdays."
   ]
  }
 ],
 "metadata": {
  "kernelspec": {
   "display_name": "Python 3",
   "language": "python",
   "name": "python3"
  },
  "language_info": {
   "codemirror_mode": {
    "name": "ipython",
    "version": 3
   },
   "file_extension": ".py",
   "mimetype": "text/x-python",
   "name": "python",
   "nbconvert_exporter": "python",
   "pygments_lexer": "ipython3",
   "version": "3.4.3"
  }
 },
 "nbformat": 4,
 "nbformat_minor": 0
}
