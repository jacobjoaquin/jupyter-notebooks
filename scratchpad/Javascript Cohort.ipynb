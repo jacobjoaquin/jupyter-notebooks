{
 "cells": [
  {
   "cell_type": "markdown",
   "metadata": {},
   "source": [
    "# Intro to Programming w/ Javascript Online Cohort (pre-proposal)\n",
    "\n",
    "Incomplete. Being prepared by [Jacob Joaquin](jacobjoaquin@gmail.com) for [Fresno Ideaworks](http://fresnoideaworks.org/)."
   ]
  },
  {
   "cell_type": "markdown",
   "metadata": {},
   "source": [
    "## Description of Course\n",
    "\n",
    "The *Intro to Programming w/ Javascript Online Cohort* is an experimental program for Fresno Ideaworks that combines the flexibility of independent study utilizing a pre-established online programming course provided by [Khan Academy](https://www.khanacademy.org/computing/computer-programming) with in-person instructional coaching that takes place during the Tech Tuesdays Focus Group.\n",
    "\n",
    "A Fresno Ideaworks instructional coach will setup a private online class at Khan Academy in which participants join. During the week, participants will utilize their personal computers to watch videos and complete assignments at their own pace. Participants are then encourages to meet with instructional coaches; Fresno Ideaworks will provide a forum during Tech Tuesdays in which participants can ask questions in person, demonstrate their projects, and share what they've learned with others in the cohort. By the end of the first Khan Academy course, they will have knowledge of early Computer Science fundamentals as well as have completed a handful of basic projects."
   ]
  },
  {
   "cell_type": "markdown",
   "metadata": {},
   "source": [
    "###  Why an Online Cohort?\n",
    "\n",
    "There has been an influx in requests for programming workshops at Fresno Ideaworks. However, the shop currently doesn't have the capacity. The lack of a computer lab is the obvious reason, and there may not be a computer lab for the forseeable future. In addition to logistical concerns, the primary focus of Fresno Ideaworks is hardware, and purely focused programming classes are better suited for Bitwise."
   ]
  },
  {
   "cell_type": "markdown",
   "metadata": {},
   "source": [
    "# Proposal Requirements for the Board\n",
    "\n",
    "- Number of Students - 1 or more.\n",
    "- Age of Students - Potentially any age. Check with board about students under 18.\n",
    "- Skill Level - No prior experience required.\n",
    "- Mix of Skill Level - Any skill level, but most likely beginnier.\n",
    "- Cost to run - \\$0.00\n",
    "- Desired Instructor Pay Per Student - \\$0.00\n",
    "- Special Space Requirements - None. Instructional coaches will meet with students as part of Tech Tuesdays.\n",
    "- Time Per Session - N/A. Instuctional coaching will be done on an \"as needed\" basis.\n",
    "- Number of Sessions - An instructional coach will be present for four concesutive Tech Tuesdays."
   ]
  }
 ],
 "metadata": {
  "kernelspec": {
   "display_name": "Python 3",
   "language": "python",
   "name": "python3"
  },
  "language_info": {
   "codemirror_mode": {
    "name": "ipython",
    "version": 3
   },
   "file_extension": ".py",
   "mimetype": "text/x-python",
   "name": "python",
   "nbconvert_exporter": "python",
   "pygments_lexer": "ipython3",
   "version": "3.4.3"
  }
 },
 "nbformat": 4,
 "nbformat_minor": 0
}
